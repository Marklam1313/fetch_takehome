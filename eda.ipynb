{
 "cells": [
  {
   "cell_type": "markdown",
   "metadata": {},
   "source": [
    "## 1. Explore the data"
   ]
  },
  {
   "cell_type": "code",
   "execution_count": 1,
   "metadata": {},
   "outputs": [],
   "source": [
    "import pandas as pd\n",
    "import numpy as np"
   ]
  },
  {
   "cell_type": "code",
   "execution_count": 2,
   "metadata": {},
   "outputs": [],
   "source": [
    "# Load data\n",
    "users_df = pd.read_csv('./data/USER_TAKEHOME.csv')\n",
    "products_df = pd.read_csv('./data/PRODUCTS_TAKEHOME.csv')\n",
    "transactions_df = pd.read_csv('./data/TRANSACTION_TAKEHOME.csv')\n"
   ]
  },
  {
   "cell_type": "markdown",
   "metadata": {},
   "source": [
    "### 1a. Data quality issues"
   ]
  },
  {
   "cell_type": "markdown",
   "metadata": {},
   "source": [
    "#### Users table"
   ]
  },
  {
   "cell_type": "markdown",
   "metadata": {},
   "source": [
    "##### Overall"
   ]
  },
  {
   "cell_type": "code",
   "execution_count": 3,
   "metadata": {},
   "outputs": [
    {
     "data": {
      "text/html": [
       "<div>\n",
       "<style scoped>\n",
       "    .dataframe tbody tr th:only-of-type {\n",
       "        vertical-align: middle;\n",
       "    }\n",
       "\n",
       "    .dataframe tbody tr th {\n",
       "        vertical-align: top;\n",
       "    }\n",
       "\n",
       "    .dataframe thead th {\n",
       "        text-align: right;\n",
       "    }\n",
       "</style>\n",
       "<table border=\"1\" class=\"dataframe\">\n",
       "  <thead>\n",
       "    <tr style=\"text-align: right;\">\n",
       "      <th></th>\n",
       "      <th>ID</th>\n",
       "      <th>CREATED_DATE</th>\n",
       "      <th>BIRTH_DATE</th>\n",
       "      <th>STATE</th>\n",
       "      <th>LANGUAGE</th>\n",
       "      <th>GENDER</th>\n",
       "    </tr>\n",
       "  </thead>\n",
       "  <tbody>\n",
       "    <tr>\n",
       "      <th>0</th>\n",
       "      <td>5ef3b4f17053ab141787697d</td>\n",
       "      <td>2020-06-24 20:17:54.000 Z</td>\n",
       "      <td>2000-08-11 00:00:00.000 Z</td>\n",
       "      <td>CA</td>\n",
       "      <td>es-419</td>\n",
       "      <td>female</td>\n",
       "    </tr>\n",
       "    <tr>\n",
       "      <th>1</th>\n",
       "      <td>5ff220d383fcfc12622b96bc</td>\n",
       "      <td>2021-01-03 19:53:55.000 Z</td>\n",
       "      <td>2001-09-24 04:00:00.000 Z</td>\n",
       "      <td>PA</td>\n",
       "      <td>en</td>\n",
       "      <td>female</td>\n",
       "    </tr>\n",
       "    <tr>\n",
       "      <th>2</th>\n",
       "      <td>6477950aa55bb77a0e27ee10</td>\n",
       "      <td>2023-05-31 18:42:18.000 Z</td>\n",
       "      <td>1994-10-28 00:00:00.000 Z</td>\n",
       "      <td>FL</td>\n",
       "      <td>es-419</td>\n",
       "      <td>female</td>\n",
       "    </tr>\n",
       "    <tr>\n",
       "      <th>3</th>\n",
       "      <td>658a306e99b40f103b63ccf8</td>\n",
       "      <td>2023-12-26 01:46:22.000 Z</td>\n",
       "      <td>NaN</td>\n",
       "      <td>NC</td>\n",
       "      <td>en</td>\n",
       "      <td>NaN</td>\n",
       "    </tr>\n",
       "    <tr>\n",
       "      <th>4</th>\n",
       "      <td>653cf5d6a225ea102b7ecdc2</td>\n",
       "      <td>2023-10-28 11:51:50.000 Z</td>\n",
       "      <td>1972-03-19 00:00:00.000 Z</td>\n",
       "      <td>PA</td>\n",
       "      <td>en</td>\n",
       "      <td>female</td>\n",
       "    </tr>\n",
       "    <tr>\n",
       "      <th>5</th>\n",
       "      <td>5fe2b6f3ad416a1265c4ab68</td>\n",
       "      <td>2020-12-23 03:18:11.000 Z</td>\n",
       "      <td>1999-10-27 04:00:00.000 Z</td>\n",
       "      <td>NY</td>\n",
       "      <td>en</td>\n",
       "      <td>female</td>\n",
       "    </tr>\n",
       "    <tr>\n",
       "      <th>6</th>\n",
       "      <td>651210546816bb4d035b1ead</td>\n",
       "      <td>2023-09-25 22:57:24.000 Z</td>\n",
       "      <td>1983-09-25 22:57:25.000 Z</td>\n",
       "      <td>FL</td>\n",
       "      <td>es-419</td>\n",
       "      <td>male</td>\n",
       "    </tr>\n",
       "    <tr>\n",
       "      <th>7</th>\n",
       "      <td>642831ea3d4434e63c1936fd</td>\n",
       "      <td>2023-04-01 13:30:18.000 Z</td>\n",
       "      <td>1970-02-16 05:00:00.000 Z</td>\n",
       "      <td>IN</td>\n",
       "      <td>en</td>\n",
       "      <td>female</td>\n",
       "    </tr>\n",
       "    <tr>\n",
       "      <th>8</th>\n",
       "      <td>63a4c9a1b5f32149b9d82f9e</td>\n",
       "      <td>2022-12-22 21:18:25.000 Z</td>\n",
       "      <td>1982-12-22 05:00:00.000 Z</td>\n",
       "      <td>NC</td>\n",
       "      <td>en</td>\n",
       "      <td>female</td>\n",
       "    </tr>\n",
       "    <tr>\n",
       "      <th>9</th>\n",
       "      <td>63654b21d02459d8a57a2e2c</td>\n",
       "      <td>2022-11-04 17:25:53.000 Z</td>\n",
       "      <td>1992-05-03 04:00:00.000 Z</td>\n",
       "      <td>NY</td>\n",
       "      <td>en</td>\n",
       "      <td>non_binary</td>\n",
       "    </tr>\n",
       "  </tbody>\n",
       "</table>\n",
       "</div>"
      ],
      "text/plain": [
       "                         ID               CREATED_DATE  \\\n",
       "0  5ef3b4f17053ab141787697d  2020-06-24 20:17:54.000 Z   \n",
       "1  5ff220d383fcfc12622b96bc  2021-01-03 19:53:55.000 Z   \n",
       "2  6477950aa55bb77a0e27ee10  2023-05-31 18:42:18.000 Z   \n",
       "3  658a306e99b40f103b63ccf8  2023-12-26 01:46:22.000 Z   \n",
       "4  653cf5d6a225ea102b7ecdc2  2023-10-28 11:51:50.000 Z   \n",
       "5  5fe2b6f3ad416a1265c4ab68  2020-12-23 03:18:11.000 Z   \n",
       "6  651210546816bb4d035b1ead  2023-09-25 22:57:24.000 Z   \n",
       "7  642831ea3d4434e63c1936fd  2023-04-01 13:30:18.000 Z   \n",
       "8  63a4c9a1b5f32149b9d82f9e  2022-12-22 21:18:25.000 Z   \n",
       "9  63654b21d02459d8a57a2e2c  2022-11-04 17:25:53.000 Z   \n",
       "\n",
       "                  BIRTH_DATE STATE LANGUAGE      GENDER  \n",
       "0  2000-08-11 00:00:00.000 Z    CA   es-419      female  \n",
       "1  2001-09-24 04:00:00.000 Z    PA       en      female  \n",
       "2  1994-10-28 00:00:00.000 Z    FL   es-419      female  \n",
       "3                        NaN    NC       en         NaN  \n",
       "4  1972-03-19 00:00:00.000 Z    PA       en      female  \n",
       "5  1999-10-27 04:00:00.000 Z    NY       en      female  \n",
       "6  1983-09-25 22:57:25.000 Z    FL   es-419        male  \n",
       "7  1970-02-16 05:00:00.000 Z    IN       en      female  \n",
       "8  1982-12-22 05:00:00.000 Z    NC       en      female  \n",
       "9  1992-05-03 04:00:00.000 Z    NY       en  non_binary  "
      ]
     },
     "execution_count": 3,
     "metadata": {},
     "output_type": "execute_result"
    }
   ],
   "source": [
    "users_df.head(10)"
   ]
  },
  {
   "cell_type": "code",
   "execution_count": 4,
   "metadata": {},
   "outputs": [
    {
     "name": "stdout",
     "output_type": "stream",
     "text": [
      "<class 'pandas.core.frame.DataFrame'>\n",
      "RangeIndex: 100000 entries, 0 to 99999\n",
      "Data columns (total 6 columns):\n",
      " #   Column        Non-Null Count   Dtype \n",
      "---  ------        --------------   ----- \n",
      " 0   ID            100000 non-null  object\n",
      " 1   CREATED_DATE  100000 non-null  object\n",
      " 2   BIRTH_DATE    96325 non-null   object\n",
      " 3   STATE         95188 non-null   object\n",
      " 4   LANGUAGE      69492 non-null   object\n",
      " 5   GENDER        94108 non-null   object\n",
      "dtypes: object(6)\n",
      "memory usage: 4.6+ MB\n"
     ]
    }
   ],
   "source": [
    "users_df.info()"
   ]
  },
  {
   "cell_type": "markdown",
   "metadata": {},
   "source": [
    "There are some null values, and the data type could be modified, such as datetime for date related columns"
   ]
  },
  {
   "cell_type": "code",
   "execution_count": 5,
   "metadata": {},
   "outputs": [
    {
     "data": {
      "text/plain": [
       "ID                  0\n",
       "CREATED_DATE        0\n",
       "BIRTH_DATE       3675\n",
       "STATE            4812\n",
       "LANGUAGE        30508\n",
       "GENDER           5892\n",
       "dtype: int64"
      ]
     },
     "execution_count": 5,
     "metadata": {},
     "output_type": "execute_result"
    }
   ],
   "source": [
    "# Check if there is any null value in each column\n",
    "users_df.isnull().sum()"
   ]
  },
  {
   "cell_type": "markdown",
   "metadata": {},
   "source": [
    "There are some null values in BITRTH_DATE, STATE, LANGUAGE and GENDER."
   ]
  },
  {
   "cell_type": "code",
   "execution_count": 6,
   "metadata": {},
   "outputs": [],
   "source": [
    "# Create a copy to clean the users dataframe\n",
    "clean_users_df = users_df.copy()"
   ]
  },
  {
   "cell_type": "markdown",
   "metadata": {},
   "source": [
    "##### ID"
   ]
  },
  {
   "cell_type": "code",
   "execution_count": 7,
   "metadata": {},
   "outputs": [
    {
     "data": {
      "text/plain": [
       "0"
      ]
     },
     "execution_count": 7,
     "metadata": {},
     "output_type": "execute_result"
    }
   ],
   "source": [
    "# Check if there is any duplicated value in ID column\n",
    "clean_users_df.ID.duplicated().sum()"
   ]
  },
  {
   "cell_type": "markdown",
   "metadata": {},
   "source": [
    "There is no duplicated value and missing value in ID."
   ]
  },
  {
   "cell_type": "markdown",
   "metadata": {},
   "source": [
    "##### CREATED_DATETIME"
   ]
  },
  {
   "cell_type": "markdown",
   "metadata": {},
   "source": [
    "**Data quality issue #1**: CREATED_DATETIME should be in `datetime` data type instead of `string`. "
   ]
  },
  {
   "cell_type": "code",
   "execution_count": 8,
   "metadata": {},
   "outputs": [],
   "source": [
    "# Change format of CREATED_DATE and create a new column to store the data\n",
    "clean_users_df['CREATED_DATE'] = pd.to_datetime(clean_users_df.CREATED_DATE, errors='coerce') \n",
    "# returns 'NaT' if not a time"
   ]
  },
  {
   "cell_type": "code",
   "execution_count": 9,
   "metadata": {},
   "outputs": [
    {
     "name": "stdout",
     "output_type": "stream",
     "text": [
      "<class 'pandas.core.frame.DataFrame'>\n",
      "RangeIndex: 100000 entries, 0 to 99999\n",
      "Data columns (total 6 columns):\n",
      " #   Column        Non-Null Count   Dtype              \n",
      "---  ------        --------------   -----              \n",
      " 0   ID            100000 non-null  object             \n",
      " 1   CREATED_DATE  100000 non-null  datetime64[ns, UTC]\n",
      " 2   BIRTH_DATE    96325 non-null   object             \n",
      " 3   STATE         95188 non-null   object             \n",
      " 4   LANGUAGE      69492 non-null   object             \n",
      " 5   GENDER        94108 non-null   object             \n",
      "dtypes: datetime64[ns, UTC](1), object(5)\n",
      "memory usage: 4.6+ MB\n"
     ]
    }
   ],
   "source": [
    "clean_users_df.info()"
   ]
  },
  {
   "cell_type": "markdown",
   "metadata": {},
   "source": [
    "##### BIRTH_DATE"
   ]
  },
  {
   "cell_type": "markdown",
   "metadata": {},
   "source": [
    "**Data quality issue #2**: BIRTH_DATE should be in `datetime` data type instead of `string`. "
   ]
  },
  {
   "cell_type": "code",
   "execution_count": 10,
   "metadata": {},
   "outputs": [],
   "source": [
    "# Extract date only from BIRTH_DATE and create a new column to store the data\n",
    "clean_users_df['BIRTH_DATE'] = pd.to_datetime(clean_users_df.BIRTH_DATE, errors='coerce')\n",
    "# returns 'NaT' if not a time"
   ]
  },
  {
   "cell_type": "code",
   "execution_count": 11,
   "metadata": {},
   "outputs": [
    {
     "name": "stdout",
     "output_type": "stream",
     "text": [
      "<class 'pandas.core.frame.DataFrame'>\n",
      "RangeIndex: 100000 entries, 0 to 99999\n",
      "Data columns (total 6 columns):\n",
      " #   Column        Non-Null Count   Dtype              \n",
      "---  ------        --------------   -----              \n",
      " 0   ID            100000 non-null  object             \n",
      " 1   CREATED_DATE  100000 non-null  datetime64[ns, UTC]\n",
      " 2   BIRTH_DATE    96325 non-null   datetime64[ns, UTC]\n",
      " 3   STATE         95188 non-null   object             \n",
      " 4   LANGUAGE      69492 non-null   object             \n",
      " 5   GENDER        94108 non-null   object             \n",
      "dtypes: datetime64[ns, UTC](2), object(4)\n",
      "memory usage: 4.6+ MB\n"
     ]
    }
   ],
   "source": [
    "clean_users_df.info()"
   ]
  },
  {
   "cell_type": "code",
   "execution_count": 12,
   "metadata": {},
   "outputs": [
    {
     "data": {
      "text/html": [
       "<div>\n",
       "<style scoped>\n",
       "    .dataframe tbody tr th:only-of-type {\n",
       "        vertical-align: middle;\n",
       "    }\n",
       "\n",
       "    .dataframe tbody tr th {\n",
       "        vertical-align: top;\n",
       "    }\n",
       "\n",
       "    .dataframe thead th {\n",
       "        text-align: right;\n",
       "    }\n",
       "</style>\n",
       "<table border=\"1\" class=\"dataframe\">\n",
       "  <thead>\n",
       "    <tr style=\"text-align: right;\">\n",
       "      <th></th>\n",
       "      <th>ID</th>\n",
       "      <th>CREATED_DATE</th>\n",
       "      <th>BIRTH_DATE</th>\n",
       "      <th>STATE</th>\n",
       "      <th>LANGUAGE</th>\n",
       "      <th>GENDER</th>\n",
       "    </tr>\n",
       "  </thead>\n",
       "  <tbody>\n",
       "    <tr>\n",
       "      <th>0</th>\n",
       "      <td>5ef3b4f17053ab141787697d</td>\n",
       "      <td>2020-06-24 20:17:54+00:00</td>\n",
       "      <td>2000-08-11 00:00:00+00:00</td>\n",
       "      <td>CA</td>\n",
       "      <td>es-419</td>\n",
       "      <td>female</td>\n",
       "    </tr>\n",
       "    <tr>\n",
       "      <th>1</th>\n",
       "      <td>5ff220d383fcfc12622b96bc</td>\n",
       "      <td>2021-01-03 19:53:55+00:00</td>\n",
       "      <td>2001-09-24 04:00:00+00:00</td>\n",
       "      <td>PA</td>\n",
       "      <td>en</td>\n",
       "      <td>female</td>\n",
       "    </tr>\n",
       "    <tr>\n",
       "      <th>2</th>\n",
       "      <td>6477950aa55bb77a0e27ee10</td>\n",
       "      <td>2023-05-31 18:42:18+00:00</td>\n",
       "      <td>1994-10-28 00:00:00+00:00</td>\n",
       "      <td>FL</td>\n",
       "      <td>es-419</td>\n",
       "      <td>female</td>\n",
       "    </tr>\n",
       "    <tr>\n",
       "      <th>3</th>\n",
       "      <td>658a306e99b40f103b63ccf8</td>\n",
       "      <td>2023-12-26 01:46:22+00:00</td>\n",
       "      <td>NaT</td>\n",
       "      <td>NC</td>\n",
       "      <td>en</td>\n",
       "      <td>NaN</td>\n",
       "    </tr>\n",
       "    <tr>\n",
       "      <th>4</th>\n",
       "      <td>653cf5d6a225ea102b7ecdc2</td>\n",
       "      <td>2023-10-28 11:51:50+00:00</td>\n",
       "      <td>1972-03-19 00:00:00+00:00</td>\n",
       "      <td>PA</td>\n",
       "      <td>en</td>\n",
       "      <td>female</td>\n",
       "    </tr>\n",
       "    <tr>\n",
       "      <th>...</th>\n",
       "      <td>...</td>\n",
       "      <td>...</td>\n",
       "      <td>...</td>\n",
       "      <td>...</td>\n",
       "      <td>...</td>\n",
       "      <td>...</td>\n",
       "    </tr>\n",
       "    <tr>\n",
       "      <th>99995</th>\n",
       "      <td>61fc06d41febf771966da8fa</td>\n",
       "      <td>2022-02-03 16:46:12+00:00</td>\n",
       "      <td>1992-03-16 08:00:00+00:00</td>\n",
       "      <td>CA</td>\n",
       "      <td>en</td>\n",
       "      <td>female</td>\n",
       "    </tr>\n",
       "    <tr>\n",
       "      <th>99996</th>\n",
       "      <td>6391e7ef90ad5449ec5f782d</td>\n",
       "      <td>2022-12-08 13:34:39+00:00</td>\n",
       "      <td>1993-09-23 05:00:00+00:00</td>\n",
       "      <td>MO</td>\n",
       "      <td>en</td>\n",
       "      <td>female</td>\n",
       "    </tr>\n",
       "    <tr>\n",
       "      <th>99997</th>\n",
       "      <td>637d5efdd6f2a49c49934dcb</td>\n",
       "      <td>2022-11-22 23:45:05+00:00</td>\n",
       "      <td>1983-04-19 00:00:00+00:00</td>\n",
       "      <td>RI</td>\n",
       "      <td>en</td>\n",
       "      <td>female</td>\n",
       "    </tr>\n",
       "    <tr>\n",
       "      <th>99998</th>\n",
       "      <td>5f0de23b05d8a6147dc0cafa</td>\n",
       "      <td>2020-07-14 16:50:04+00:00</td>\n",
       "      <td>1995-06-09 04:00:00+00:00</td>\n",
       "      <td>DE</td>\n",
       "      <td>en</td>\n",
       "      <td>female</td>\n",
       "    </tr>\n",
       "    <tr>\n",
       "      <th>99999</th>\n",
       "      <td>5e7ab436905e9512ff44abc8</td>\n",
       "      <td>2020-03-25 01:30:30+00:00</td>\n",
       "      <td>1995-12-15 05:00:00+00:00</td>\n",
       "      <td>VA</td>\n",
       "      <td>NaN</td>\n",
       "      <td>female</td>\n",
       "    </tr>\n",
       "  </tbody>\n",
       "</table>\n",
       "<p>100000 rows × 6 columns</p>\n",
       "</div>"
      ],
      "text/plain": [
       "                             ID              CREATED_DATE  \\\n",
       "0      5ef3b4f17053ab141787697d 2020-06-24 20:17:54+00:00   \n",
       "1      5ff220d383fcfc12622b96bc 2021-01-03 19:53:55+00:00   \n",
       "2      6477950aa55bb77a0e27ee10 2023-05-31 18:42:18+00:00   \n",
       "3      658a306e99b40f103b63ccf8 2023-12-26 01:46:22+00:00   \n",
       "4      653cf5d6a225ea102b7ecdc2 2023-10-28 11:51:50+00:00   \n",
       "...                         ...                       ...   \n",
       "99995  61fc06d41febf771966da8fa 2022-02-03 16:46:12+00:00   \n",
       "99996  6391e7ef90ad5449ec5f782d 2022-12-08 13:34:39+00:00   \n",
       "99997  637d5efdd6f2a49c49934dcb 2022-11-22 23:45:05+00:00   \n",
       "99998  5f0de23b05d8a6147dc0cafa 2020-07-14 16:50:04+00:00   \n",
       "99999  5e7ab436905e9512ff44abc8 2020-03-25 01:30:30+00:00   \n",
       "\n",
       "                     BIRTH_DATE STATE LANGUAGE  GENDER  \n",
       "0     2000-08-11 00:00:00+00:00    CA   es-419  female  \n",
       "1     2001-09-24 04:00:00+00:00    PA       en  female  \n",
       "2     1994-10-28 00:00:00+00:00    FL   es-419  female  \n",
       "3                           NaT    NC       en     NaN  \n",
       "4     1972-03-19 00:00:00+00:00    PA       en  female  \n",
       "...                         ...   ...      ...     ...  \n",
       "99995 1992-03-16 08:00:00+00:00    CA       en  female  \n",
       "99996 1993-09-23 05:00:00+00:00    MO       en  female  \n",
       "99997 1983-04-19 00:00:00+00:00    RI       en  female  \n",
       "99998 1995-06-09 04:00:00+00:00    DE       en  female  \n",
       "99999 1995-12-15 05:00:00+00:00    VA      NaN  female  \n",
       "\n",
       "[100000 rows x 6 columns]"
      ]
     },
     "execution_count": 12,
     "metadata": {},
     "output_type": "execute_result"
    }
   ],
   "source": [
    "clean_users_df"
   ]
  },
  {
   "cell_type": "markdown",
   "metadata": {},
   "source": [
    "There are also missing values in BIRTH_DATE. But if users didn't provide their BIRTH_DATE, we could not do anything about it. We should not remove the rows or impute the values.\n",
    "\n",
    "Since we changed the data type of BIRTH_DATE as datetime, when there is a non-datetime value, ie NaN, it would result in a null value. Therefore there are some null values in BIRTH_DATE column."
   ]
  },
  {
   "cell_type": "markdown",
   "metadata": {},
   "source": [
    "Since we have the BIRTH_DATE of our users, we can look into the demographic of our users."
   ]
  },
  {
   "cell_type": "code",
   "execution_count": 145,
   "metadata": {},
   "outputs": [
    {
     "data": {
      "text/html": [
       "<div>\n",
       "<style scoped>\n",
       "    .dataframe tbody tr th:only-of-type {\n",
       "        vertical-align: middle;\n",
       "    }\n",
       "\n",
       "    .dataframe tbody tr th {\n",
       "        vertical-align: top;\n",
       "    }\n",
       "\n",
       "    .dataframe thead th {\n",
       "        text-align: right;\n",
       "    }\n",
       "</style>\n",
       "<table border=\"1\" class=\"dataframe\">\n",
       "  <thead>\n",
       "    <tr style=\"text-align: right;\">\n",
       "      <th></th>\n",
       "      <th>BIRTH_DATE</th>\n",
       "      <th>AGE</th>\n",
       "    </tr>\n",
       "  </thead>\n",
       "  <tbody>\n",
       "    <tr>\n",
       "      <th>0</th>\n",
       "      <td>2000-08-11 00:00:00+00:00</td>\n",
       "      <td>24.0</td>\n",
       "    </tr>\n",
       "    <tr>\n",
       "      <th>1</th>\n",
       "      <td>2001-09-24 04:00:00+00:00</td>\n",
       "      <td>23.0</td>\n",
       "    </tr>\n",
       "    <tr>\n",
       "      <th>2</th>\n",
       "      <td>1994-10-28 00:00:00+00:00</td>\n",
       "      <td>30.0</td>\n",
       "    </tr>\n",
       "    <tr>\n",
       "      <th>3</th>\n",
       "      <td>NaT</td>\n",
       "      <td>NaN</td>\n",
       "    </tr>\n",
       "    <tr>\n",
       "      <th>4</th>\n",
       "      <td>1972-03-19 00:00:00+00:00</td>\n",
       "      <td>52.0</td>\n",
       "    </tr>\n",
       "  </tbody>\n",
       "</table>\n",
       "</div>"
      ],
      "text/plain": [
       "                 BIRTH_DATE   AGE\n",
       "0 2000-08-11 00:00:00+00:00  24.0\n",
       "1 2001-09-24 04:00:00+00:00  23.0\n",
       "2 1994-10-28 00:00:00+00:00  30.0\n",
       "3                       NaT   NaN\n",
       "4 1972-03-19 00:00:00+00:00  52.0"
      ]
     },
     "execution_count": 145,
     "metadata": {},
     "output_type": "execute_result"
    }
   ],
   "source": [
    "from datetime import datetime\n",
    "\n",
    "# create AGE column\n",
    "today = datetime.today()\n",
    "\n",
    "clean_users_df['AGE'] = clean_users_df['BIRTH_DATE'].apply(\n",
    "    lambda x: today.year - x.year - ((today.month, today.day) < (x.month, x.day)) if pd.notnull(x) else None)\n",
    "\n",
    "clean_users_df[['BIRTH_DATE', 'AGE']].head()"
   ]
  },
  {
   "cell_type": "code",
   "execution_count": 146,
   "metadata": {},
   "outputs": [],
   "source": [
    "# change the data type of AGE column to integer\n",
    "clean_users_df['AGE'] = clean_users_df['AGE'].astype('Int64')"
   ]
  },
  {
   "cell_type": "code",
   "execution_count": 14,
   "metadata": {},
   "outputs": [],
   "source": [
    "# define function to categorize users into different age groups\n",
    "def categorize_age(age:float) -> str:\n",
    "    \"\"\"\n",
    "    Create mapping for age column, this could be further extended if more \n",
    "    accurate analysis is required\n",
    "\n",
    "    Parameters:\n",
    "    age (float): Age value to be recognised for age group.\n",
    "\n",
    "    Returns:\n",
    "    str: Formatted age group\n",
    "    \"\"\"\n",
    "    if age is None or pd.isnull(age):\n",
    "        return \"Unknown\"\n",
    "    elif age < 18:\n",
    "        return \"< 18\"\n",
    "    elif age <= 30:\n",
    "        return \"18 - 30\"\n",
    "    elif age <= 40:\n",
    "        return \"31 - 40\"\n",
    "    elif age <= 50:\n",
    "        return \"41 - 50\"\n",
    "    else:\n",
    "        return \"> 50\""
   ]
  },
  {
   "cell_type": "code",
   "execution_count": 15,
   "metadata": {},
   "outputs": [],
   "source": [
    "# apply the function defined above\n",
    "clean_users_df['AGE_GROUP'] = clean_users_df['AGE'].apply(categorize_age)"
   ]
  },
  {
   "cell_type": "code",
   "execution_count": 16,
   "metadata": {},
   "outputs": [
    {
     "data": {
      "image/png": "[encoded data removed]",
      "text/plain": [
       "<Figure size 576x360 with 1 Axes>"
      ]
     },
     "metadata": {
      "needs_background": "light"
     },
     "output_type": "display_data"
    }
   ],
   "source": [
    "# visualize users' demographic\n",
    "import matplotlib.pyplot as plt\n",
    "\n",
    "age_group_order = [\"< 18\", \"18 - 30\", \"31 - 40\", \"41 - 50\", \"> 50\", 'Unknown']\n",
    "\n",
    "age_group_counts = clean_users_df['AGE_GROUP'].value_counts().reindex(age_group_order)\n",
    "\n",
    "\n",
    "# plot the demographic distribution\n",
    "plt.figure(figsize=(8, 5))\n",
    "age_group_counts.plot(kind='bar')\n",
    "plt.title(\"User Demographics by Age Group\", fontsize=16)\n",
    "plt.xlabel(\"Age Group\", fontsize=12)\n",
    "plt.ylabel(\"Number of Users\", fontsize=12)\n",
    "plt.xticks(rotation=45)\n",
    "plt.grid(axis='y', linestyle='--', alpha=0.7)\n",
    "plt.tight_layout()\n",
    "plt.show()"
   ]
  },
  {
   "cell_type": "markdown",
   "metadata": {},
   "source": [
    "We can see that most of our users belong to the age group 18 - 30, while the second largest age group is > 50. We have a broad range of target users from younger generation to older generation."
   ]
  },
  {
   "cell_type": "markdown",
   "metadata": {},
   "source": [
    "##### STATE"
   ]
  },
  {
   "cell_type": "markdown",
   "metadata": {},
   "source": [
    "**Data quality issue #3**: Categorical columns (ie STATE, LANGUAGE, GENDER) have missing values. Their data formats could be modified to category for better analysis efficiency"
   ]
  },
  {
   "cell_type": "code",
   "execution_count": 17,
   "metadata": {},
   "outputs": [],
   "source": [
    "# Fill null values with 'unknown' for categorical columns\n",
    "clean_users_df.fillna({\n",
    "    'STATE': 'unknown',\n",
    "    'LANGUAGE': 'unknown',\n",
    "    'GENDER': 'unknown'\n",
    "}, inplace=True)"
   ]
  },
  {
   "cell_type": "code",
   "execution_count": 18,
   "metadata": {},
   "outputs": [
    {
     "data": {
      "text/plain": [
       "Index(['TX', 'FL', 'CA', 'NY', 'unknown', 'IL', 'GA', 'PA', 'OH', 'NC', 'NJ',\n",
       "       'MI', 'VA', 'IN', 'TN', 'AL', 'SC', 'KY', 'AZ', 'MO', 'MD', 'MA', 'WI',\n",
       "       'PR', 'LA', 'WA', 'CO', 'MN', 'CT', 'OK', 'AR', 'MS', 'IA', 'NV', 'KS',\n",
       "       'OR', 'WV', 'UT', 'DE', 'NE', 'NM', 'ME', 'NH', 'HI', 'ID', 'AK', 'RI',\n",
       "       'DC', 'SD', 'ND', 'MT', 'WY', 'VT'],\n",
       "      dtype='object', name='STATE')"
      ]
     },
     "execution_count": 18,
     "metadata": {},
     "output_type": "execute_result"
    }
   ],
   "source": [
    "clean_users_df.STATE.value_counts().index"
   ]
  },
  {
   "cell_type": "code",
   "execution_count": 19,
   "metadata": {},
   "outputs": [
    {
     "data": {
      "text/plain": [
       "53"
      ]
     },
     "execution_count": 19,
     "metadata": {},
     "output_type": "execute_result"
    }
   ],
   "source": [
    "# number of unique values in STATE\n",
    "clean_users_df.STATE.nunique()"
   ]
  },
  {
   "cell_type": "markdown",
   "metadata": {},
   "source": [
    "Including Unknown, DC and PR (Puerto Rico), 53 values in STATE is correct. The format is also correct with two letters."
   ]
  },
  {
   "cell_type": "code",
   "execution_count": 20,
   "metadata": {},
   "outputs": [],
   "source": [
    "# change data type of GENDER to category to improve efficiency for analysis. \n",
    "# Could consider using ENUM when importing data into data warehouse\n",
    "clean_users_df['STATE'] = clean_users_df['STATE'].astype('category')"
   ]
  },
  {
   "cell_type": "code",
   "execution_count": 21,
   "metadata": {},
   "outputs": [
    {
     "data": {
      "text/plain": [
       "STATE\n",
       "TX         9028\n",
       "FL         8921\n",
       "CA         8589\n",
       "NY         5703\n",
       "unknown    4812\n",
       "IL         3794\n",
       "GA         3718\n",
       "PA         3644\n",
       "OH         3519\n",
       "NC         3399\n",
       "NJ         2899\n",
       "MI         2582\n",
       "VA         2400\n",
       "IN         2213\n",
       "TN         2165\n",
       "AL         1792\n",
       "SC         1773\n",
       "KY         1731\n",
       "AZ         1728\n",
       "MO         1652\n",
       "MD         1636\n",
       "MA         1523\n",
       "WI         1389\n",
       "PR         1361\n",
       "LA         1290\n",
       "WA         1234\n",
       "CO         1139\n",
       "MN         1125\n",
       "CT         1110\n",
       "OK         1100\n",
       "AR         1011\n",
       "MS          960\n",
       "IA          933\n",
       "NV          837\n",
       "KS          835\n",
       "OR          700\n",
       "WV          674\n",
       "UT          593\n",
       "DE          492\n",
       "NE          487\n",
       "NM          452\n",
       "ME          368\n",
       "NH          359\n",
       "HI          350\n",
       "ID          350\n",
       "AK          297\n",
       "RI          284\n",
       "DC          241\n",
       "SD          205\n",
       "ND          185\n",
       "MT          169\n",
       "WY          138\n",
       "VT          111\n",
       "Name: count, dtype: int64"
      ]
     },
     "execution_count": 21,
     "metadata": {},
     "output_type": "execute_result"
    }
   ],
   "source": [
    "clean_users_df.STATE.value_counts()"
   ]
  },
  {
   "cell_type": "markdown",
   "metadata": {},
   "source": [
    "##### LANGUAGE"
   ]
  },
  {
   "cell_type": "code",
   "execution_count": 22,
   "metadata": {},
   "outputs": [
    {
     "data": {
      "text/plain": [
       "LANGUAGE\n",
       "en         63403\n",
       "unknown    30508\n",
       "es-419      6089\n",
       "Name: count, dtype: int64"
      ]
     },
     "execution_count": 22,
     "metadata": {},
     "output_type": "execute_result"
    }
   ],
   "source": [
    "clean_users_df.LANGUAGE.value_counts()"
   ]
  },
  {
   "cell_type": "markdown",
   "metadata": {},
   "source": [
    "Since the format seems fine, and 'es-419' is also an official language code of Spanish for Latin America and Caribbean, I would preserve the original input for this column."
   ]
  },
  {
   "cell_type": "code",
   "execution_count": 23,
   "metadata": {},
   "outputs": [],
   "source": [
    "# change data type of LANGUAGE to category to improve efficiency for analysis. \n",
    "# Could consider using ENUM when importing data into data warehouse\n",
    "clean_users_df['LANGUAGE'] = clean_users_df['LANGUAGE'].astype('category')"
   ]
  },
  {
   "cell_type": "markdown",
   "metadata": {},
   "source": [
    "##### GENDER"
   ]
  },
  {
   "cell_type": "code",
   "execution_count": 24,
   "metadata": {},
   "outputs": [
    {
     "data": {
      "text/plain": [
       "GENDER\n",
       "female                    64240\n",
       "male                      25829\n",
       "unknown                    6088\n",
       "transgender                1772\n",
       "prefer_not_to_say          1350\n",
       "non_binary                  473\n",
       "not_listed                  180\n",
       "Non-Binary                   34\n",
       "not_specified                28\n",
       "My gender isn't listed        5\n",
       "Prefer not to say             1\n",
       "Name: count, dtype: int64"
      ]
     },
     "execution_count": 24,
     "metadata": {},
     "output_type": "execute_result"
    }
   ],
   "source": [
    "clean_users_df.GENDER.value_counts()"
   ]
  },
  {
   "cell_type": "markdown",
   "metadata": {},
   "source": [
    "It seems that the answer is from a list of provided genders, ie 'female', 'male', 'non_binary'. There are some users choosing 'prefer not to say'. I would categorize the column's answer into 'female', 'male', 'transgender', 'non_binary', and replace 'not_listed' with 'other', and replace remaining answers with 'unspecified'."
   ]
  },
  {
   "cell_type": "code",
   "execution_count": 25,
   "metadata": {},
   "outputs": [],
   "source": [
    "# define a function to format the GENDER column\n",
    "def format_gender(value:str) -> str:\n",
    "    \"\"\"\n",
    "    Create mapping for input in GENDER column, this could be further extended systematically if there \n",
    "    are new input values.\n",
    "\n",
    "    Parameters:\n",
    "    value (str): Gender value to format.\n",
    "\n",
    "    Returns:\n",
    "    str: Formatted gender category\n",
    "    \"\"\"\n",
    "    if value in ['female', 'male', 'transgender', 'non_binary', 'Non-Binary']:\n",
    "        return value.lower() if value != 'Non-Binary' else 'non_binary'\n",
    "    elif value == 'not_listed':\n",
    "        return 'others'\n",
    "    elif value in ['unknown', 'prefer_not_to_say', 'not_specified', \"My gender isn't listed\", 'Prefer not to say']:\n",
    "        return 'not_specified'\n",
    "    else:\n",
    "        return 'others'"
   ]
  },
  {
   "cell_type": "code",
   "execution_count": 26,
   "metadata": {},
   "outputs": [],
   "source": [
    "# apply format_gender function to GENDER column\n",
    "clean_users_df['GENDER'] = clean_users_df.GENDER.apply(lambda x:format_gender(x))"
   ]
  },
  {
   "cell_type": "code",
   "execution_count": 27,
   "metadata": {},
   "outputs": [],
   "source": [
    "# change data type of GENDER to category to improve efficiency for analysis. \n",
    "# Could consider using ENUM when importing data into data warehouse\n",
    "clean_users_df['GENDER'] = clean_users_df['GENDER'].astype('category')"
   ]
  },
  {
   "cell_type": "code",
   "execution_count": 28,
   "metadata": {},
   "outputs": [
    {
     "data": {
      "text/plain": [
       "GENDER\n",
       "female           64240\n",
       "male             25829\n",
       "not_specified     7472\n",
       "transgender       1772\n",
       "non_binary         507\n",
       "others             180\n",
       "Name: count, dtype: int64"
      ]
     },
     "execution_count": 28,
     "metadata": {},
     "output_type": "execute_result"
    }
   ],
   "source": [
    "clean_users_df['GENDER'].value_counts()"
   ]
  },
  {
   "cell_type": "markdown",
   "metadata": {},
   "source": [
    "Again we can visualize our users' demographic in terms of the gender"
   ]
  },
  {
   "cell_type": "code",
   "execution_count": 29,
   "metadata": {},
   "outputs": [
    {
     "data": {
      "image/png": "[encoded data removed]",
      "text/plain": [
       "<Figure size 576x360 with 1 Axes>"
      ]
     },
     "metadata": {
      "needs_background": "light"
     },
     "output_type": "display_data"
    }
   ],
   "source": [
    "gender_counts = clean_users_df['GENDER'].value_counts()\n",
    "\n",
    "# plot the demographic distribution with the x-axis in the desired order\n",
    "plt.figure(figsize=(8, 5))\n",
    "gender_counts.plot(kind='bar')\n",
    "\n",
    "plt.title(\"User Demographics by Gender\", fontsize=16)\n",
    "plt.xlabel(\"Gender\", fontsize=12)\n",
    "plt.ylabel(\"Number of Users\", fontsize=12)\n",
    "plt.xticks(rotation=45)\n",
    "plt.grid(axis='y', linestyle='--', alpha=0.7)\n",
    "\n",
    "plt.tight_layout()\n",
    "plt.show()"
   ]
  },
  {
   "cell_type": "markdown",
   "metadata": {},
   "source": [
    "We can see that female takes up most of our user base."
   ]
  },
  {
   "cell_type": "code",
   "execution_count": 30,
   "metadata": {},
   "outputs": [
    {
     "data": {
      "text/html": [
       "<div>\n",
       "<style scoped>\n",
       "    .dataframe tbody tr th:only-of-type {\n",
       "        vertical-align: middle;\n",
       "    }\n",
       "\n",
       "    .dataframe tbody tr th {\n",
       "        vertical-align: top;\n",
       "    }\n",
       "\n",
       "    .dataframe thead th {\n",
       "        text-align: right;\n",
       "    }\n",
       "</style>\n",
       "<table border=\"1\" class=\"dataframe\">\n",
       "  <thead>\n",
       "    <tr style=\"text-align: right;\">\n",
       "      <th></th>\n",
       "      <th>ID</th>\n",
       "      <th>CREATED_DATE</th>\n",
       "      <th>BIRTH_DATE</th>\n",
       "      <th>STATE</th>\n",
       "      <th>LANGUAGE</th>\n",
       "      <th>GENDER</th>\n",
       "      <th>AGE</th>\n",
       "      <th>AGE_GROUP</th>\n",
       "    </tr>\n",
       "  </thead>\n",
       "  <tbody>\n",
       "    <tr>\n",
       "      <th>0</th>\n",
       "      <td>5ef3b4f17053ab141787697d</td>\n",
       "      <td>2020-06-24 20:17:54+00:00</td>\n",
       "      <td>2000-08-11 00:00:00+00:00</td>\n",
       "      <td>CA</td>\n",
       "      <td>es-419</td>\n",
       "      <td>female</td>\n",
       "      <td>24.0</td>\n",
       "      <td>18 - 30</td>\n",
       "    </tr>\n",
       "    <tr>\n",
       "      <th>1</th>\n",
       "      <td>5ff220d383fcfc12622b96bc</td>\n",
       "      <td>2021-01-03 19:53:55+00:00</td>\n",
       "      <td>2001-09-24 04:00:00+00:00</td>\n",
       "      <td>PA</td>\n",
       "      <td>en</td>\n",
       "      <td>female</td>\n",
       "      <td>23.0</td>\n",
       "      <td>18 - 30</td>\n",
       "    </tr>\n",
       "    <tr>\n",
       "      <th>2</th>\n",
       "      <td>6477950aa55bb77a0e27ee10</td>\n",
       "      <td>2023-05-31 18:42:18+00:00</td>\n",
       "      <td>1994-10-28 00:00:00+00:00</td>\n",
       "      <td>FL</td>\n",
       "      <td>es-419</td>\n",
       "      <td>female</td>\n",
       "      <td>30.0</td>\n",
       "      <td>18 - 30</td>\n",
       "    </tr>\n",
       "    <tr>\n",
       "      <th>3</th>\n",
       "      <td>658a306e99b40f103b63ccf8</td>\n",
       "      <td>2023-12-26 01:46:22+00:00</td>\n",
       "      <td>NaT</td>\n",
       "      <td>NC</td>\n",
       "      <td>en</td>\n",
       "      <td>not_specified</td>\n",
       "      <td>NaN</td>\n",
       "      <td>Unknown</td>\n",
       "    </tr>\n",
       "    <tr>\n",
       "      <th>4</th>\n",
       "      <td>653cf5d6a225ea102b7ecdc2</td>\n",
       "      <td>2023-10-28 11:51:50+00:00</td>\n",
       "      <td>1972-03-19 00:00:00+00:00</td>\n",
       "      <td>PA</td>\n",
       "      <td>en</td>\n",
       "      <td>female</td>\n",
       "      <td>52.0</td>\n",
       "      <td>&gt; 50</td>\n",
       "    </tr>\n",
       "  </tbody>\n",
       "</table>\n",
       "</div>"
      ],
      "text/plain": [
       "                         ID              CREATED_DATE  \\\n",
       "0  5ef3b4f17053ab141787697d 2020-06-24 20:17:54+00:00   \n",
       "1  5ff220d383fcfc12622b96bc 2021-01-03 19:53:55+00:00   \n",
       "2  6477950aa55bb77a0e27ee10 2023-05-31 18:42:18+00:00   \n",
       "3  658a306e99b40f103b63ccf8 2023-12-26 01:46:22+00:00   \n",
       "4  653cf5d6a225ea102b7ecdc2 2023-10-28 11:51:50+00:00   \n",
       "\n",
       "                 BIRTH_DATE STATE LANGUAGE         GENDER   AGE AGE_GROUP  \n",
       "0 2000-08-11 00:00:00+00:00    CA   es-419         female  24.0   18 - 30  \n",
       "1 2001-09-24 04:00:00+00:00    PA       en         female  23.0   18 - 30  \n",
       "2 1994-10-28 00:00:00+00:00    FL   es-419         female  30.0   18 - 30  \n",
       "3                       NaT    NC       en  not_specified   NaN   Unknown  \n",
       "4 1972-03-19 00:00:00+00:00    PA       en         female  52.0      > 50  "
      ]
     },
     "execution_count": 30,
     "metadata": {},
     "output_type": "execute_result"
    }
   ],
   "source": [
    "clean_users_df.head()"
   ]
  },
  {
   "cell_type": "code",
   "execution_count": 31,
   "metadata": {},
   "outputs": [
    {
     "name": "stdout",
     "output_type": "stream",
     "text": [
      "<class 'pandas.core.frame.DataFrame'>\n",
      "RangeIndex: 100000 entries, 0 to 99999\n",
      "Data columns (total 8 columns):\n",
      " #   Column        Non-Null Count   Dtype              \n",
      "---  ------        --------------   -----              \n",
      " 0   ID            100000 non-null  object             \n",
      " 1   CREATED_DATE  100000 non-null  datetime64[ns, UTC]\n",
      " 2   BIRTH_DATE    96325 non-null   datetime64[ns, UTC]\n",
      " 3   STATE         100000 non-null  category           \n",
      " 4   LANGUAGE      100000 non-null  category           \n",
      " 5   GENDER        100000 non-null  category           \n",
      " 6   AGE           96325 non-null   float64            \n",
      " 7   AGE_GROUP     100000 non-null  object             \n",
      "dtypes: category(3), datetime64[ns, UTC](2), float64(1), object(2)\n",
      "memory usage: 4.1+ MB\n"
     ]
    }
   ],
   "source": [
    "clean_users_df.info()"
   ]
  },
  {
   "cell_type": "markdown",
   "metadata": {},
   "source": [
    "We did the followings:\n",
    "\n",
    "1. Change the data type of most columns for improved efficiency for analysis. For categorical columns, we could consider changing the data type of certain columns as ENUM when importing to a data warehouse.\n",
    "2. Fill null values with 'unknown' for categorical columns to improve completeness and enhance analysis.\n",
    "3. Categorize GENDER column into a few categories, namely female, male, transgender, non_binary, not_specified, and others, while unknown is included in not specified."
   ]
  },
  {
   "cell_type": "markdown",
   "metadata": {},
   "source": [
    "#### Products table"
   ]
  },
  {
   "cell_type": "markdown",
   "metadata": {},
   "source": [
    "##### Overall"
   ]
  },
  {
   "cell_type": "code",
   "execution_count": 32,
   "metadata": {},
   "outputs": [
    {
     "data": {
      "text/html": [
       "<div>\n",
       "<style scoped>\n",
       "    .dataframe tbody tr th:only-of-type {\n",
       "        vertical-align: middle;\n",
       "    }\n",
       "\n",
       "    .dataframe tbody tr th {\n",
       "        vertical-align: top;\n",
       "    }\n",
       "\n",
       "    .dataframe thead th {\n",
       "        text-align: right;\n",
       "    }\n",
       "</style>\n",
       "<table border=\"1\" class=\"dataframe\">\n",
       "  <thead>\n",
       "    <tr style=\"text-align: right;\">\n",
       "      <th></th>\n",
       "      <th>CATEGORY_1</th>\n",
       "      <th>CATEGORY_2</th>\n",
       "      <th>CATEGORY_3</th>\n",
       "      <th>CATEGORY_4</th>\n",
       "      <th>MANUFACTURER</th>\n",
       "      <th>BRAND</th>\n",
       "      <th>BARCODE</th>\n",
       "    </tr>\n",
       "  </thead>\n",
       "  <tbody>\n",
       "    <tr>\n",
       "      <th>0</th>\n",
       "      <td>Health &amp; Wellness</td>\n",
       "      <td>Sexual Health</td>\n",
       "      <td>Conductivity Gels &amp; Lotions</td>\n",
       "      <td>NaN</td>\n",
       "      <td>NaN</td>\n",
       "      <td>NaN</td>\n",
       "      <td>7.964944e+11</td>\n",
       "    </tr>\n",
       "    <tr>\n",
       "      <th>1</th>\n",
       "      <td>Snacks</td>\n",
       "      <td>Puffed Snacks</td>\n",
       "      <td>Cheese Curls &amp; Puffs</td>\n",
       "      <td>NaN</td>\n",
       "      <td>NaN</td>\n",
       "      <td>NaN</td>\n",
       "      <td>2.327801e+10</td>\n",
       "    </tr>\n",
       "    <tr>\n",
       "      <th>2</th>\n",
       "      <td>Health &amp; Wellness</td>\n",
       "      <td>Hair Care</td>\n",
       "      <td>Hair Care Accessories</td>\n",
       "      <td>NaN</td>\n",
       "      <td>PLACEHOLDER MANUFACTURER</td>\n",
       "      <td>ELECSOP</td>\n",
       "      <td>4.618178e+11</td>\n",
       "    </tr>\n",
       "    <tr>\n",
       "      <th>3</th>\n",
       "      <td>Health &amp; Wellness</td>\n",
       "      <td>Oral Care</td>\n",
       "      <td>Toothpaste</td>\n",
       "      <td>NaN</td>\n",
       "      <td>COLGATE-PALMOLIVE</td>\n",
       "      <td>COLGATE</td>\n",
       "      <td>3.500047e+10</td>\n",
       "    </tr>\n",
       "    <tr>\n",
       "      <th>4</th>\n",
       "      <td>Health &amp; Wellness</td>\n",
       "      <td>Medicines &amp; Treatments</td>\n",
       "      <td>Essential Oils</td>\n",
       "      <td>NaN</td>\n",
       "      <td>MAPLE HOLISTICS AND HONEYDEW PRODUCTS INTERCHA...</td>\n",
       "      <td>MAPLE HOLISTICS</td>\n",
       "      <td>8.068109e+11</td>\n",
       "    </tr>\n",
       "    <tr>\n",
       "      <th>5</th>\n",
       "      <td>Health &amp; Wellness</td>\n",
       "      <td>Hair Care</td>\n",
       "      <td>Hair Care Accessories</td>\n",
       "      <td>NaN</td>\n",
       "      <td>PLACEHOLDER MANUFACTURER</td>\n",
       "      <td>BEAUHAIR</td>\n",
       "      <td>6.626585e+11</td>\n",
       "    </tr>\n",
       "    <tr>\n",
       "      <th>6</th>\n",
       "      <td>Health &amp; Wellness</td>\n",
       "      <td>Medicines &amp; Treatments</td>\n",
       "      <td>Vitamins &amp; Herbal Supplements</td>\n",
       "      <td>NaN</td>\n",
       "      <td>HALEON</td>\n",
       "      <td>EMERGEN-C</td>\n",
       "      <td>6.177376e+11</td>\n",
       "    </tr>\n",
       "    <tr>\n",
       "      <th>7</th>\n",
       "      <td>Health &amp; Wellness</td>\n",
       "      <td>Deodorant &amp; Antiperspirant</td>\n",
       "      <td>Men's Deodorant &amp; Antiperspirant</td>\n",
       "      <td>NaN</td>\n",
       "      <td>NaN</td>\n",
       "      <td>NaN</td>\n",
       "      <td>7.501839e+12</td>\n",
       "    </tr>\n",
       "    <tr>\n",
       "      <th>8</th>\n",
       "      <td>Snacks</td>\n",
       "      <td>Snack Bars</td>\n",
       "      <td>Granola Bars</td>\n",
       "      <td>NaN</td>\n",
       "      <td>HYVEE INC</td>\n",
       "      <td>HY-VEE</td>\n",
       "      <td>7.545013e+10</td>\n",
       "    </tr>\n",
       "    <tr>\n",
       "      <th>9</th>\n",
       "      <td>Health &amp; Wellness</td>\n",
       "      <td>NaN</td>\n",
       "      <td>NaN</td>\n",
       "      <td>NaN</td>\n",
       "      <td>CHURCH &amp; DWIGHT</td>\n",
       "      <td>REPHRESH</td>\n",
       "      <td>NaN</td>\n",
       "    </tr>\n",
       "  </tbody>\n",
       "</table>\n",
       "</div>"
      ],
      "text/plain": [
       "          CATEGORY_1                  CATEGORY_2  \\\n",
       "0  Health & Wellness               Sexual Health   \n",
       "1             Snacks               Puffed Snacks   \n",
       "2  Health & Wellness                   Hair Care   \n",
       "3  Health & Wellness                   Oral Care   \n",
       "4  Health & Wellness      Medicines & Treatments   \n",
       "5  Health & Wellness                   Hair Care   \n",
       "6  Health & Wellness      Medicines & Treatments   \n",
       "7  Health & Wellness  Deodorant & Antiperspirant   \n",
       "8             Snacks                  Snack Bars   \n",
       "9  Health & Wellness                         NaN   \n",
       "\n",
       "                         CATEGORY_3 CATEGORY_4  \\\n",
       "0       Conductivity Gels & Lotions        NaN   \n",
       "1              Cheese Curls & Puffs        NaN   \n",
       "2             Hair Care Accessories        NaN   \n",
       "3                        Toothpaste        NaN   \n",
       "4                    Essential Oils        NaN   \n",
       "5             Hair Care Accessories        NaN   \n",
       "6     Vitamins & Herbal Supplements        NaN   \n",
       "7  Men's Deodorant & Antiperspirant        NaN   \n",
       "8                      Granola Bars        NaN   \n",
       "9                               NaN        NaN   \n",
       "\n",
       "                                        MANUFACTURER            BRAND  \\\n",
       "0                                                NaN              NaN   \n",
       "1                                                NaN              NaN   \n",
       "2                           PLACEHOLDER MANUFACTURER          ELECSOP   \n",
       "3                                  COLGATE-PALMOLIVE          COLGATE   \n",
       "4  MAPLE HOLISTICS AND HONEYDEW PRODUCTS INTERCHA...  MAPLE HOLISTICS   \n",
       "5                           PLACEHOLDER MANUFACTURER         BEAUHAIR   \n",
       "6                                             HALEON        EMERGEN-C   \n",
       "7                                                NaN              NaN   \n",
       "8                                          HYVEE INC           HY-VEE   \n",
       "9                                    CHURCH & DWIGHT         REPHRESH   \n",
       "\n",
       "        BARCODE  \n",
       "0  7.964944e+11  \n",
       "1  2.327801e+10  \n",
       "2  4.618178e+11  \n",
       "3  3.500047e+10  \n",
       "4  8.068109e+11  \n",
       "5  6.626585e+11  \n",
       "6  6.177376e+11  \n",
       "7  7.501839e+12  \n",
       "8  7.545013e+10  \n",
       "9           NaN  "
      ]
     },
     "execution_count": 32,
     "metadata": {},
     "output_type": "execute_result"
    }
   ],
   "source": [
    "products_df.head(10)"
   ]
  },
  {
   "cell_type": "code",
   "execution_count": 33,
   "metadata": {},
   "outputs": [
    {
     "name": "stdout",
     "output_type": "stream",
     "text": [
      "<class 'pandas.core.frame.DataFrame'>\n",
      "RangeIndex: 845552 entries, 0 to 845551\n",
      "Data columns (total 7 columns):\n",
      " #   Column        Non-Null Count   Dtype  \n",
      "---  ------        --------------   -----  \n",
      " 0   CATEGORY_1    845441 non-null  object \n",
      " 1   CATEGORY_2    844128 non-null  object \n",
      " 2   CATEGORY_3    784986 non-null  object \n",
      " 3   CATEGORY_4    67459 non-null   object \n",
      " 4   MANUFACTURER  619078 non-null  object \n",
      " 5   BRAND         619080 non-null  object \n",
      " 6   BARCODE       841527 non-null  float64\n",
      "dtypes: float64(1), object(6)\n",
      "memory usage: 45.2+ MB\n"
     ]
    }
   ],
   "source": [
    "products_df.info()"
   ]
  },
  {
   "cell_type": "code",
   "execution_count": 34,
   "metadata": {},
   "outputs": [],
   "source": [
    "# Create a copy to clean the users dataframe\n",
    "clean_products_df = products_df.copy()"
   ]
  },
  {
   "cell_type": "markdown",
   "metadata": {},
   "source": [
    "**Data quality issue #4**: There are duplicated rows in products dataset. "
   ]
  },
  {
   "cell_type": "code",
   "execution_count": 35,
   "metadata": {},
   "outputs": [
    {
     "data": {
      "text/plain": [
       "215"
      ]
     },
     "execution_count": 35,
     "metadata": {},
     "output_type": "execute_result"
    }
   ],
   "source": [
    "# check for duplicated products\n",
    "clean_products_df.duplicated().sum()"
   ]
  },
  {
   "cell_type": "markdown",
   "metadata": {},
   "source": [
    "Since the product table should not have any duplicated value, ie identical products, we should remove the duplicated rows"
   ]
  },
  {
   "cell_type": "code",
   "execution_count": 36,
   "metadata": {},
   "outputs": [],
   "source": [
    "# drop duplicated rows\n",
    "clean_products_df = clean_products_df.drop_duplicates()\n",
    "# reset index\n",
    "clean_products_df = clean_products_df.reset_index(drop=True)"
   ]
  },
  {
   "cell_type": "code",
   "execution_count": 37,
   "metadata": {},
   "outputs": [
    {
     "name": "stdout",
     "output_type": "stream",
     "text": [
      "<class 'pandas.core.frame.DataFrame'>\n",
      "RangeIndex: 845337 entries, 0 to 845336\n",
      "Data columns (total 7 columns):\n",
      " #   Column        Non-Null Count   Dtype  \n",
      "---  ------        --------------   -----  \n",
      " 0   CATEGORY_1    845226 non-null  object \n",
      " 1   CATEGORY_2    843915 non-null  object \n",
      " 2   CATEGORY_3    784774 non-null  object \n",
      " 3   CATEGORY_4    67453 non-null   object \n",
      " 4   MANUFACTURER  618873 non-null  object \n",
      " 5   BRAND         618875 non-null  object \n",
      " 6   BARCODE       841369 non-null  float64\n",
      "dtypes: float64(1), object(6)\n",
      "memory usage: 45.1+ MB\n"
     ]
    }
   ],
   "source": [
    "# verify results\n",
    "clean_products_df.info()"
   ]
  },
  {
   "cell_type": "markdown",
   "metadata": {},
   "source": [
    "##### CATEGORY_1 - CATEGORY_4"
   ]
  },
  {
   "cell_type": "markdown",
   "metadata": {},
   "source": [
    "**Data quality issue #5**: Categorical columns' (ie CATEGORY_1, CATEGORY_2, CATEGORY_3, CATEGORY_4) data type could be modified to category for better analysis efficiency."
   ]
  },
  {
   "cell_type": "markdown",
   "metadata": {},
   "source": [
    "There are some null values, and the data type could be modified for better efficient storage and processing.\n",
    "However for null values in this table, we should not remove it nor impute the values as it would affect the information about the products. For example, a missing value in CATEGORY_3 or CATEGORY_4 doesn't mean there is any problem with the product, but the main category is already sufficient to represent the product."
   ]
  },
  {
   "cell_type": "code",
   "execution_count": 38,
   "metadata": {},
   "outputs": [
    {
     "data": {
      "text/plain": [
       "count                845226\n",
       "unique                   27\n",
       "top       Health & Wellness\n",
       "freq                 512686\n",
       "Name: CATEGORY_1, dtype: object"
      ]
     },
     "execution_count": 38,
     "metadata": {},
     "output_type": "execute_result"
    }
   ],
   "source": [
    "clean_products_df.CATEGORY_1.describe()"
   ]
  },
  {
   "cell_type": "code",
   "execution_count": 39,
   "metadata": {},
   "outputs": [
    {
     "data": {
      "text/plain": [
       "count     843915\n",
       "unique       121\n",
       "top        Candy\n",
       "freq      120898\n",
       "Name: CATEGORY_2, dtype: object"
      ]
     },
     "execution_count": 39,
     "metadata": {},
     "output_type": "execute_result"
    }
   ],
   "source": [
    "clean_products_df.CATEGORY_2.describe()"
   ]
  },
  {
   "cell_type": "code",
   "execution_count": 40,
   "metadata": {},
   "outputs": [
    {
     "data": {
      "text/plain": [
       "count               784774\n",
       "unique                 344\n",
       "top       Confection Candy\n",
       "freq                 56951\n",
       "Name: CATEGORY_3, dtype: object"
      ]
     },
     "execution_count": 40,
     "metadata": {},
     "output_type": "execute_result"
    }
   ],
   "source": [
    "clean_products_df.CATEGORY_3.describe()"
   ]
  },
  {
   "cell_type": "code",
   "execution_count": 41,
   "metadata": {},
   "outputs": [
    {
     "data": {
      "text/plain": [
       "count         67453\n",
       "unique          127\n",
       "top       Lip Balms\n",
       "freq           9737\n",
       "Name: CATEGORY_4, dtype: object"
      ]
     },
     "execution_count": 41,
     "metadata": {},
     "output_type": "execute_result"
    }
   ],
   "source": [
    "clean_products_df.CATEGORY_4.describe()"
   ]
  },
  {
   "cell_type": "markdown",
   "metadata": {},
   "source": [
    "Since there are many categories in each category with many products, and categories should not be updated very frequently, it is better to change the data type to category to improve efficiency for analysis. We could also use ENUM when importing the data into a data warehouse."
   ]
  },
  {
   "cell_type": "code",
   "execution_count": 42,
   "metadata": {},
   "outputs": [],
   "source": [
    "# change data type of CATEGORY_1 - CATEGORY_4 to category to improve efficiency for analysis. \n",
    "# Could consider using ENUM when importing data into data warehouse\n",
    "categorical_columns = ['CATEGORY_1', 'CATEGORY_2', 'CATEGORY_3', 'CATEGORY_4']\n",
    "clean_products_df[categorical_columns] = clean_products_df[categorical_columns].astype('category')"
   ]
  },
  {
   "cell_type": "code",
   "execution_count": 43,
   "metadata": {},
   "outputs": [
    {
     "name": "stdout",
     "output_type": "stream",
     "text": [
      "<class 'pandas.core.frame.DataFrame'>\n",
      "RangeIndex: 845337 entries, 0 to 845336\n",
      "Data columns (total 7 columns):\n",
      " #   Column        Non-Null Count   Dtype   \n",
      "---  ------        --------------   -----   \n",
      " 0   CATEGORY_1    845226 non-null  category\n",
      " 1   CATEGORY_2    843915 non-null  category\n",
      " 2   CATEGORY_3    784774 non-null  category\n",
      " 3   CATEGORY_4    67453 non-null   category\n",
      " 4   MANUFACTURER  618873 non-null  object  \n",
      " 5   BRAND         618875 non-null  object  \n",
      " 6   BARCODE       841369 non-null  float64 \n",
      "dtypes: category(4), float64(1), object(2)\n",
      "memory usage: 24.2+ MB\n"
     ]
    }
   ],
   "source": [
    "clean_products_df.info()"
   ]
  },
  {
   "cell_type": "markdown",
   "metadata": {},
   "source": [
    "I also noticed that the distribution of products from CATEGORY_1 to CATEGORY_4 are heavily skewed. The 'Health & Wellness' category dominates with significantly more products compared with other categories."
   ]
  },
  {
   "cell_type": "code",
   "execution_count": 105,
   "metadata": {},
   "outputs": [
    {
     "data": {
      "image/png": "[encoded data removed]",
      "text/plain": [
       "<Figure size 432x288 with 1 Axes>"
      ]
     },
     "metadata": {
      "needs_background": "light"
     },
     "output_type": "display_data"
    }
   ],
   "source": [
    "# visualize the skewness of product distribution\n",
    "clean_products_df['CATEGORY_1'].value_counts().plot(kind='bar')\n",
    "plt.title('Product Distribution by CATEGORY_1')\n",
    "plt.xlabel('Category 1')\n",
    "plt.ylabel('Product Count')\n",
    "plt.show()\n"
   ]
  },
  {
   "cell_type": "markdown",
   "metadata": {},
   "source": [
    "We can apply log scale so that it can compress the range and reveal the patterns in categories with lower product counts. "
   ]
  },
  {
   "cell_type": "code",
   "execution_count": 114,
   "metadata": {},
   "outputs": [
    {
     "name": "stderr",
     "output_type": "stream",
     "text": [
      "/var/folders/d8/pj899s_x1_lbj5g5h4ldf5k80000gn/T/ipykernel_48974/837815666.py:15: UserWarning: Tight layout not applied. The bottom and top margins cannot be made large enough to accommodate all axes decorations.\n",
      "  plt.tight_layout(rect=[0, 0, 1, 0.95])\n"
     ]
    },
    {
     "data": {
      "image/png": "[encoded data removed]",
      "text/plain": [
       "<Figure size 1440x360 with 4 Axes>"
      ]
     },
     "metadata": {
      "needs_background": "light"
     },
     "output_type": "display_data"
    }
   ],
   "source": [
    "# visualize the skewness of product distribution acoss CATEGORY_1 to CATEGORY_4 using log scale\n",
    "categories = ['CATEGORY_1', 'CATEGORY_2', 'CATEGORY_3', 'CATEGORY_4']\n",
    "\n",
    "# create subplots\n",
    "fig, axes = plt.subplots(1, 4, figsize=(20, 5), sharey=True)\n",
    "\n",
    "# loop through each category and plot its distribution\n",
    "for i, category in enumerate(categories):\n",
    "    products_df[category].value_counts().plot(kind='bar', ax=axes[i], title=category, logy=True)\n",
    "    axes[i].set_xlabel(category)\n",
    "    axes[i].set_ylabel('Product Count' if i == 0 else '')  # Add y-label only for the first plot\n",
    "\n",
    "plt.suptitle('Product Distribution by Categories (CATEGORY_1 to CATEGORY_4)', fontsize=16)\n",
    "plt.tight_layout(rect=[0, 0, 1, 0.95])\n",
    "plt.show()"
   ]
  },
  {
   "cell_type": "markdown",
   "metadata": {},
   "source": [
    "##### MANUFACTURER and BRAND"
   ]
  },
  {
   "cell_type": "markdown",
   "metadata": {},
   "source": [
    "**Data quality issue #6**: Missing values and invalid terms in MANUFACTURER and BRAND.\n",
    "\n",
    "This would require team effort to backfill the missing and invalid values."
   ]
  },
  {
   "cell_type": "markdown",
   "metadata": {},
   "source": [
    "**Challenging fields to understand #1**: \n",
    "\n",
    "Business logic between MANUFACTURER and BRAND:\n",
    "\n",
    "While there are many missing values in both columns, many 'PLACEHOLDER MANUFACTURER' appear in MANUFACTURER, and many 'PRIVATE LABEL' appear in BRAND. They are also correlated, as shown below"
   ]
  },
  {
   "cell_type": "code",
   "execution_count": 44,
   "metadata": {},
   "outputs": [
    {
     "data": {
      "text/plain": [
       "CATEGORY_1         111\n",
       "CATEGORY_2        1422\n",
       "CATEGORY_3       60563\n",
       "CATEGORY_4      777884\n",
       "MANUFACTURER    226464\n",
       "BRAND           226462\n",
       "BARCODE           3968\n",
       "dtype: int64"
      ]
     },
     "execution_count": 44,
     "metadata": {},
     "output_type": "execute_result"
    }
   ],
   "source": [
    "# check for missing values in manufacturer and brand\n",
    "clean_products_df.isnull().sum()"
   ]
  },
  {
   "cell_type": "markdown",
   "metadata": {},
   "source": [
    "It shows that there are many missing values in both MANUFACTURER and BRAND columns.\n",
    "\n",
    "I also noticed that 'PLACEHOLDER MANUFACTURER' and 'PRIVATE LABEL' have a relationship. As shown below:"
   ]
  },
  {
   "cell_type": "code",
   "execution_count": 45,
   "metadata": {},
   "outputs": [
    {
     "data": {
      "text/html": [
       "<div>\n",
       "<style scoped>\n",
       "    .dataframe tbody tr th:only-of-type {\n",
       "        vertical-align: middle;\n",
       "    }\n",
       "\n",
       "    .dataframe tbody tr th {\n",
       "        vertical-align: top;\n",
       "    }\n",
       "\n",
       "    .dataframe thead th {\n",
       "        text-align: right;\n",
       "    }\n",
       "</style>\n",
       "<table border=\"1\" class=\"dataframe\">\n",
       "  <thead>\n",
       "    <tr style=\"text-align: right;\">\n",
       "      <th></th>\n",
       "      <th>CATEGORY_1</th>\n",
       "      <th>CATEGORY_2</th>\n",
       "      <th>CATEGORY_3</th>\n",
       "      <th>CATEGORY_4</th>\n",
       "      <th>MANUFACTURER</th>\n",
       "      <th>BRAND</th>\n",
       "      <th>BARCODE</th>\n",
       "    </tr>\n",
       "  </thead>\n",
       "  <tbody>\n",
       "    <tr>\n",
       "      <th>2</th>\n",
       "      <td>Health &amp; Wellness</td>\n",
       "      <td>Hair Care</td>\n",
       "      <td>Hair Care Accessories</td>\n",
       "      <td>NaN</td>\n",
       "      <td>PLACEHOLDER MANUFACTURER</td>\n",
       "      <td>ELECSOP</td>\n",
       "      <td>4.618178e+11</td>\n",
       "    </tr>\n",
       "    <tr>\n",
       "      <th>5</th>\n",
       "      <td>Health &amp; Wellness</td>\n",
       "      <td>Hair Care</td>\n",
       "      <td>Hair Care Accessories</td>\n",
       "      <td>NaN</td>\n",
       "      <td>PLACEHOLDER MANUFACTURER</td>\n",
       "      <td>BEAUHAIR</td>\n",
       "      <td>6.626585e+11</td>\n",
       "    </tr>\n",
       "    <tr>\n",
       "      <th>11</th>\n",
       "      <td>Health &amp; Wellness</td>\n",
       "      <td>Medicines &amp; Treatments</td>\n",
       "      <td>Skin Treatments</td>\n",
       "      <td>NaN</td>\n",
       "      <td>PLACEHOLDER MANUFACTURER</td>\n",
       "      <td>PERRICONE MD</td>\n",
       "      <td>6.514731e+11</td>\n",
       "    </tr>\n",
       "    <tr>\n",
       "      <th>12</th>\n",
       "      <td>Health &amp; Wellness</td>\n",
       "      <td>Bath &amp; Body</td>\n",
       "      <td>Hand &amp; Body Lotions</td>\n",
       "      <td>NaN</td>\n",
       "      <td>PLACEHOLDER MANUFACTURER</td>\n",
       "      <td>PRIVATE LABEL</td>\n",
       "      <td>1.897457e+09</td>\n",
       "    </tr>\n",
       "    <tr>\n",
       "      <th>15</th>\n",
       "      <td>Health &amp; Wellness</td>\n",
       "      <td>Hair Care</td>\n",
       "      <td>Hair Tools</td>\n",
       "      <td>Hair Brushes &amp; Combs</td>\n",
       "      <td>PLACEHOLDER MANUFACTURER</td>\n",
       "      <td>BULK BUYS</td>\n",
       "      <td>7.310151e+11</td>\n",
       "    </tr>\n",
       "    <tr>\n",
       "      <th>...</th>\n",
       "      <td>...</td>\n",
       "      <td>...</td>\n",
       "      <td>...</td>\n",
       "      <td>...</td>\n",
       "      <td>...</td>\n",
       "      <td>...</td>\n",
       "      <td>...</td>\n",
       "    </tr>\n",
       "    <tr>\n",
       "      <th>845280</th>\n",
       "      <td>Snacks</td>\n",
       "      <td>Fruit &amp; Vegetable Snacks</td>\n",
       "      <td>Dried Fruit</td>\n",
       "      <td>NaN</td>\n",
       "      <td>PLACEHOLDER MANUFACTURER</td>\n",
       "      <td>BRAND NOT KNOWN</td>\n",
       "      <td>6.444525e+10</td>\n",
       "    </tr>\n",
       "    <tr>\n",
       "      <th>845303</th>\n",
       "      <td>Health &amp; Wellness</td>\n",
       "      <td>Skin Care</td>\n",
       "      <td>Anti-Aging Skin Care Kits</td>\n",
       "      <td>NaN</td>\n",
       "      <td>PLACEHOLDER MANUFACTURER</td>\n",
       "      <td>PETER THOMAS ROTH</td>\n",
       "      <td>6.281993e+11</td>\n",
       "    </tr>\n",
       "    <tr>\n",
       "      <th>845318</th>\n",
       "      <td>Health &amp; Wellness</td>\n",
       "      <td>Hair Care</td>\n",
       "      <td>Hair Tools</td>\n",
       "      <td>Hair Brushes &amp; Combs</td>\n",
       "      <td>PLACEHOLDER MANUFACTURER</td>\n",
       "      <td>MAGIDEAL</td>\n",
       "      <td>7.036763e+11</td>\n",
       "    </tr>\n",
       "    <tr>\n",
       "      <th>845320</th>\n",
       "      <td>Snacks</td>\n",
       "      <td>Candy</td>\n",
       "      <td>Confection Candy</td>\n",
       "      <td>NaN</td>\n",
       "      <td>PLACEHOLDER MANUFACTURER</td>\n",
       "      <td>PRIVATE LABEL</td>\n",
       "      <td>2.000699e+12</td>\n",
       "    </tr>\n",
       "    <tr>\n",
       "      <th>845329</th>\n",
       "      <td>Snacks</td>\n",
       "      <td>Pudding &amp; Gelatin</td>\n",
       "      <td>Ready-to-Eat Pudding</td>\n",
       "      <td>NaN</td>\n",
       "      <td>PLACEHOLDER MANUFACTURER</td>\n",
       "      <td>BRAND NOT KNOWN</td>\n",
       "      <td>4.427603e+10</td>\n",
       "    </tr>\n",
       "  </tbody>\n",
       "</table>\n",
       "<p>86900 rows × 7 columns</p>\n",
       "</div>"
      ],
      "text/plain": [
       "               CATEGORY_1                CATEGORY_2  \\\n",
       "2       Health & Wellness                 Hair Care   \n",
       "5       Health & Wellness                 Hair Care   \n",
       "11      Health & Wellness    Medicines & Treatments   \n",
       "12      Health & Wellness               Bath & Body   \n",
       "15      Health & Wellness                 Hair Care   \n",
       "...                   ...                       ...   \n",
       "845280             Snacks  Fruit & Vegetable Snacks   \n",
       "845303  Health & Wellness                 Skin Care   \n",
       "845318  Health & Wellness                 Hair Care   \n",
       "845320             Snacks                     Candy   \n",
       "845329             Snacks         Pudding & Gelatin   \n",
       "\n",
       "                       CATEGORY_3            CATEGORY_4  \\\n",
       "2           Hair Care Accessories                   NaN   \n",
       "5           Hair Care Accessories                   NaN   \n",
       "11                Skin Treatments                   NaN   \n",
       "12            Hand & Body Lotions                   NaN   \n",
       "15                     Hair Tools  Hair Brushes & Combs   \n",
       "...                           ...                   ...   \n",
       "845280                Dried Fruit                   NaN   \n",
       "845303  Anti-Aging Skin Care Kits                   NaN   \n",
       "845318                 Hair Tools  Hair Brushes & Combs   \n",
       "845320           Confection Candy                   NaN   \n",
       "845329       Ready-to-Eat Pudding                   NaN   \n",
       "\n",
       "                    MANUFACTURER              BRAND       BARCODE  \n",
       "2       PLACEHOLDER MANUFACTURER            ELECSOP  4.618178e+11  \n",
       "5       PLACEHOLDER MANUFACTURER           BEAUHAIR  6.626585e+11  \n",
       "11      PLACEHOLDER MANUFACTURER       PERRICONE MD  6.514731e+11  \n",
       "12      PLACEHOLDER MANUFACTURER      PRIVATE LABEL  1.897457e+09  \n",
       "15      PLACEHOLDER MANUFACTURER          BULK BUYS  7.310151e+11  \n",
       "...                          ...                ...           ...  \n",
       "845280  PLACEHOLDER MANUFACTURER    BRAND NOT KNOWN  6.444525e+10  \n",
       "845303  PLACEHOLDER MANUFACTURER  PETER THOMAS ROTH  6.281993e+11  \n",
       "845318  PLACEHOLDER MANUFACTURER           MAGIDEAL  7.036763e+11  \n",
       "845320  PLACEHOLDER MANUFACTURER      PRIVATE LABEL  2.000699e+12  \n",
       "845329  PLACEHOLDER MANUFACTURER    BRAND NOT KNOWN  4.427603e+10  \n",
       "\n",
       "[86900 rows x 7 columns]"
      ]
     },
     "execution_count": 45,
     "metadata": {},
     "output_type": "execute_result"
    }
   ],
   "source": [
    "# products with 'PLACEHOLDER MANUFACTURER' in MANUFACTURER\n",
    "clean_products_df.query('MANUFACTURER == \"PLACEHOLDER MANUFACTURER\"')"
   ]
  },
  {
   "cell_type": "code",
   "execution_count": 46,
   "metadata": {},
   "outputs": [
    {
     "data": {
      "text/html": [
       "<div>\n",
       "<style scoped>\n",
       "    .dataframe tbody tr th:only-of-type {\n",
       "        vertical-align: middle;\n",
       "    }\n",
       "\n",
       "    .dataframe tbody tr th {\n",
       "        vertical-align: top;\n",
       "    }\n",
       "\n",
       "    .dataframe thead th {\n",
       "        text-align: right;\n",
       "    }\n",
       "</style>\n",
       "<table border=\"1\" class=\"dataframe\">\n",
       "  <thead>\n",
       "    <tr style=\"text-align: right;\">\n",
       "      <th></th>\n",
       "      <th>CATEGORY_1</th>\n",
       "      <th>CATEGORY_2</th>\n",
       "      <th>CATEGORY_3</th>\n",
       "      <th>CATEGORY_4</th>\n",
       "      <th>MANUFACTURER</th>\n",
       "      <th>BRAND</th>\n",
       "      <th>BARCODE</th>\n",
       "    </tr>\n",
       "  </thead>\n",
       "  <tbody>\n",
       "    <tr>\n",
       "      <th>12</th>\n",
       "      <td>Health &amp; Wellness</td>\n",
       "      <td>Bath &amp; Body</td>\n",
       "      <td>Hand &amp; Body Lotions</td>\n",
       "      <td>NaN</td>\n",
       "      <td>PLACEHOLDER MANUFACTURER</td>\n",
       "      <td>PRIVATE LABEL</td>\n",
       "      <td>1.897457e+09</td>\n",
       "    </tr>\n",
       "    <tr>\n",
       "      <th>56</th>\n",
       "      <td>Snacks</td>\n",
       "      <td>Crackers</td>\n",
       "      <td>Wheat Crackers</td>\n",
       "      <td>NaN</td>\n",
       "      <td>PLACEHOLDER MANUFACTURER</td>\n",
       "      <td>PRIVATE LABEL</td>\n",
       "      <td>7.088203e+11</td>\n",
       "    </tr>\n",
       "    <tr>\n",
       "      <th>113</th>\n",
       "      <td>Health &amp; Wellness</td>\n",
       "      <td>Bath &amp; Body</td>\n",
       "      <td>Hand &amp; Body Lotions</td>\n",
       "      <td>NaN</td>\n",
       "      <td>PLACEHOLDER MANUFACTURER</td>\n",
       "      <td>PRIVATE LABEL</td>\n",
       "      <td>4.815590e+10</td>\n",
       "    </tr>\n",
       "    <tr>\n",
       "      <th>129</th>\n",
       "      <td>Snacks</td>\n",
       "      <td>Snack Cakes</td>\n",
       "      <td>Donut Snack Cakes</td>\n",
       "      <td>NaN</td>\n",
       "      <td>PLACEHOLDER MANUFACTURER</td>\n",
       "      <td>PRIVATE LABEL</td>\n",
       "      <td>5.254864e+10</td>\n",
       "    </tr>\n",
       "    <tr>\n",
       "      <th>139</th>\n",
       "      <td>Health &amp; Wellness</td>\n",
       "      <td>Bath &amp; Body</td>\n",
       "      <td>Hand &amp; Body Lotions</td>\n",
       "      <td>NaN</td>\n",
       "      <td>PLACEHOLDER MANUFACTURER</td>\n",
       "      <td>PRIVATE LABEL</td>\n",
       "      <td>3.568825e+09</td>\n",
       "    </tr>\n",
       "    <tr>\n",
       "      <th>...</th>\n",
       "      <td>...</td>\n",
       "      <td>...</td>\n",
       "      <td>...</td>\n",
       "      <td>...</td>\n",
       "      <td>...</td>\n",
       "      <td>...</td>\n",
       "      <td>...</td>\n",
       "    </tr>\n",
       "    <tr>\n",
       "      <th>845150</th>\n",
       "      <td>Health &amp; Wellness</td>\n",
       "      <td>Skin Care</td>\n",
       "      <td>Eye Creams</td>\n",
       "      <td>NaN</td>\n",
       "      <td>PLACEHOLDER MANUFACTURER</td>\n",
       "      <td>PRIVATE LABEL</td>\n",
       "      <td>8.367730e+11</td>\n",
       "    </tr>\n",
       "    <tr>\n",
       "      <th>845188</th>\n",
       "      <td>Snacks</td>\n",
       "      <td>Dips &amp; Salsa</td>\n",
       "      <td>French Onion Dip</td>\n",
       "      <td>NaN</td>\n",
       "      <td>PLACEHOLDER MANUFACTURER</td>\n",
       "      <td>PRIVATE LABEL</td>\n",
       "      <td>4.173504e+10</td>\n",
       "    </tr>\n",
       "    <tr>\n",
       "      <th>845213</th>\n",
       "      <td>Health &amp; Wellness</td>\n",
       "      <td>Bath &amp; Body</td>\n",
       "      <td>Liquid Hand Soap</td>\n",
       "      <td>NaN</td>\n",
       "      <td>PLACEHOLDER MANUFACTURER</td>\n",
       "      <td>PRIVATE LABEL</td>\n",
       "      <td>4.815595e+10</td>\n",
       "    </tr>\n",
       "    <tr>\n",
       "      <th>845227</th>\n",
       "      <td>Health &amp; Wellness</td>\n",
       "      <td>Bath &amp; Body</td>\n",
       "      <td>Liquid Hand Soap</td>\n",
       "      <td>NaN</td>\n",
       "      <td>PLACEHOLDER MANUFACTURER</td>\n",
       "      <td>PRIVATE LABEL</td>\n",
       "      <td>1.661075e+08</td>\n",
       "    </tr>\n",
       "    <tr>\n",
       "      <th>845320</th>\n",
       "      <td>Snacks</td>\n",
       "      <td>Candy</td>\n",
       "      <td>Confection Candy</td>\n",
       "      <td>NaN</td>\n",
       "      <td>PLACEHOLDER MANUFACTURER</td>\n",
       "      <td>PRIVATE LABEL</td>\n",
       "      <td>2.000699e+12</td>\n",
       "    </tr>\n",
       "  </tbody>\n",
       "</table>\n",
       "<p>13467 rows × 7 columns</p>\n",
       "</div>"
      ],
      "text/plain": [
       "               CATEGORY_1    CATEGORY_2           CATEGORY_3 CATEGORY_4  \\\n",
       "12      Health & Wellness   Bath & Body  Hand & Body Lotions        NaN   \n",
       "56                 Snacks      Crackers       Wheat Crackers        NaN   \n",
       "113     Health & Wellness   Bath & Body  Hand & Body Lotions        NaN   \n",
       "129                Snacks   Snack Cakes    Donut Snack Cakes        NaN   \n",
       "139     Health & Wellness   Bath & Body  Hand & Body Lotions        NaN   \n",
       "...                   ...           ...                  ...        ...   \n",
       "845150  Health & Wellness     Skin Care           Eye Creams        NaN   \n",
       "845188             Snacks  Dips & Salsa     French Onion Dip        NaN   \n",
       "845213  Health & Wellness   Bath & Body     Liquid Hand Soap        NaN   \n",
       "845227  Health & Wellness   Bath & Body     Liquid Hand Soap        NaN   \n",
       "845320             Snacks         Candy     Confection Candy        NaN   \n",
       "\n",
       "                    MANUFACTURER          BRAND       BARCODE  \n",
       "12      PLACEHOLDER MANUFACTURER  PRIVATE LABEL  1.897457e+09  \n",
       "56      PLACEHOLDER MANUFACTURER  PRIVATE LABEL  7.088203e+11  \n",
       "113     PLACEHOLDER MANUFACTURER  PRIVATE LABEL  4.815590e+10  \n",
       "129     PLACEHOLDER MANUFACTURER  PRIVATE LABEL  5.254864e+10  \n",
       "139     PLACEHOLDER MANUFACTURER  PRIVATE LABEL  3.568825e+09  \n",
       "...                          ...            ...           ...  \n",
       "845150  PLACEHOLDER MANUFACTURER  PRIVATE LABEL  8.367730e+11  \n",
       "845188  PLACEHOLDER MANUFACTURER  PRIVATE LABEL  4.173504e+10  \n",
       "845213  PLACEHOLDER MANUFACTURER  PRIVATE LABEL  4.815595e+10  \n",
       "845227  PLACEHOLDER MANUFACTURER  PRIVATE LABEL  1.661075e+08  \n",
       "845320  PLACEHOLDER MANUFACTURER  PRIVATE LABEL  2.000699e+12  \n",
       "\n",
       "[13467 rows x 7 columns]"
      ]
     },
     "execution_count": 46,
     "metadata": {},
     "output_type": "execute_result"
    }
   ],
   "source": [
    "# products with 'PRIVATE LABEL' in BRAND\n",
    "clean_products_df.query('BRAND == \"PRIVATE LABEL\"')"
   ]
  },
  {
   "cell_type": "code",
   "execution_count": 47,
   "metadata": {},
   "outputs": [
    {
     "data": {
      "text/html": [
       "<div>\n",
       "<style scoped>\n",
       "    .dataframe tbody tr th:only-of-type {\n",
       "        vertical-align: middle;\n",
       "    }\n",
       "\n",
       "    .dataframe tbody tr th {\n",
       "        vertical-align: top;\n",
       "    }\n",
       "\n",
       "    .dataframe thead th {\n",
       "        text-align: right;\n",
       "    }\n",
       "</style>\n",
       "<table border=\"1\" class=\"dataframe\">\n",
       "  <thead>\n",
       "    <tr style=\"text-align: right;\">\n",
       "      <th></th>\n",
       "      <th>CATEGORY_1</th>\n",
       "      <th>CATEGORY_2</th>\n",
       "      <th>CATEGORY_3</th>\n",
       "      <th>CATEGORY_4</th>\n",
       "      <th>MANUFACTURER</th>\n",
       "      <th>BRAND</th>\n",
       "      <th>BARCODE</th>\n",
       "    </tr>\n",
       "  </thead>\n",
       "  <tbody>\n",
       "    <tr>\n",
       "      <th>12</th>\n",
       "      <td>Health &amp; Wellness</td>\n",
       "      <td>Bath &amp; Body</td>\n",
       "      <td>Hand &amp; Body Lotions</td>\n",
       "      <td>NaN</td>\n",
       "      <td>PLACEHOLDER MANUFACTURER</td>\n",
       "      <td>PRIVATE LABEL</td>\n",
       "      <td>1.897457e+09</td>\n",
       "    </tr>\n",
       "    <tr>\n",
       "      <th>56</th>\n",
       "      <td>Snacks</td>\n",
       "      <td>Crackers</td>\n",
       "      <td>Wheat Crackers</td>\n",
       "      <td>NaN</td>\n",
       "      <td>PLACEHOLDER MANUFACTURER</td>\n",
       "      <td>PRIVATE LABEL</td>\n",
       "      <td>7.088203e+11</td>\n",
       "    </tr>\n",
       "    <tr>\n",
       "      <th>113</th>\n",
       "      <td>Health &amp; Wellness</td>\n",
       "      <td>Bath &amp; Body</td>\n",
       "      <td>Hand &amp; Body Lotions</td>\n",
       "      <td>NaN</td>\n",
       "      <td>PLACEHOLDER MANUFACTURER</td>\n",
       "      <td>PRIVATE LABEL</td>\n",
       "      <td>4.815590e+10</td>\n",
       "    </tr>\n",
       "    <tr>\n",
       "      <th>129</th>\n",
       "      <td>Snacks</td>\n",
       "      <td>Snack Cakes</td>\n",
       "      <td>Donut Snack Cakes</td>\n",
       "      <td>NaN</td>\n",
       "      <td>PLACEHOLDER MANUFACTURER</td>\n",
       "      <td>PRIVATE LABEL</td>\n",
       "      <td>5.254864e+10</td>\n",
       "    </tr>\n",
       "    <tr>\n",
       "      <th>139</th>\n",
       "      <td>Health &amp; Wellness</td>\n",
       "      <td>Bath &amp; Body</td>\n",
       "      <td>Hand &amp; Body Lotions</td>\n",
       "      <td>NaN</td>\n",
       "      <td>PLACEHOLDER MANUFACTURER</td>\n",
       "      <td>PRIVATE LABEL</td>\n",
       "      <td>3.568825e+09</td>\n",
       "    </tr>\n",
       "    <tr>\n",
       "      <th>...</th>\n",
       "      <td>...</td>\n",
       "      <td>...</td>\n",
       "      <td>...</td>\n",
       "      <td>...</td>\n",
       "      <td>...</td>\n",
       "      <td>...</td>\n",
       "      <td>...</td>\n",
       "    </tr>\n",
       "    <tr>\n",
       "      <th>845150</th>\n",
       "      <td>Health &amp; Wellness</td>\n",
       "      <td>Skin Care</td>\n",
       "      <td>Eye Creams</td>\n",
       "      <td>NaN</td>\n",
       "      <td>PLACEHOLDER MANUFACTURER</td>\n",
       "      <td>PRIVATE LABEL</td>\n",
       "      <td>8.367730e+11</td>\n",
       "    </tr>\n",
       "    <tr>\n",
       "      <th>845188</th>\n",
       "      <td>Snacks</td>\n",
       "      <td>Dips &amp; Salsa</td>\n",
       "      <td>French Onion Dip</td>\n",
       "      <td>NaN</td>\n",
       "      <td>PLACEHOLDER MANUFACTURER</td>\n",
       "      <td>PRIVATE LABEL</td>\n",
       "      <td>4.173504e+10</td>\n",
       "    </tr>\n",
       "    <tr>\n",
       "      <th>845213</th>\n",
       "      <td>Health &amp; Wellness</td>\n",
       "      <td>Bath &amp; Body</td>\n",
       "      <td>Liquid Hand Soap</td>\n",
       "      <td>NaN</td>\n",
       "      <td>PLACEHOLDER MANUFACTURER</td>\n",
       "      <td>PRIVATE LABEL</td>\n",
       "      <td>4.815595e+10</td>\n",
       "    </tr>\n",
       "    <tr>\n",
       "      <th>845227</th>\n",
       "      <td>Health &amp; Wellness</td>\n",
       "      <td>Bath &amp; Body</td>\n",
       "      <td>Liquid Hand Soap</td>\n",
       "      <td>NaN</td>\n",
       "      <td>PLACEHOLDER MANUFACTURER</td>\n",
       "      <td>PRIVATE LABEL</td>\n",
       "      <td>1.661075e+08</td>\n",
       "    </tr>\n",
       "    <tr>\n",
       "      <th>845320</th>\n",
       "      <td>Snacks</td>\n",
       "      <td>Candy</td>\n",
       "      <td>Confection Candy</td>\n",
       "      <td>NaN</td>\n",
       "      <td>PLACEHOLDER MANUFACTURER</td>\n",
       "      <td>PRIVATE LABEL</td>\n",
       "      <td>2.000699e+12</td>\n",
       "    </tr>\n",
       "  </tbody>\n",
       "</table>\n",
       "<p>13467 rows × 7 columns</p>\n",
       "</div>"
      ],
      "text/plain": [
       "               CATEGORY_1    CATEGORY_2           CATEGORY_3 CATEGORY_4  \\\n",
       "12      Health & Wellness   Bath & Body  Hand & Body Lotions        NaN   \n",
       "56                 Snacks      Crackers       Wheat Crackers        NaN   \n",
       "113     Health & Wellness   Bath & Body  Hand & Body Lotions        NaN   \n",
       "129                Snacks   Snack Cakes    Donut Snack Cakes        NaN   \n",
       "139     Health & Wellness   Bath & Body  Hand & Body Lotions        NaN   \n",
       "...                   ...           ...                  ...        ...   \n",
       "845150  Health & Wellness     Skin Care           Eye Creams        NaN   \n",
       "845188             Snacks  Dips & Salsa     French Onion Dip        NaN   \n",
       "845213  Health & Wellness   Bath & Body     Liquid Hand Soap        NaN   \n",
       "845227  Health & Wellness   Bath & Body     Liquid Hand Soap        NaN   \n",
       "845320             Snacks         Candy     Confection Candy        NaN   \n",
       "\n",
       "                    MANUFACTURER          BRAND       BARCODE  \n",
       "12      PLACEHOLDER MANUFACTURER  PRIVATE LABEL  1.897457e+09  \n",
       "56      PLACEHOLDER MANUFACTURER  PRIVATE LABEL  7.088203e+11  \n",
       "113     PLACEHOLDER MANUFACTURER  PRIVATE LABEL  4.815590e+10  \n",
       "129     PLACEHOLDER MANUFACTURER  PRIVATE LABEL  5.254864e+10  \n",
       "139     PLACEHOLDER MANUFACTURER  PRIVATE LABEL  3.568825e+09  \n",
       "...                          ...            ...           ...  \n",
       "845150  PLACEHOLDER MANUFACTURER  PRIVATE LABEL  8.367730e+11  \n",
       "845188  PLACEHOLDER MANUFACTURER  PRIVATE LABEL  4.173504e+10  \n",
       "845213  PLACEHOLDER MANUFACTURER  PRIVATE LABEL  4.815595e+10  \n",
       "845227  PLACEHOLDER MANUFACTURER  PRIVATE LABEL  1.661075e+08  \n",
       "845320  PLACEHOLDER MANUFACTURER  PRIVATE LABEL  2.000699e+12  \n",
       "\n",
       "[13467 rows x 7 columns]"
      ]
     },
     "execution_count": 47,
     "metadata": {},
     "output_type": "execute_result"
    }
   ],
   "source": [
    "# result with 'PRIVATE LABEL' in BRAND and 'PLACEHOLDER MANUFACTURER' in MANUFACTURER\n",
    "clean_products_df.query('BRAND == \"PRIVATE LABEL\"').query('MANUFACTURER == \"PLACEHOLDER MANUFACTURER\"')"
   ]
  },
  {
   "cell_type": "code",
   "execution_count": 48,
   "metadata": {},
   "outputs": [
    {
     "data": {
      "text/html": [
       "<div>\n",
       "<style scoped>\n",
       "    .dataframe tbody tr th:only-of-type {\n",
       "        vertical-align: middle;\n",
       "    }\n",
       "\n",
       "    .dataframe tbody tr th {\n",
       "        vertical-align: top;\n",
       "    }\n",
       "\n",
       "    .dataframe thead th {\n",
       "        text-align: right;\n",
       "    }\n",
       "</style>\n",
       "<table border=\"1\" class=\"dataframe\">\n",
       "  <thead>\n",
       "    <tr style=\"text-align: right;\">\n",
       "      <th></th>\n",
       "      <th>CATEGORY_1</th>\n",
       "      <th>CATEGORY_2</th>\n",
       "      <th>CATEGORY_3</th>\n",
       "      <th>CATEGORY_4</th>\n",
       "      <th>MANUFACTURER</th>\n",
       "      <th>BRAND</th>\n",
       "      <th>BARCODE</th>\n",
       "    </tr>\n",
       "  </thead>\n",
       "  <tbody>\n",
       "  </tbody>\n",
       "</table>\n",
       "</div>"
      ],
      "text/plain": [
       "Empty DataFrame\n",
       "Columns: [CATEGORY_1, CATEGORY_2, CATEGORY_3, CATEGORY_4, MANUFACTURER, BRAND, BARCODE]\n",
       "Index: []"
      ]
     },
     "execution_count": 48,
     "metadata": {},
     "output_type": "execute_result"
    }
   ],
   "source": [
    "# result with 'PRIVATE LABEL' in BRAND but NOT 'PLACEHOLDER MANUFACTURER' in MANUFACTURER\n",
    "clean_products_df.query('BRAND == \"PRIVATE LABEL\"').query('MANUFACTURER != \"PLACEHOLDER MANUFACTURER\"')"
   ]
  },
  {
   "cell_type": "markdown",
   "metadata": {},
   "source": [
    "It shows that whenever the BRAND is 'PRIVATE LABEL', the MANUFACTURER is 'PLACEHOLDER MANUFACTURER'. This is not the same case vice versa, but we should still preserve this relationship for further analysis by leaving their values as they are"
   ]
  },
  {
   "cell_type": "markdown",
   "metadata": {},
   "source": [
    "For missing values, although there is a 'PLACEHOLDER MANUFACTURER', it is different from missing values like 'NaN'. \n",
    "\n",
    "We cannot simply remove the rows or impute the missing values, because it would remove or affect the information from the data.\n",
    "\n",
    "Therefore my approach would be replacing null values in MANUFACTURER and BRAND with 'UNKNOWN MANUFACTURER' and 'UNKNOWN BRNAD'. After that it would require team effort to get the manufacturer and brand names when available. "
   ]
  },
  {
   "cell_type": "code",
   "execution_count": 49,
   "metadata": {},
   "outputs": [
    {
     "data": {
      "text/plain": [
       "MANUFACTURER\n",
       "NONE              4835\n",
       "UNKNOWN             18\n",
       "DOES NOT APPLY       1\n",
       "Name: count, dtype: int64"
      ]
     },
     "execution_count": 49,
     "metadata": {},
     "output_type": "execute_result"
    }
   ],
   "source": [
    "clean_products_df.query('MANUFACTURER in [\"UNKNOWN\", \"DOES NOT APPLY\", \"NONE\"]').MANUFACTURER.value_counts()"
   ]
  },
  {
   "cell_type": "markdown",
   "metadata": {},
   "source": [
    "I also spot some of the values in MANUFACTURER and BRAND also indicate 'UNKNOWN MANUFACTURER' or 'UNKNOWN BRAND' with values like 'UNKNOWN', 'DOES NOT APPLY', 'NONE', and 'BRAND NOT KNOWN' etc. I would also format these values and group them as unknown."
   ]
  },
  {
   "cell_type": "code",
   "execution_count": 50,
   "metadata": {},
   "outputs": [],
   "source": [
    "# define a function to format the MANUFACTURER column\n",
    "def format_manufacturer(value):\n",
    "    \"\"\"\n",
    "    Create mapping for input in MANUFACTURER column, this could be further extended systematically if there \n",
    "    are new input values.\n",
    "\n",
    "    Parameters:\n",
    "    value (str): Manufacturer value to format.\n",
    "\n",
    "    Returns:\n",
    "    str: Formatted manufacturer category\n",
    "    \"\"\"\n",
    "    if pd.isna(value) or value in ['DOES NOT APPLY', 'UNKNOWN', 'NONE']: # the list could be further expanded\n",
    "        return 'UNKNOWN MANUFACTURER'\n",
    "    return value  # keep other values as they are"
   ]
  },
  {
   "cell_type": "code",
   "execution_count": 51,
   "metadata": {},
   "outputs": [],
   "source": [
    "# apply format_manufacturer function to the MANUFACTURER column\n",
    "clean_products_df['MANUFACTURER'] = clean_products_df['MANUFACTURER'].apply(lambda x: format_manufacturer(x))"
   ]
  },
  {
   "cell_type": "code",
   "execution_count": 52,
   "metadata": {},
   "outputs": [],
   "source": [
    "# define a function to format the BRAND column\n",
    "def format_brand(value):\n",
    "    \"\"\"\n",
    "    Create mapping for input in BRAND column, this could be further extended systematically if there \n",
    "    are new input values.\n",
    "\n",
    "    Parameters:\n",
    "    value (str): Manufacturer value to format.\n",
    "\n",
    "    Returns:\n",
    "    str: Formatted manufacturer category\n",
    "    \"\"\"\n",
    "    if pd.isna(value) or value in ['BRAND NOT KNOWN']: # the list could be further expanded\n",
    "        return 'UNKNOWN BRAND'\n",
    "    return value  # keep other values as they are"
   ]
  },
  {
   "cell_type": "code",
   "execution_count": 53,
   "metadata": {},
   "outputs": [],
   "source": [
    "# apply format_manufacturer function to the MANUFACTURER column\n",
    "clean_products_df['BRAND'] = clean_products_df['BRAND'].apply(lambda x: format_brand(x))"
   ]
  },
  {
   "cell_type": "code",
   "execution_count": 54,
   "metadata": {},
   "outputs": [
    {
     "data": {
      "text/plain": [
       "0"
      ]
     },
     "execution_count": 54,
     "metadata": {},
     "output_type": "execute_result"
    }
   ],
   "source": [
    "# verify the results after formatting MANUFACTURER column\n",
    "clean_products_df.MANUFACTURER.isnull().sum()"
   ]
  },
  {
   "cell_type": "code",
   "execution_count": 55,
   "metadata": {},
   "outputs": [
    {
     "data": {
      "text/plain": [
       "0"
      ]
     },
     "execution_count": 55,
     "metadata": {},
     "output_type": "execute_result"
    }
   ],
   "source": [
    "# verify the results after formatting BRAND column\n",
    "clean_products_df.BRAND.isnull().sum()"
   ]
  },
  {
   "cell_type": "code",
   "execution_count": 56,
   "metadata": {},
   "outputs": [
    {
     "data": {
      "text/plain": [
       "MANUFACTURER\n",
       "UNKNOWN MANUFACTURER           231318\n",
       "PLACEHOLDER MANUFACTURER        86900\n",
       "PROCTER & GAMBLE                21065\n",
       "REM MANUFACTURER                20813\n",
       "UNILEVER                        16864\n",
       "                                ...  \n",
       "TEXAS ROADHOUSE INC.                1\n",
       "THE WILLOWBROOK COMPANY LLC         1\n",
       "TRIPLE EIGHT                        1\n",
       "PACIFIC WORLD, INC.                 1\n",
       "CALEGO INTERNATIONAL INC.           1\n",
       "Name: count, Length: 4352, dtype: int64"
      ]
     },
     "execution_count": 56,
     "metadata": {},
     "output_type": "execute_result"
    }
   ],
   "source": [
    "clean_products_df.MANUFACTURER.value_counts()"
   ]
  },
  {
   "cell_type": "markdown",
   "metadata": {},
   "source": [
    "##### BARCODE"
   ]
  },
  {
   "cell_type": "markdown",
   "metadata": {},
   "source": [
    "**Data quality issue #7**: Duplicated values in BARCODE"
   ]
  },
  {
   "cell_type": "code",
   "execution_count": 57,
   "metadata": {},
   "outputs": [
    {
     "data": {
      "text/plain": [
       "3994"
      ]
     },
     "execution_count": 57,
     "metadata": {},
     "output_type": "execute_result"
    }
   ],
   "source": [
    "# check for duplicated values in barcode\n",
    "clean_products_df.BARCODE.duplicated().sum()"
   ]
  },
  {
   "cell_type": "code",
   "execution_count": 58,
   "metadata": {},
   "outputs": [
    {
     "data": {
      "text/plain": [
       "27"
      ]
     },
     "execution_count": 58,
     "metadata": {},
     "output_type": "execute_result"
    }
   ],
   "source": [
    "# check for duplicate values in barcode that are not null\n",
    "clean_products_df[clean_products_df.BARCODE.notnull()].BARCODE.duplicated().sum()"
   ]
  },
  {
   "cell_type": "code",
   "execution_count": 59,
   "metadata": {},
   "outputs": [
    {
     "data": {
      "text/plain": [
       "0"
      ]
     },
     "execution_count": 59,
     "metadata": {},
     "output_type": "execute_result"
    }
   ],
   "source": [
    "# check for duplicate values in entire rows\n",
    "clean_products_df.duplicated().sum()"
   ]
  },
  {
   "cell_type": "markdown",
   "metadata": {},
   "source": [
    "Firstly there are 27 duplicated barcodes. But I would not remove it right now, because there could be duplicates due to the many reasons"
   ]
  },
  {
   "cell_type": "markdown",
   "metadata": {},
   "source": [
    "Given that there is no duplicates of entire rows (ie product itself), but there are duplicates of barcodes, we need to investigate the reasons for the duplicates in BARCODE."
   ]
  },
  {
   "cell_type": "code",
   "execution_count": 60,
   "metadata": {},
   "outputs": [
    {
     "data": {
      "text/html": [
       "<div>\n",
       "<style scoped>\n",
       "    .dataframe tbody tr th:only-of-type {\n",
       "        vertical-align: middle;\n",
       "    }\n",
       "\n",
       "    .dataframe tbody tr th {\n",
       "        vertical-align: top;\n",
       "    }\n",
       "\n",
       "    .dataframe thead th {\n",
       "        text-align: right;\n",
       "    }\n",
       "</style>\n",
       "<table border=\"1\" class=\"dataframe\">\n",
       "  <thead>\n",
       "    <tr style=\"text-align: right;\">\n",
       "      <th></th>\n",
       "      <th>CATEGORY_1</th>\n",
       "      <th>CATEGORY_2</th>\n",
       "      <th>CATEGORY_3</th>\n",
       "      <th>CATEGORY_4</th>\n",
       "      <th>MANUFACTURER</th>\n",
       "      <th>BRAND</th>\n",
       "      <th>BARCODE</th>\n",
       "    </tr>\n",
       "  </thead>\n",
       "  <tbody>\n",
       "    <tr>\n",
       "      <th>162</th>\n",
       "      <td>Health &amp; Wellness</td>\n",
       "      <td>Hair Removal</td>\n",
       "      <td>Shaving Gel &amp; Cream</td>\n",
       "      <td>Women's Shaving Gel &amp; Cream</td>\n",
       "      <td>PLACEHOLDER MANUFACTURER</td>\n",
       "      <td>PRORASO</td>\n",
       "      <td>8.019914e+07</td>\n",
       "    </tr>\n",
       "    <tr>\n",
       "      <th>28421</th>\n",
       "      <td>Health &amp; Wellness</td>\n",
       "      <td>Hair Care</td>\n",
       "      <td>Hair Color</td>\n",
       "      <td>NaN</td>\n",
       "      <td>HENKEL</td>\n",
       "      <td>SCHWARZKOPF</td>\n",
       "      <td>5.233692e+10</td>\n",
       "    </tr>\n",
       "    <tr>\n",
       "      <th>36017</th>\n",
       "      <td>Snacks</td>\n",
       "      <td>Candy</td>\n",
       "      <td>Candy Variety Pack</td>\n",
       "      <td>NaN</td>\n",
       "      <td>THE HERSHEY COMPANY</td>\n",
       "      <td>HERSHEY'S</td>\n",
       "      <td>3.422007e+06</td>\n",
       "    </tr>\n",
       "    <tr>\n",
       "      <th>37152</th>\n",
       "      <td>Snacks</td>\n",
       "      <td>Candy</td>\n",
       "      <td>Confection Candy</td>\n",
       "      <td>NaN</td>\n",
       "      <td>PERFETTI VAN MELLE</td>\n",
       "      <td>MENTOS</td>\n",
       "      <td>8.730629e+07</td>\n",
       "    </tr>\n",
       "    <tr>\n",
       "      <th>56987</th>\n",
       "      <td>Snacks</td>\n",
       "      <td>Nuts &amp; Seeds</td>\n",
       "      <td>Almonds</td>\n",
       "      <td>NaN</td>\n",
       "      <td>PLACEHOLDER MANUFACTURER</td>\n",
       "      <td>UNKNOWN BRAND</td>\n",
       "      <td>2.015908e+07</td>\n",
       "    </tr>\n",
       "    <tr>\n",
       "      <th>96435</th>\n",
       "      <td>Snacks</td>\n",
       "      <td>Crackers</td>\n",
       "      <td>Other Crackers</td>\n",
       "      <td>NaN</td>\n",
       "      <td>UNKNOWN MANUFACTURER</td>\n",
       "      <td>UNKNOWN BRAND</td>\n",
       "      <td>2.073325e+07</td>\n",
       "    </tr>\n",
       "    <tr>\n",
       "      <th>108321</th>\n",
       "      <td>Snacks</td>\n",
       "      <td>Candy</td>\n",
       "      <td>Mints</td>\n",
       "      <td>NaN</td>\n",
       "      <td>PERFETTI VAN MELLE</td>\n",
       "      <td>MENTOS</td>\n",
       "      <td>8.710854e+07</td>\n",
       "    </tr>\n",
       "    <tr>\n",
       "      <th>114126</th>\n",
       "      <td>Snacks</td>\n",
       "      <td>Candy</td>\n",
       "      <td>Chocolate Candy</td>\n",
       "      <td>NaN</td>\n",
       "      <td>GRUPO NACIONAL DE CHOCOLATES SA</td>\n",
       "      <td>NUTRESA</td>\n",
       "      <td>7.505306e+07</td>\n",
       "    </tr>\n",
       "    <tr>\n",
       "      <th>123189</th>\n",
       "      <td>Health &amp; Wellness</td>\n",
       "      <td>Skin Care</td>\n",
       "      <td>Lip Balms &amp; Treatments</td>\n",
       "      <td>Medicated Lip Treatments</td>\n",
       "      <td>E.T. BROWNE DRUG CO., INC.</td>\n",
       "      <td>PALMER'S SKIN &amp; HAIR CARE</td>\n",
       "      <td>1.018158e+06</td>\n",
       "    </tr>\n",
       "    <tr>\n",
       "      <th>127329</th>\n",
       "      <td>Snacks</td>\n",
       "      <td>Nuts &amp; Seeds</td>\n",
       "      <td>Pistachios</td>\n",
       "      <td>NaN</td>\n",
       "      <td>LIDL US, LLC</td>\n",
       "      <td>LIDL</td>\n",
       "      <td>2.052244e+07</td>\n",
       "    </tr>\n",
       "    <tr>\n",
       "      <th>132540</th>\n",
       "      <td>Snacks</td>\n",
       "      <td>Cookies</td>\n",
       "      <td>NaN</td>\n",
       "      <td>NaN</td>\n",
       "      <td>UNKNOWN MANUFACTURER</td>\n",
       "      <td>UNKNOWN BRAND</td>\n",
       "      <td>2.003108e+07</td>\n",
       "    </tr>\n",
       "    <tr>\n",
       "      <th>137242</th>\n",
       "      <td>Snacks</td>\n",
       "      <td>Nuts &amp; Seeds</td>\n",
       "      <td>Peanuts</td>\n",
       "      <td>NaN</td>\n",
       "      <td>MARS WRIGLEY</td>\n",
       "      <td>M&amp;M'S</td>\n",
       "      <td>4.003207e+06</td>\n",
       "    </tr>\n",
       "    <tr>\n",
       "      <th>139113</th>\n",
       "      <td>Snacks</td>\n",
       "      <td>Candy</td>\n",
       "      <td>Chocolate Candy</td>\n",
       "      <td>NaN</td>\n",
       "      <td>PLACEHOLDER MANUFACTURER</td>\n",
       "      <td>UNKNOWN BRAND</td>\n",
       "      <td>4.043100e+05</td>\n",
       "    </tr>\n",
       "    <tr>\n",
       "      <th>144670</th>\n",
       "      <td>Snacks</td>\n",
       "      <td>Candy</td>\n",
       "      <td>Chocolate Candy</td>\n",
       "      <td>NaN</td>\n",
       "      <td>THE HERSHEY COMPANY</td>\n",
       "      <td>REESE'S</td>\n",
       "      <td>3.431207e+06</td>\n",
       "    </tr>\n",
       "    <tr>\n",
       "      <th>171005</th>\n",
       "      <td>Snacks</td>\n",
       "      <td>Nuts &amp; Seeds</td>\n",
       "      <td>Covered Nuts</td>\n",
       "      <td>NaN</td>\n",
       "      <td>TRADER JOE'S</td>\n",
       "      <td>TRADER JOE'S</td>\n",
       "      <td>9.693070e+05</td>\n",
       "    </tr>\n",
       "    <tr>\n",
       "      <th>181892</th>\n",
       "      <td>Snacks</td>\n",
       "      <td>Candy</td>\n",
       "      <td>Confection Candy</td>\n",
       "      <td>NaN</td>\n",
       "      <td>GRUPO NACIONAL DE CHOCOLATES SA</td>\n",
       "      <td>NUTRESA</td>\n",
       "      <td>7.505306e+07</td>\n",
       "    </tr>\n",
       "    <tr>\n",
       "      <th>184561</th>\n",
       "      <td>Snacks</td>\n",
       "      <td>Candy</td>\n",
       "      <td>Chocolate Candy</td>\n",
       "      <td>NaN</td>\n",
       "      <td>UNKNOWN MANUFACTURER</td>\n",
       "      <td>UNKNOWN BRAND</td>\n",
       "      <td>5.042617e+07</td>\n",
       "    </tr>\n",
       "    <tr>\n",
       "      <th>193336</th>\n",
       "      <td>Snacks</td>\n",
       "      <td>Candy</td>\n",
       "      <td>Chocolate Candy</td>\n",
       "      <td>NaN</td>\n",
       "      <td>MARS WRIGLEY</td>\n",
       "      <td>M&amp;M'S</td>\n",
       "      <td>4.003207e+06</td>\n",
       "    </tr>\n",
       "    <tr>\n",
       "      <th>206159</th>\n",
       "      <td>Snacks</td>\n",
       "      <td>Crackers</td>\n",
       "      <td>Graham Crackers</td>\n",
       "      <td>NaN</td>\n",
       "      <td>LIDL US, LLC</td>\n",
       "      <td>LIDL</td>\n",
       "      <td>2.073306e+07</td>\n",
       "    </tr>\n",
       "    <tr>\n",
       "      <th>213326</th>\n",
       "      <td>Health &amp; Wellness</td>\n",
       "      <td>Hair Care</td>\n",
       "      <td>Hair Color</td>\n",
       "      <td>NaN</td>\n",
       "      <td>HENKEL</td>\n",
       "      <td>SCHWARZKOPF</td>\n",
       "      <td>1.700033e+10</td>\n",
       "    </tr>\n",
       "    <tr>\n",
       "      <th>216300</th>\n",
       "      <td>Snacks</td>\n",
       "      <td>Candy</td>\n",
       "      <td>Chocolate Candy</td>\n",
       "      <td>NaN</td>\n",
       "      <td>FERRERO GROUP</td>\n",
       "      <td>KINDER</td>\n",
       "      <td>8.031017e+07</td>\n",
       "    </tr>\n",
       "    <tr>\n",
       "      <th>260669</th>\n",
       "      <td>Snacks</td>\n",
       "      <td>Candy</td>\n",
       "      <td>Chocolate Candy</td>\n",
       "      <td>NaN</td>\n",
       "      <td>LIDL US, LLC</td>\n",
       "      <td>LIDL</td>\n",
       "      <td>2.052244e+07</td>\n",
       "    </tr>\n",
       "    <tr>\n",
       "      <th>274674</th>\n",
       "      <td>Snacks</td>\n",
       "      <td>Candy</td>\n",
       "      <td>Chocolate Candy</td>\n",
       "      <td>NaN</td>\n",
       "      <td>PROCTER &amp; GAMBLE</td>\n",
       "      <td>BOUNTY</td>\n",
       "      <td>4.011122e+07</td>\n",
       "    </tr>\n",
       "    <tr>\n",
       "      <th>287380</th>\n",
       "      <td>Snacks</td>\n",
       "      <td>Candy</td>\n",
       "      <td>Chocolate Candy</td>\n",
       "      <td>NaN</td>\n",
       "      <td>NESTLE</td>\n",
       "      <td>NESTLE</td>\n",
       "      <td>5.042617e+07</td>\n",
       "    </tr>\n",
       "    <tr>\n",
       "      <th>300301</th>\n",
       "      <td>Snacks</td>\n",
       "      <td>Candy</td>\n",
       "      <td>Confection Candy</td>\n",
       "      <td>NaN</td>\n",
       "      <td>PERFETTI VAN MELLE</td>\n",
       "      <td>MENTOS</td>\n",
       "      <td>8.710854e+07</td>\n",
       "    </tr>\n",
       "    <tr>\n",
       "      <th>303995</th>\n",
       "      <td>Health &amp; Wellness</td>\n",
       "      <td>Hair Care</td>\n",
       "      <td>Hair Color</td>\n",
       "      <td>NaN</td>\n",
       "      <td>HENKEL</td>\n",
       "      <td>GÖT2B</td>\n",
       "      <td>1.700033e+10</td>\n",
       "    </tr>\n",
       "    <tr>\n",
       "      <th>333739</th>\n",
       "      <td>Health &amp; Wellness</td>\n",
       "      <td>Skin Care</td>\n",
       "      <td>Eye Creams</td>\n",
       "      <td>NaN</td>\n",
       "      <td>UNKNOWN MANUFACTURER</td>\n",
       "      <td>UNKNOWN BRAND</td>\n",
       "      <td>4.220849e+07</td>\n",
       "    </tr>\n",
       "    <tr>\n",
       "      <th>379700</th>\n",
       "      <td>Snacks</td>\n",
       "      <td>Candy</td>\n",
       "      <td>Gum</td>\n",
       "      <td>NaN</td>\n",
       "      <td>UNKNOWN MANUFACTURER</td>\n",
       "      <td>UNKNOWN BRAND</td>\n",
       "      <td>3.600540e+08</td>\n",
       "    </tr>\n",
       "    <tr>\n",
       "      <th>402333</th>\n",
       "      <td>Snacks</td>\n",
       "      <td>Candy</td>\n",
       "      <td>Confection Candy</td>\n",
       "      <td>NaN</td>\n",
       "      <td>THE HERSHEY COMPANY</td>\n",
       "      <td>REESE'S</td>\n",
       "      <td>3.431207e+06</td>\n",
       "    </tr>\n",
       "    <tr>\n",
       "      <th>422750</th>\n",
       "      <td>Snacks</td>\n",
       "      <td>Candy</td>\n",
       "      <td>Chocolate Candy</td>\n",
       "      <td>NaN</td>\n",
       "      <td>THE HERSHEY COMPANY</td>\n",
       "      <td>HERSHEY'S</td>\n",
       "      <td>3.422007e+06</td>\n",
       "    </tr>\n",
       "    <tr>\n",
       "      <th>428195</th>\n",
       "      <td>Health &amp; Wellness</td>\n",
       "      <td>Skin Care</td>\n",
       "      <td>Facial Lotion &amp; Moisturizer</td>\n",
       "      <td>NaN</td>\n",
       "      <td>R.M. PALMER COMPANY, LLC</td>\n",
       "      <td>PALMER</td>\n",
       "      <td>1.018158e+06</td>\n",
       "    </tr>\n",
       "    <tr>\n",
       "      <th>454469</th>\n",
       "      <td>Snacks</td>\n",
       "      <td>Candy</td>\n",
       "      <td>Chocolate Candy</td>\n",
       "      <td>NaN</td>\n",
       "      <td>MARS WRIGLEY</td>\n",
       "      <td>MARS</td>\n",
       "      <td>4.011122e+07</td>\n",
       "    </tr>\n",
       "    <tr>\n",
       "      <th>468650</th>\n",
       "      <td>Snacks</td>\n",
       "      <td>Candy</td>\n",
       "      <td>Gum</td>\n",
       "      <td>NaN</td>\n",
       "      <td>GENERAL LICENSED IP MANUFACTURER</td>\n",
       "      <td>DISNEY</td>\n",
       "      <td>3.454503e+06</td>\n",
       "    </tr>\n",
       "    <tr>\n",
       "      <th>528622</th>\n",
       "      <td>Snacks</td>\n",
       "      <td>Candy</td>\n",
       "      <td>Gum</td>\n",
       "      <td>NaN</td>\n",
       "      <td>THE HERSHEY COMPANY</td>\n",
       "      <td>ICE BREAKERS</td>\n",
       "      <td>3.454503e+06</td>\n",
       "    </tr>\n",
       "    <tr>\n",
       "      <th>539824</th>\n",
       "      <td>Snacks</td>\n",
       "      <td>Candy</td>\n",
       "      <td>Gum</td>\n",
       "      <td>NaN</td>\n",
       "      <td>THE HERSHEY COMPANY</td>\n",
       "      <td>BUBBLE YUM</td>\n",
       "      <td>3.473009e+06</td>\n",
       "    </tr>\n",
       "    <tr>\n",
       "      <th>585528</th>\n",
       "      <td>Snacks</td>\n",
       "      <td>Candy</td>\n",
       "      <td>Chocolate Candy</td>\n",
       "      <td>NaN</td>\n",
       "      <td>KINDER'S</td>\n",
       "      <td>KINDER'S</td>\n",
       "      <td>8.031017e+07</td>\n",
       "    </tr>\n",
       "    <tr>\n",
       "      <th>594577</th>\n",
       "      <td>Snacks</td>\n",
       "      <td>Candy</td>\n",
       "      <td>Gum</td>\n",
       "      <td>NaN</td>\n",
       "      <td>THE HERSHEY COMPANY</td>\n",
       "      <td>ICE BREAKERS</td>\n",
       "      <td>3.484708e+06</td>\n",
       "    </tr>\n",
       "    <tr>\n",
       "      <th>596671</th>\n",
       "      <td>Health &amp; Wellness</td>\n",
       "      <td>First Aid</td>\n",
       "      <td>Ointments &amp; Liquids</td>\n",
       "      <td>NaN</td>\n",
       "      <td>THE JM SMUCKER COMPANY</td>\n",
       "      <td>DICKINSON'S</td>\n",
       "      <td>5.265169e+06</td>\n",
       "    </tr>\n",
       "    <tr>\n",
       "      <th>610568</th>\n",
       "      <td>Snacks</td>\n",
       "      <td>Nuts &amp; Seeds</td>\n",
       "      <td>Snack Seeds</td>\n",
       "      <td>NaN</td>\n",
       "      <td>SUNRIDGE FARMS</td>\n",
       "      <td>SUNRIDGE FARMS</td>\n",
       "      <td>7.019830e+05</td>\n",
       "    </tr>\n",
       "    <tr>\n",
       "      <th>645146</th>\n",
       "      <td>Snacks</td>\n",
       "      <td>Chips</td>\n",
       "      <td>Crisps</td>\n",
       "      <td>NaN</td>\n",
       "      <td>TRADER JOE'S</td>\n",
       "      <td>TRADER JOE'S</td>\n",
       "      <td>7.019830e+05</td>\n",
       "    </tr>\n",
       "    <tr>\n",
       "      <th>668584</th>\n",
       "      <td>Health &amp; Wellness</td>\n",
       "      <td>Skin Care</td>\n",
       "      <td>Eye Creams</td>\n",
       "      <td>NaN</td>\n",
       "      <td>WALA HEILMITTEL GMBH</td>\n",
       "      <td>DR HAUSCHKA</td>\n",
       "      <td>4.220849e+07</td>\n",
       "    </tr>\n",
       "    <tr>\n",
       "      <th>681134</th>\n",
       "      <td>Snacks</td>\n",
       "      <td>Nuts &amp; Seeds</td>\n",
       "      <td>Almonds</td>\n",
       "      <td>NaN</td>\n",
       "      <td>TRADER JOE'S</td>\n",
       "      <td>TRADER JOE'S</td>\n",
       "      <td>9.693070e+05</td>\n",
       "    </tr>\n",
       "    <tr>\n",
       "      <th>708319</th>\n",
       "      <td>Snacks</td>\n",
       "      <td>Candy</td>\n",
       "      <td>Mints</td>\n",
       "      <td>NaN</td>\n",
       "      <td>LOTUS BRANDS INC</td>\n",
       "      <td>ECO-DENT</td>\n",
       "      <td>3.600540e+08</td>\n",
       "    </tr>\n",
       "    <tr>\n",
       "      <th>709460</th>\n",
       "      <td>Health &amp; Wellness</td>\n",
       "      <td>Hair Care</td>\n",
       "      <td>Hair Color</td>\n",
       "      <td>NaN</td>\n",
       "      <td>HENKEL</td>\n",
       "      <td>GÖT2B</td>\n",
       "      <td>5.233692e+10</td>\n",
       "    </tr>\n",
       "    <tr>\n",
       "      <th>717296</th>\n",
       "      <td>Snacks</td>\n",
       "      <td>Candy</td>\n",
       "      <td>Gum</td>\n",
       "      <td>NaN</td>\n",
       "      <td>GENERAL LICENSED IP MANUFACTURER</td>\n",
       "      <td>DISNEY</td>\n",
       "      <td>3.484708e+06</td>\n",
       "    </tr>\n",
       "    <tr>\n",
       "      <th>719868</th>\n",
       "      <td>Snacks</td>\n",
       "      <td>Crackers</td>\n",
       "      <td>Graham Crackers</td>\n",
       "      <td>NaN</td>\n",
       "      <td>PLACEHOLDER MANUFACTURER</td>\n",
       "      <td>PRIVATE LABEL</td>\n",
       "      <td>2.073306e+07</td>\n",
       "    </tr>\n",
       "    <tr>\n",
       "      <th>766076</th>\n",
       "      <td>Snacks</td>\n",
       "      <td>Candy</td>\n",
       "      <td>Chocolate Candy</td>\n",
       "      <td>NaN</td>\n",
       "      <td>THE HERSHEY COMPANY</td>\n",
       "      <td>REESE'S</td>\n",
       "      <td>3.473009e+06</td>\n",
       "    </tr>\n",
       "    <tr>\n",
       "      <th>768502</th>\n",
       "      <td>Health &amp; Wellness</td>\n",
       "      <td>Skin Care</td>\n",
       "      <td>Skin Toners &amp; Astringents</td>\n",
       "      <td>Astringents</td>\n",
       "      <td>THE JM SMUCKER COMPANY</td>\n",
       "      <td>DICKINSON'S</td>\n",
       "      <td>5.265169e+06</td>\n",
       "    </tr>\n",
       "    <tr>\n",
       "      <th>776767</th>\n",
       "      <td>Snacks</td>\n",
       "      <td>Nuts &amp; Seeds</td>\n",
       "      <td>Covered Nuts</td>\n",
       "      <td>NaN</td>\n",
       "      <td>PLACEHOLDER MANUFACTURER</td>\n",
       "      <td>UNKNOWN BRAND</td>\n",
       "      <td>2.015908e+07</td>\n",
       "    </tr>\n",
       "    <tr>\n",
       "      <th>777403</th>\n",
       "      <td>Snacks</td>\n",
       "      <td>Candy</td>\n",
       "      <td>Mints</td>\n",
       "      <td>NaN</td>\n",
       "      <td>PERFETTI VAN MELLE</td>\n",
       "      <td>MENTOS</td>\n",
       "      <td>8.730629e+07</td>\n",
       "    </tr>\n",
       "    <tr>\n",
       "      <th>781849</th>\n",
       "      <td>Snacks</td>\n",
       "      <td>Chips</td>\n",
       "      <td>Crisps</td>\n",
       "      <td>NaN</td>\n",
       "      <td>PLACEHOLDER MANUFACTURER</td>\n",
       "      <td>PRIVATE LABEL</td>\n",
       "      <td>2.073325e+07</td>\n",
       "    </tr>\n",
       "    <tr>\n",
       "      <th>782834</th>\n",
       "      <td>Snacks</td>\n",
       "      <td>Cookies</td>\n",
       "      <td>NaN</td>\n",
       "      <td>NaN</td>\n",
       "      <td>PLACEHOLDER MANUFACTURER</td>\n",
       "      <td>PRIVATE LABEL</td>\n",
       "      <td>2.003108e+07</td>\n",
       "    </tr>\n",
       "    <tr>\n",
       "      <th>810158</th>\n",
       "      <td>Health &amp; Wellness</td>\n",
       "      <td>Hair Removal</td>\n",
       "      <td>Shaving Gel &amp; Cream</td>\n",
       "      <td>Men's Shaving Gel &amp; Cream</td>\n",
       "      <td>PLACEHOLDER MANUFACTURER</td>\n",
       "      <td>PRORASO</td>\n",
       "      <td>8.019914e+07</td>\n",
       "    </tr>\n",
       "    <tr>\n",
       "      <th>841016</th>\n",
       "      <td>Snacks</td>\n",
       "      <td>Candy</td>\n",
       "      <td>Chocolate Candy</td>\n",
       "      <td>NaN</td>\n",
       "      <td>MARS WRIGLEY</td>\n",
       "      <td>M&amp;M'S</td>\n",
       "      <td>4.043100e+05</td>\n",
       "    </tr>\n",
       "  </tbody>\n",
       "</table>\n",
       "</div>"
      ],
      "text/plain": [
       "               CATEGORY_1    CATEGORY_2                   CATEGORY_3  \\\n",
       "162     Health & Wellness  Hair Removal          Shaving Gel & Cream   \n",
       "28421   Health & Wellness     Hair Care                   Hair Color   \n",
       "36017              Snacks         Candy           Candy Variety Pack   \n",
       "37152              Snacks         Candy             Confection Candy   \n",
       "56987              Snacks  Nuts & Seeds                      Almonds   \n",
       "96435              Snacks      Crackers               Other Crackers   \n",
       "108321             Snacks         Candy                        Mints   \n",
       "114126             Snacks         Candy              Chocolate Candy   \n",
       "123189  Health & Wellness     Skin Care       Lip Balms & Treatments   \n",
       "127329             Snacks  Nuts & Seeds                   Pistachios   \n",
       "132540             Snacks       Cookies                          NaN   \n",
       "137242             Snacks  Nuts & Seeds                      Peanuts   \n",
       "139113             Snacks         Candy              Chocolate Candy   \n",
       "144670             Snacks         Candy              Chocolate Candy   \n",
       "171005             Snacks  Nuts & Seeds                 Covered Nuts   \n",
       "181892             Snacks         Candy             Confection Candy   \n",
       "184561             Snacks         Candy              Chocolate Candy   \n",
       "193336             Snacks         Candy              Chocolate Candy   \n",
       "206159             Snacks      Crackers              Graham Crackers   \n",
       "213326  Health & Wellness     Hair Care                   Hair Color   \n",
       "216300             Snacks         Candy              Chocolate Candy   \n",
       "260669             Snacks         Candy              Chocolate Candy   \n",
       "274674             Snacks         Candy              Chocolate Candy   \n",
       "287380             Snacks         Candy              Chocolate Candy   \n",
       "300301             Snacks         Candy             Confection Candy   \n",
       "303995  Health & Wellness     Hair Care                   Hair Color   \n",
       "333739  Health & Wellness     Skin Care                   Eye Creams   \n",
       "379700             Snacks         Candy                          Gum   \n",
       "402333             Snacks         Candy             Confection Candy   \n",
       "422750             Snacks         Candy              Chocolate Candy   \n",
       "428195  Health & Wellness     Skin Care  Facial Lotion & Moisturizer   \n",
       "454469             Snacks         Candy              Chocolate Candy   \n",
       "468650             Snacks         Candy                          Gum   \n",
       "528622             Snacks         Candy                          Gum   \n",
       "539824             Snacks         Candy                          Gum   \n",
       "585528             Snacks         Candy              Chocolate Candy   \n",
       "594577             Snacks         Candy                          Gum   \n",
       "596671  Health & Wellness     First Aid          Ointments & Liquids   \n",
       "610568             Snacks  Nuts & Seeds                  Snack Seeds   \n",
       "645146             Snacks         Chips                       Crisps   \n",
       "668584  Health & Wellness     Skin Care                   Eye Creams   \n",
       "681134             Snacks  Nuts & Seeds                      Almonds   \n",
       "708319             Snacks         Candy                        Mints   \n",
       "709460  Health & Wellness     Hair Care                   Hair Color   \n",
       "717296             Snacks         Candy                          Gum   \n",
       "719868             Snacks      Crackers              Graham Crackers   \n",
       "766076             Snacks         Candy              Chocolate Candy   \n",
       "768502  Health & Wellness     Skin Care    Skin Toners & Astringents   \n",
       "776767             Snacks  Nuts & Seeds                 Covered Nuts   \n",
       "777403             Snacks         Candy                        Mints   \n",
       "781849             Snacks         Chips                       Crisps   \n",
       "782834             Snacks       Cookies                          NaN   \n",
       "810158  Health & Wellness  Hair Removal          Shaving Gel & Cream   \n",
       "841016             Snacks         Candy              Chocolate Candy   \n",
       "\n",
       "                         CATEGORY_4                      MANUFACTURER  \\\n",
       "162     Women's Shaving Gel & Cream          PLACEHOLDER MANUFACTURER   \n",
       "28421                           NaN                            HENKEL   \n",
       "36017                           NaN               THE HERSHEY COMPANY   \n",
       "37152                           NaN                PERFETTI VAN MELLE   \n",
       "56987                           NaN          PLACEHOLDER MANUFACTURER   \n",
       "96435                           NaN              UNKNOWN MANUFACTURER   \n",
       "108321                          NaN                PERFETTI VAN MELLE   \n",
       "114126                          NaN   GRUPO NACIONAL DE CHOCOLATES SA   \n",
       "123189     Medicated Lip Treatments        E.T. BROWNE DRUG CO., INC.   \n",
       "127329                          NaN                      LIDL US, LLC   \n",
       "132540                          NaN              UNKNOWN MANUFACTURER   \n",
       "137242                          NaN                      MARS WRIGLEY   \n",
       "139113                          NaN          PLACEHOLDER MANUFACTURER   \n",
       "144670                          NaN               THE HERSHEY COMPANY   \n",
       "171005                          NaN                      TRADER JOE'S   \n",
       "181892                          NaN   GRUPO NACIONAL DE CHOCOLATES SA   \n",
       "184561                          NaN              UNKNOWN MANUFACTURER   \n",
       "193336                          NaN                      MARS WRIGLEY   \n",
       "206159                          NaN                      LIDL US, LLC   \n",
       "213326                          NaN                            HENKEL   \n",
       "216300                          NaN                     FERRERO GROUP   \n",
       "260669                          NaN                      LIDL US, LLC   \n",
       "274674                          NaN                  PROCTER & GAMBLE   \n",
       "287380                          NaN                            NESTLE   \n",
       "300301                          NaN                PERFETTI VAN MELLE   \n",
       "303995                          NaN                            HENKEL   \n",
       "333739                          NaN              UNKNOWN MANUFACTURER   \n",
       "379700                          NaN              UNKNOWN MANUFACTURER   \n",
       "402333                          NaN               THE HERSHEY COMPANY   \n",
       "422750                          NaN               THE HERSHEY COMPANY   \n",
       "428195                          NaN          R.M. PALMER COMPANY, LLC   \n",
       "454469                          NaN                      MARS WRIGLEY   \n",
       "468650                          NaN  GENERAL LICENSED IP MANUFACTURER   \n",
       "528622                          NaN               THE HERSHEY COMPANY   \n",
       "539824                          NaN               THE HERSHEY COMPANY   \n",
       "585528                          NaN                          KINDER'S   \n",
       "594577                          NaN               THE HERSHEY COMPANY   \n",
       "596671                          NaN            THE JM SMUCKER COMPANY   \n",
       "610568                          NaN                    SUNRIDGE FARMS   \n",
       "645146                          NaN                      TRADER JOE'S   \n",
       "668584                          NaN              WALA HEILMITTEL GMBH   \n",
       "681134                          NaN                      TRADER JOE'S   \n",
       "708319                          NaN                  LOTUS BRANDS INC   \n",
       "709460                          NaN                            HENKEL   \n",
       "717296                          NaN  GENERAL LICENSED IP MANUFACTURER   \n",
       "719868                          NaN          PLACEHOLDER MANUFACTURER   \n",
       "766076                          NaN               THE HERSHEY COMPANY   \n",
       "768502                  Astringents            THE JM SMUCKER COMPANY   \n",
       "776767                          NaN          PLACEHOLDER MANUFACTURER   \n",
       "777403                          NaN                PERFETTI VAN MELLE   \n",
       "781849                          NaN          PLACEHOLDER MANUFACTURER   \n",
       "782834                          NaN          PLACEHOLDER MANUFACTURER   \n",
       "810158    Men's Shaving Gel & Cream          PLACEHOLDER MANUFACTURER   \n",
       "841016                          NaN                      MARS WRIGLEY   \n",
       "\n",
       "                            BRAND       BARCODE  \n",
       "162                       PRORASO  8.019914e+07  \n",
       "28421                 SCHWARZKOPF  5.233692e+10  \n",
       "36017                   HERSHEY'S  3.422007e+06  \n",
       "37152                      MENTOS  8.730629e+07  \n",
       "56987               UNKNOWN BRAND  2.015908e+07  \n",
       "96435               UNKNOWN BRAND  2.073325e+07  \n",
       "108321                     MENTOS  8.710854e+07  \n",
       "114126                    NUTRESA  7.505306e+07  \n",
       "123189  PALMER'S SKIN & HAIR CARE  1.018158e+06  \n",
       "127329                       LIDL  2.052244e+07  \n",
       "132540              UNKNOWN BRAND  2.003108e+07  \n",
       "137242                      M&M'S  4.003207e+06  \n",
       "139113              UNKNOWN BRAND  4.043100e+05  \n",
       "144670                    REESE'S  3.431207e+06  \n",
       "171005               TRADER JOE'S  9.693070e+05  \n",
       "181892                    NUTRESA  7.505306e+07  \n",
       "184561              UNKNOWN BRAND  5.042617e+07  \n",
       "193336                      M&M'S  4.003207e+06  \n",
       "206159                       LIDL  2.073306e+07  \n",
       "213326                SCHWARZKOPF  1.700033e+10  \n",
       "216300                     KINDER  8.031017e+07  \n",
       "260669                       LIDL  2.052244e+07  \n",
       "274674                     BOUNTY  4.011122e+07  \n",
       "287380                     NESTLE  5.042617e+07  \n",
       "300301                     MENTOS  8.710854e+07  \n",
       "303995                      GÖT2B  1.700033e+10  \n",
       "333739              UNKNOWN BRAND  4.220849e+07  \n",
       "379700              UNKNOWN BRAND  3.600540e+08  \n",
       "402333                    REESE'S  3.431207e+06  \n",
       "422750                  HERSHEY'S  3.422007e+06  \n",
       "428195                     PALMER  1.018158e+06  \n",
       "454469                       MARS  4.011122e+07  \n",
       "468650                     DISNEY  3.454503e+06  \n",
       "528622               ICE BREAKERS  3.454503e+06  \n",
       "539824                 BUBBLE YUM  3.473009e+06  \n",
       "585528                   KINDER'S  8.031017e+07  \n",
       "594577               ICE BREAKERS  3.484708e+06  \n",
       "596671                DICKINSON'S  5.265169e+06  \n",
       "610568             SUNRIDGE FARMS  7.019830e+05  \n",
       "645146               TRADER JOE'S  7.019830e+05  \n",
       "668584                DR HAUSCHKA  4.220849e+07  \n",
       "681134               TRADER JOE'S  9.693070e+05  \n",
       "708319                   ECO-DENT  3.600540e+08  \n",
       "709460                      GÖT2B  5.233692e+10  \n",
       "717296                     DISNEY  3.484708e+06  \n",
       "719868              PRIVATE LABEL  2.073306e+07  \n",
       "766076                    REESE'S  3.473009e+06  \n",
       "768502                DICKINSON'S  5.265169e+06  \n",
       "776767              UNKNOWN BRAND  2.015908e+07  \n",
       "777403                     MENTOS  8.730629e+07  \n",
       "781849              PRIVATE LABEL  2.073325e+07  \n",
       "782834              PRIVATE LABEL  2.003108e+07  \n",
       "810158                    PRORASO  8.019914e+07  \n",
       "841016                      M&M'S  4.043100e+05  "
      ]
     },
     "execution_count": 60,
     "metadata": {},
     "output_type": "execute_result"
    }
   ],
   "source": [
    "# identify duplicated barcodes\n",
    "duplicated_barcodes = clean_products_df['BARCODE'].duplicated(keep=False)\n",
    "\n",
    "# filter the DataFrame for rows with duplicated barcodes\n",
    "duplicated_rows = clean_products_df[duplicated_barcodes & clean_products_df['BARCODE'].notnull()]\n",
    "\n",
    "duplicated_rows\n"
   ]
  },
  {
   "cell_type": "markdown",
   "metadata": {},
   "source": [
    "From the above, we can see there are a few reasons for duplicates:\n",
    "\n",
    "1. same product but appear in multiple categories / sub-categories\n",
    "2. same product but sold by different brands\n"
   ]
  },
  {
   "cell_type": "markdown",
   "metadata": {},
   "source": [
    "**Data quality issue #8**: Incorrect data type of BARCODE"
   ]
  },
  {
   "cell_type": "markdown",
   "metadata": {},
   "source": [
    "Although the ER diagram in the instruction mentioned that BARCODE should be of INTEGER type, one potential issue is that if there's any leading zeros in the original barcode, we could miss it and hence have inaccurate data about products."
   ]
  },
  {
   "cell_type": "markdown",
   "metadata": {},
   "source": [
    "Next, let's verify the length of the barcode.\n",
    "\n",
    "Barcode typically is a 12-digit number identifier in the United States. But there are also barcodes with 13 digits or 8 digits that are primarily used outside of North America. There is no need to align the lengh of the barcodes. It is not used for calculations but for lookups, joins or comparisons. Therefore using string as the data type would ensure no unintended numerical operations are performed on them. "
   ]
  },
  {
   "cell_type": "code",
   "execution_count": 61,
   "metadata": {},
   "outputs": [
    {
     "name": "stdout",
     "output_type": "stream",
     "text": [
      "There are 309090 barcodes that have less than 12 digits.\n",
      "There are 30188 barcodes that have more than 12 digits.\n"
     ]
    }
   ],
   "source": [
    "# verify the length of the barcode\n",
    "less_than_12 = 0\n",
    "more_than_12 = 0\n",
    "for idx, barcode in enumerate(clean_products_df.BARCODE.values):\n",
    "    if not pd.isnull(barcode) and len(str(barcode).split('.')[0]) < 12:\n",
    "        less_than_12 += 1\n",
    "    elif not pd.isnull(barcode) and len(str(barcode).split('.')[0]) > 12:\n",
    "        more_than_12 += 1\n",
    "print(f\"There are {less_than_12} barcodes that have less than 12 digits.\")\n",
    "print(f\"There are {more_than_12} barcodes that have more than 12 digits.\")"
   ]
  },
  {
   "cell_type": "markdown",
   "metadata": {},
   "source": [
    "It shows that there are different lengths of barcodes in our entire product list.\n",
    "\n",
    "Let's first convert the data type as string"
   ]
  },
  {
   "cell_type": "code",
   "execution_count": 62,
   "metadata": {},
   "outputs": [],
   "source": [
    "# Convert data type of BARCODE as string\n",
    "clean_products_df['BARCODE'] = clean_products_df['BARCODE'].apply(\n",
    "    lambda x: str(x).split('.')[0] if not pd.isnull(x) else x)"
   ]
  },
  {
   "cell_type": "code",
   "execution_count": 63,
   "metadata": {},
   "outputs": [],
   "source": [
    "# create a column that indicates the length of the barcode\n",
    "clean_products_df['BARCODE_LENGTH'] = clean_products_df['BARCODE'].apply(lambda x: len(x) if not pd.isnull(x) else -1)\n",
    "# if BARCODE is null, return -1"
   ]
  },
  {
   "cell_type": "code",
   "execution_count": 64,
   "metadata": {},
   "outputs": [
    {
     "data": {
      "text/plain": [
       "BARCODE_LENGTH\n",
       " 12    502091\n",
       " 11    296376\n",
       " 13     30144\n",
       " 10      7591\n",
       "-1       3968\n",
       " 8       1865\n",
       " 9       1762\n",
       " 7        841\n",
       " 6        563\n",
       " 5         83\n",
       " 14        44\n",
       " 4          8\n",
       " 3          1\n",
       "Name: count, dtype: int64"
      ]
     },
     "execution_count": 64,
     "metadata": {},
     "output_type": "execute_result"
    }
   ],
   "source": [
    "clean_products_df.BARCODE_LENGTH.value_counts()"
   ]
  },
  {
   "cell_type": "markdown",
   "metadata": {},
   "source": [
    "**Data quality issue #9**: Missing values in BARCODE\n",
    "\n",
    "This would require team effort to backfill the data."
   ]
  },
  {
   "cell_type": "code",
   "execution_count": 65,
   "metadata": {},
   "outputs": [
    {
     "data": {
      "text/plain": [
       "3968"
      ]
     },
     "execution_count": 65,
     "metadata": {},
     "output_type": "execute_result"
    }
   ],
   "source": [
    "# check for missing values in barcode\n",
    "clean_products_df.BARCODE.isnull().sum()"
   ]
  },
  {
   "cell_type": "markdown",
   "metadata": {},
   "source": [
    "Since we need to join the product table and transaction table, if we couldn't identify the product from product table, it offers no information. Therefore I would create a new dataframe for products only with known products with known BARCODE."
   ]
  },
  {
   "cell_type": "code",
   "execution_count": 362,
   "metadata": {},
   "outputs": [],
   "source": [
    "# create a copy of clean_products_df\n",
    "known_products_df = clean_products_df.copy()"
   ]
  },
  {
   "cell_type": "code",
   "execution_count": 363,
   "metadata": {},
   "outputs": [],
   "source": [
    "# drop all rows with missing BARCODE\n",
    "known_products_df = known_products_df[known_products_df.BARCODE.notnull()]"
   ]
  },
  {
   "cell_type": "code",
   "execution_count": 364,
   "metadata": {},
   "outputs": [
    {
     "data": {
      "text/html": [
       "<div>\n",
       "<style scoped>\n",
       "    .dataframe tbody tr th:only-of-type {\n",
       "        vertical-align: middle;\n",
       "    }\n",
       "\n",
       "    .dataframe tbody tr th {\n",
       "        vertical-align: top;\n",
       "    }\n",
       "\n",
       "    .dataframe thead th {\n",
       "        text-align: right;\n",
       "    }\n",
       "</style>\n",
       "<table border=\"1\" class=\"dataframe\">\n",
       "  <thead>\n",
       "    <tr style=\"text-align: right;\">\n",
       "      <th></th>\n",
       "      <th>CATEGORY_1</th>\n",
       "      <th>CATEGORY_2</th>\n",
       "      <th>CATEGORY_3</th>\n",
       "      <th>CATEGORY_4</th>\n",
       "      <th>MANUFACTURER</th>\n",
       "      <th>BRAND</th>\n",
       "      <th>BARCODE</th>\n",
       "      <th>BARCODE_LENGTH</th>\n",
       "    </tr>\n",
       "  </thead>\n",
       "  <tbody>\n",
       "    <tr>\n",
       "      <th>162</th>\n",
       "      <td>Health &amp; Wellness</td>\n",
       "      <td>Hair Removal</td>\n",
       "      <td>Shaving Gel &amp; Cream</td>\n",
       "      <td>Women's Shaving Gel &amp; Cream</td>\n",
       "      <td>PLACEHOLDER MANUFACTURER</td>\n",
       "      <td>PRORASO</td>\n",
       "      <td>80199137</td>\n",
       "      <td>8</td>\n",
       "    </tr>\n",
       "    <tr>\n",
       "      <th>36017</th>\n",
       "      <td>Snacks</td>\n",
       "      <td>Candy</td>\n",
       "      <td>Candy Variety Pack</td>\n",
       "      <td>NaN</td>\n",
       "      <td>THE HERSHEY COMPANY</td>\n",
       "      <td>HERSHEY'S</td>\n",
       "      <td>3422007</td>\n",
       "      <td>7</td>\n",
       "    </tr>\n",
       "    <tr>\n",
       "      <th>37152</th>\n",
       "      <td>Snacks</td>\n",
       "      <td>Candy</td>\n",
       "      <td>Confection Candy</td>\n",
       "      <td>NaN</td>\n",
       "      <td>PERFETTI VAN MELLE</td>\n",
       "      <td>MENTOS</td>\n",
       "      <td>87306286</td>\n",
       "      <td>8</td>\n",
       "    </tr>\n",
       "    <tr>\n",
       "      <th>56987</th>\n",
       "      <td>Snacks</td>\n",
       "      <td>Nuts &amp; Seeds</td>\n",
       "      <td>Almonds</td>\n",
       "      <td>NaN</td>\n",
       "      <td>PLACEHOLDER MANUFACTURER</td>\n",
       "      <td>UNKNOWN BRAND</td>\n",
       "      <td>20159078</td>\n",
       "      <td>8</td>\n",
       "    </tr>\n",
       "    <tr>\n",
       "      <th>108321</th>\n",
       "      <td>Snacks</td>\n",
       "      <td>Candy</td>\n",
       "      <td>Mints</td>\n",
       "      <td>NaN</td>\n",
       "      <td>PERFETTI VAN MELLE</td>\n",
       "      <td>MENTOS</td>\n",
       "      <td>87108538</td>\n",
       "      <td>8</td>\n",
       "    </tr>\n",
       "    <tr>\n",
       "      <th>114126</th>\n",
       "      <td>Snacks</td>\n",
       "      <td>Candy</td>\n",
       "      <td>Chocolate Candy</td>\n",
       "      <td>NaN</td>\n",
       "      <td>GRUPO NACIONAL DE CHOCOLATES SA</td>\n",
       "      <td>NUTRESA</td>\n",
       "      <td>75053055</td>\n",
       "      <td>8</td>\n",
       "    </tr>\n",
       "    <tr>\n",
       "      <th>127329</th>\n",
       "      <td>Snacks</td>\n",
       "      <td>Nuts &amp; Seeds</td>\n",
       "      <td>Pistachios</td>\n",
       "      <td>NaN</td>\n",
       "      <td>LIDL US, LLC</td>\n",
       "      <td>LIDL</td>\n",
       "      <td>20522445</td>\n",
       "      <td>8</td>\n",
       "    </tr>\n",
       "    <tr>\n",
       "      <th>137242</th>\n",
       "      <td>Snacks</td>\n",
       "      <td>Nuts &amp; Seeds</td>\n",
       "      <td>Peanuts</td>\n",
       "      <td>NaN</td>\n",
       "      <td>MARS WRIGLEY</td>\n",
       "      <td>M&amp;M'S</td>\n",
       "      <td>4003207</td>\n",
       "      <td>7</td>\n",
       "    </tr>\n",
       "    <tr>\n",
       "      <th>144670</th>\n",
       "      <td>Snacks</td>\n",
       "      <td>Candy</td>\n",
       "      <td>Chocolate Candy</td>\n",
       "      <td>NaN</td>\n",
       "      <td>THE HERSHEY COMPANY</td>\n",
       "      <td>REESE'S</td>\n",
       "      <td>3431207</td>\n",
       "      <td>7</td>\n",
       "    </tr>\n",
       "    <tr>\n",
       "      <th>171005</th>\n",
       "      <td>Snacks</td>\n",
       "      <td>Nuts &amp; Seeds</td>\n",
       "      <td>Covered Nuts</td>\n",
       "      <td>NaN</td>\n",
       "      <td>TRADER JOE'S</td>\n",
       "      <td>TRADER JOE'S</td>\n",
       "      <td>969307</td>\n",
       "      <td>6</td>\n",
       "    </tr>\n",
       "    <tr>\n",
       "      <th>181892</th>\n",
       "      <td>Snacks</td>\n",
       "      <td>Candy</td>\n",
       "      <td>Confection Candy</td>\n",
       "      <td>NaN</td>\n",
       "      <td>GRUPO NACIONAL DE CHOCOLATES SA</td>\n",
       "      <td>NUTRESA</td>\n",
       "      <td>75053055</td>\n",
       "      <td>8</td>\n",
       "    </tr>\n",
       "    <tr>\n",
       "      <th>193336</th>\n",
       "      <td>Snacks</td>\n",
       "      <td>Candy</td>\n",
       "      <td>Chocolate Candy</td>\n",
       "      <td>NaN</td>\n",
       "      <td>MARS WRIGLEY</td>\n",
       "      <td>M&amp;M'S</td>\n",
       "      <td>4003207</td>\n",
       "      <td>7</td>\n",
       "    </tr>\n",
       "    <tr>\n",
       "      <th>260669</th>\n",
       "      <td>Snacks</td>\n",
       "      <td>Candy</td>\n",
       "      <td>Chocolate Candy</td>\n",
       "      <td>NaN</td>\n",
       "      <td>LIDL US, LLC</td>\n",
       "      <td>LIDL</td>\n",
       "      <td>20522445</td>\n",
       "      <td>8</td>\n",
       "    </tr>\n",
       "    <tr>\n",
       "      <th>300301</th>\n",
       "      <td>Snacks</td>\n",
       "      <td>Candy</td>\n",
       "      <td>Confection Candy</td>\n",
       "      <td>NaN</td>\n",
       "      <td>PERFETTI VAN MELLE</td>\n",
       "      <td>MENTOS</td>\n",
       "      <td>87108538</td>\n",
       "      <td>8</td>\n",
       "    </tr>\n",
       "    <tr>\n",
       "      <th>402333</th>\n",
       "      <td>Snacks</td>\n",
       "      <td>Candy</td>\n",
       "      <td>Confection Candy</td>\n",
       "      <td>NaN</td>\n",
       "      <td>THE HERSHEY COMPANY</td>\n",
       "      <td>REESE'S</td>\n",
       "      <td>3431207</td>\n",
       "      <td>7</td>\n",
       "    </tr>\n",
       "    <tr>\n",
       "      <th>422750</th>\n",
       "      <td>Snacks</td>\n",
       "      <td>Candy</td>\n",
       "      <td>Chocolate Candy</td>\n",
       "      <td>NaN</td>\n",
       "      <td>THE HERSHEY COMPANY</td>\n",
       "      <td>HERSHEY'S</td>\n",
       "      <td>3422007</td>\n",
       "      <td>7</td>\n",
       "    </tr>\n",
       "    <tr>\n",
       "      <th>596671</th>\n",
       "      <td>Health &amp; Wellness</td>\n",
       "      <td>First Aid</td>\n",
       "      <td>Ointments &amp; Liquids</td>\n",
       "      <td>NaN</td>\n",
       "      <td>THE JM SMUCKER COMPANY</td>\n",
       "      <td>DICKINSON'S</td>\n",
       "      <td>5265169</td>\n",
       "      <td>7</td>\n",
       "    </tr>\n",
       "    <tr>\n",
       "      <th>681134</th>\n",
       "      <td>Snacks</td>\n",
       "      <td>Nuts &amp; Seeds</td>\n",
       "      <td>Almonds</td>\n",
       "      <td>NaN</td>\n",
       "      <td>TRADER JOE'S</td>\n",
       "      <td>TRADER JOE'S</td>\n",
       "      <td>969307</td>\n",
       "      <td>6</td>\n",
       "    </tr>\n",
       "    <tr>\n",
       "      <th>768502</th>\n",
       "      <td>Health &amp; Wellness</td>\n",
       "      <td>Skin Care</td>\n",
       "      <td>Skin Toners &amp; Astringents</td>\n",
       "      <td>Astringents</td>\n",
       "      <td>THE JM SMUCKER COMPANY</td>\n",
       "      <td>DICKINSON'S</td>\n",
       "      <td>5265169</td>\n",
       "      <td>7</td>\n",
       "    </tr>\n",
       "    <tr>\n",
       "      <th>776767</th>\n",
       "      <td>Snacks</td>\n",
       "      <td>Nuts &amp; Seeds</td>\n",
       "      <td>Covered Nuts</td>\n",
       "      <td>NaN</td>\n",
       "      <td>PLACEHOLDER MANUFACTURER</td>\n",
       "      <td>UNKNOWN BRAND</td>\n",
       "      <td>20159078</td>\n",
       "      <td>8</td>\n",
       "    </tr>\n",
       "    <tr>\n",
       "      <th>777403</th>\n",
       "      <td>Snacks</td>\n",
       "      <td>Candy</td>\n",
       "      <td>Mints</td>\n",
       "      <td>NaN</td>\n",
       "      <td>PERFETTI VAN MELLE</td>\n",
       "      <td>MENTOS</td>\n",
       "      <td>87306286</td>\n",
       "      <td>8</td>\n",
       "    </tr>\n",
       "    <tr>\n",
       "      <th>810158</th>\n",
       "      <td>Health &amp; Wellness</td>\n",
       "      <td>Hair Removal</td>\n",
       "      <td>Shaving Gel &amp; Cream</td>\n",
       "      <td>Men's Shaving Gel &amp; Cream</td>\n",
       "      <td>PLACEHOLDER MANUFACTURER</td>\n",
       "      <td>PRORASO</td>\n",
       "      <td>80199137</td>\n",
       "      <td>8</td>\n",
       "    </tr>\n",
       "  </tbody>\n",
       "</table>\n",
       "</div>"
      ],
      "text/plain": [
       "               CATEGORY_1    CATEGORY_2                 CATEGORY_3  \\\n",
       "162     Health & Wellness  Hair Removal        Shaving Gel & Cream   \n",
       "36017              Snacks         Candy         Candy Variety Pack   \n",
       "37152              Snacks         Candy           Confection Candy   \n",
       "56987              Snacks  Nuts & Seeds                    Almonds   \n",
       "108321             Snacks         Candy                      Mints   \n",
       "114126             Snacks         Candy            Chocolate Candy   \n",
       "127329             Snacks  Nuts & Seeds                 Pistachios   \n",
       "137242             Snacks  Nuts & Seeds                    Peanuts   \n",
       "144670             Snacks         Candy            Chocolate Candy   \n",
       "171005             Snacks  Nuts & Seeds               Covered Nuts   \n",
       "181892             Snacks         Candy           Confection Candy   \n",
       "193336             Snacks         Candy            Chocolate Candy   \n",
       "260669             Snacks         Candy            Chocolate Candy   \n",
       "300301             Snacks         Candy           Confection Candy   \n",
       "402333             Snacks         Candy           Confection Candy   \n",
       "422750             Snacks         Candy            Chocolate Candy   \n",
       "596671  Health & Wellness     First Aid        Ointments & Liquids   \n",
       "681134             Snacks  Nuts & Seeds                    Almonds   \n",
       "768502  Health & Wellness     Skin Care  Skin Toners & Astringents   \n",
       "776767             Snacks  Nuts & Seeds               Covered Nuts   \n",
       "777403             Snacks         Candy                      Mints   \n",
       "810158  Health & Wellness  Hair Removal        Shaving Gel & Cream   \n",
       "\n",
       "                         CATEGORY_4                     MANUFACTURER  \\\n",
       "162     Women's Shaving Gel & Cream         PLACEHOLDER MANUFACTURER   \n",
       "36017                           NaN              THE HERSHEY COMPANY   \n",
       "37152                           NaN               PERFETTI VAN MELLE   \n",
       "56987                           NaN         PLACEHOLDER MANUFACTURER   \n",
       "108321                          NaN               PERFETTI VAN MELLE   \n",
       "114126                          NaN  GRUPO NACIONAL DE CHOCOLATES SA   \n",
       "127329                          NaN                     LIDL US, LLC   \n",
       "137242                          NaN                     MARS WRIGLEY   \n",
       "144670                          NaN              THE HERSHEY COMPANY   \n",
       "171005                          NaN                     TRADER JOE'S   \n",
       "181892                          NaN  GRUPO NACIONAL DE CHOCOLATES SA   \n",
       "193336                          NaN                     MARS WRIGLEY   \n",
       "260669                          NaN                     LIDL US, LLC   \n",
       "300301                          NaN               PERFETTI VAN MELLE   \n",
       "402333                          NaN              THE HERSHEY COMPANY   \n",
       "422750                          NaN              THE HERSHEY COMPANY   \n",
       "596671                          NaN           THE JM SMUCKER COMPANY   \n",
       "681134                          NaN                     TRADER JOE'S   \n",
       "768502                  Astringents           THE JM SMUCKER COMPANY   \n",
       "776767                          NaN         PLACEHOLDER MANUFACTURER   \n",
       "777403                          NaN               PERFETTI VAN MELLE   \n",
       "810158    Men's Shaving Gel & Cream         PLACEHOLDER MANUFACTURER   \n",
       "\n",
       "                BRAND   BARCODE  BARCODE_LENGTH  \n",
       "162           PRORASO  80199137               8  \n",
       "36017       HERSHEY'S   3422007               7  \n",
       "37152          MENTOS  87306286               8  \n",
       "56987   UNKNOWN BRAND  20159078               8  \n",
       "108321         MENTOS  87108538               8  \n",
       "114126        NUTRESA  75053055               8  \n",
       "127329           LIDL  20522445               8  \n",
       "137242          M&M'S   4003207               7  \n",
       "144670        REESE'S   3431207               7  \n",
       "171005   TRADER JOE'S    969307               6  \n",
       "181892        NUTRESA  75053055               8  \n",
       "193336          M&M'S   4003207               7  \n",
       "260669           LIDL  20522445               8  \n",
       "300301         MENTOS  87108538               8  \n",
       "402333        REESE'S   3431207               7  \n",
       "422750      HERSHEY'S   3422007               7  \n",
       "596671    DICKINSON'S   5265169               7  \n",
       "681134   TRADER JOE'S    969307               6  \n",
       "768502    DICKINSON'S   5265169               7  \n",
       "776767  UNKNOWN BRAND  20159078               8  \n",
       "777403         MENTOS  87306286               8  \n",
       "810158        PRORASO  80199137               8  "
      ]
     },
     "execution_count": 364,
     "metadata": {},
     "output_type": "execute_result"
    }
   ],
   "source": [
    "# check number of rows with duplicated BRAND and BARCODE\n",
    "known_products_df[known_products_df[['BRAND', 'BARCODE']].duplicated(keep=False)]"
   ]
  },
  {
   "cell_type": "markdown",
   "metadata": {},
   "source": [
    "As we can see the above 22 rows are duplicates because the same products are categorized as different sub-categories, eg \"Women's Shaving Gel & Cream\" and \"Men's Shaving Gel & Cream\". For analysis purpose, I will drop the duplicates so we can import the dataset into data warehosue, while maintaining data representativeness."
   ]
  },
  {
   "cell_type": "code",
   "execution_count": 365,
   "metadata": {},
   "outputs": [],
   "source": [
    "# drop rows with same BARCODE but different CATEGORY\n",
    "known_products_df = known_products_df.drop_duplicates(subset=['BARCODE', 'BRAND'])"
   ]
  },
  {
   "cell_type": "code",
   "execution_count": 366,
   "metadata": {},
   "outputs": [],
   "source": [
    "duplicates = known_products_df[known_products_df['BARCODE'].duplicated(keep=False)]"
   ]
  },
  {
   "cell_type": "code",
   "execution_count": 367,
   "metadata": {},
   "outputs": [
    {
     "name": "stderr",
     "output_type": "stream",
     "text": [
      "/var/folders/d8/pj899s_x1_lbj5g5h4ldf5k80000gn/T/ipykernel_48974/2333403011.py:2: SettingWithCopyWarning: \n",
      "A value is trying to be set on a copy of a slice from a DataFrame.\n",
      "Try using .loc[row_indexer,col_indexer] = value instead\n",
      "\n",
      "See the caveats in the documentation: https://pandas.pydata.org/pandas-docs/stable/user_guide/indexing.html#returning-a-view-versus-a-copy\n",
      "  duplicates['OTHER_BRAND'] = duplicates.groupby('BARCODE')['BRAND'].transform(\n"
     ]
    }
   ],
   "source": [
    "# Group by BARCODE and create a new column with other brands\n",
    "duplicates['OTHER_BRAND'] = duplicates.groupby('BARCODE')['BRAND'].transform(\n",
    "    lambda x: ', '.join([brand for brand in x if brand != x.iloc[0]])\n",
    ")"
   ]
  },
  {
   "cell_type": "code",
   "execution_count": 368,
   "metadata": {},
   "outputs": [],
   "source": [
    "deduplicated_df = duplicates.drop_duplicates(subset='BARCODE', keep='first')"
   ]
  },
  {
   "cell_type": "code",
   "execution_count": 369,
   "metadata": {},
   "outputs": [
    {
     "data": {
      "text/html": [
       "<div>\n",
       "<style scoped>\n",
       "    .dataframe tbody tr th:only-of-type {\n",
       "        vertical-align: middle;\n",
       "    }\n",
       "\n",
       "    .dataframe tbody tr th {\n",
       "        vertical-align: top;\n",
       "    }\n",
       "\n",
       "    .dataframe thead th {\n",
       "        text-align: right;\n",
       "    }\n",
       "</style>\n",
       "<table border=\"1\" class=\"dataframe\">\n",
       "  <thead>\n",
       "    <tr style=\"text-align: right;\">\n",
       "      <th></th>\n",
       "      <th>CATEGORY_1</th>\n",
       "      <th>CATEGORY_2</th>\n",
       "      <th>CATEGORY_3</th>\n",
       "      <th>CATEGORY_4</th>\n",
       "      <th>MANUFACTURER</th>\n",
       "      <th>BRAND</th>\n",
       "      <th>BARCODE</th>\n",
       "      <th>BARCODE_LENGTH</th>\n",
       "      <th>OTHER_BRAND</th>\n",
       "    </tr>\n",
       "  </thead>\n",
       "  <tbody>\n",
       "    <tr>\n",
       "      <th>28421</th>\n",
       "      <td>Health &amp; Wellness</td>\n",
       "      <td>Hair Care</td>\n",
       "      <td>Hair Color</td>\n",
       "      <td>NaN</td>\n",
       "      <td>HENKEL</td>\n",
       "      <td>SCHWARZKOPF</td>\n",
       "      <td>52336919068</td>\n",
       "      <td>11</td>\n",
       "      <td>GÖT2B</td>\n",
       "    </tr>\n",
       "    <tr>\n",
       "      <th>96435</th>\n",
       "      <td>Snacks</td>\n",
       "      <td>Crackers</td>\n",
       "      <td>Other Crackers</td>\n",
       "      <td>NaN</td>\n",
       "      <td>UNKNOWN MANUFACTURER</td>\n",
       "      <td>UNKNOWN BRAND</td>\n",
       "      <td>20733254</td>\n",
       "      <td>8</td>\n",
       "      <td>PRIVATE LABEL</td>\n",
       "    </tr>\n",
       "    <tr>\n",
       "      <th>123189</th>\n",
       "      <td>Health &amp; Wellness</td>\n",
       "      <td>Skin Care</td>\n",
       "      <td>Lip Balms &amp; Treatments</td>\n",
       "      <td>Medicated Lip Treatments</td>\n",
       "      <td>E.T. BROWNE DRUG CO., INC.</td>\n",
       "      <td>PALMER'S SKIN &amp; HAIR CARE</td>\n",
       "      <td>1018158</td>\n",
       "      <td>7</td>\n",
       "      <td>PALMER</td>\n",
       "    </tr>\n",
       "    <tr>\n",
       "      <th>132540</th>\n",
       "      <td>Snacks</td>\n",
       "      <td>Cookies</td>\n",
       "      <td>NaN</td>\n",
       "      <td>NaN</td>\n",
       "      <td>UNKNOWN MANUFACTURER</td>\n",
       "      <td>UNKNOWN BRAND</td>\n",
       "      <td>20031077</td>\n",
       "      <td>8</td>\n",
       "      <td>PRIVATE LABEL</td>\n",
       "    </tr>\n",
       "    <tr>\n",
       "      <th>139113</th>\n",
       "      <td>Snacks</td>\n",
       "      <td>Candy</td>\n",
       "      <td>Chocolate Candy</td>\n",
       "      <td>NaN</td>\n",
       "      <td>PLACEHOLDER MANUFACTURER</td>\n",
       "      <td>UNKNOWN BRAND</td>\n",
       "      <td>404310</td>\n",
       "      <td>6</td>\n",
       "      <td>M&amp;M'S</td>\n",
       "    </tr>\n",
       "    <tr>\n",
       "      <th>184561</th>\n",
       "      <td>Snacks</td>\n",
       "      <td>Candy</td>\n",
       "      <td>Chocolate Candy</td>\n",
       "      <td>NaN</td>\n",
       "      <td>UNKNOWN MANUFACTURER</td>\n",
       "      <td>UNKNOWN BRAND</td>\n",
       "      <td>50426171</td>\n",
       "      <td>8</td>\n",
       "      <td>NESTLE</td>\n",
       "    </tr>\n",
       "    <tr>\n",
       "      <th>206159</th>\n",
       "      <td>Snacks</td>\n",
       "      <td>Crackers</td>\n",
       "      <td>Graham Crackers</td>\n",
       "      <td>NaN</td>\n",
       "      <td>LIDL US, LLC</td>\n",
       "      <td>LIDL</td>\n",
       "      <td>20733056</td>\n",
       "      <td>8</td>\n",
       "      <td>PRIVATE LABEL</td>\n",
       "    </tr>\n",
       "    <tr>\n",
       "      <th>213326</th>\n",
       "      <td>Health &amp; Wellness</td>\n",
       "      <td>Hair Care</td>\n",
       "      <td>Hair Color</td>\n",
       "      <td>NaN</td>\n",
       "      <td>HENKEL</td>\n",
       "      <td>SCHWARZKOPF</td>\n",
       "      <td>17000329260</td>\n",
       "      <td>11</td>\n",
       "      <td>GÖT2B</td>\n",
       "    </tr>\n",
       "    <tr>\n",
       "      <th>216300</th>\n",
       "      <td>Snacks</td>\n",
       "      <td>Candy</td>\n",
       "      <td>Chocolate Candy</td>\n",
       "      <td>NaN</td>\n",
       "      <td>FERRERO GROUP</td>\n",
       "      <td>KINDER</td>\n",
       "      <td>80310167</td>\n",
       "      <td>8</td>\n",
       "      <td>KINDER'S</td>\n",
       "    </tr>\n",
       "    <tr>\n",
       "      <th>274674</th>\n",
       "      <td>Snacks</td>\n",
       "      <td>Candy</td>\n",
       "      <td>Chocolate Candy</td>\n",
       "      <td>NaN</td>\n",
       "      <td>PROCTER &amp; GAMBLE</td>\n",
       "      <td>BOUNTY</td>\n",
       "      <td>40111216</td>\n",
       "      <td>8</td>\n",
       "      <td>MARS</td>\n",
       "    </tr>\n",
       "    <tr>\n",
       "      <th>333739</th>\n",
       "      <td>Health &amp; Wellness</td>\n",
       "      <td>Skin Care</td>\n",
       "      <td>Eye Creams</td>\n",
       "      <td>NaN</td>\n",
       "      <td>UNKNOWN MANUFACTURER</td>\n",
       "      <td>UNKNOWN BRAND</td>\n",
       "      <td>42208488</td>\n",
       "      <td>8</td>\n",
       "      <td>DR HAUSCHKA</td>\n",
       "    </tr>\n",
       "    <tr>\n",
       "      <th>379700</th>\n",
       "      <td>Snacks</td>\n",
       "      <td>Candy</td>\n",
       "      <td>Gum</td>\n",
       "      <td>NaN</td>\n",
       "      <td>UNKNOWN MANUFACTURER</td>\n",
       "      <td>UNKNOWN BRAND</td>\n",
       "      <td>360054002</td>\n",
       "      <td>9</td>\n",
       "      <td>ECO-DENT</td>\n",
       "    </tr>\n",
       "    <tr>\n",
       "      <th>468650</th>\n",
       "      <td>Snacks</td>\n",
       "      <td>Candy</td>\n",
       "      <td>Gum</td>\n",
       "      <td>NaN</td>\n",
       "      <td>GENERAL LICENSED IP MANUFACTURER</td>\n",
       "      <td>DISNEY</td>\n",
       "      <td>3454503</td>\n",
       "      <td>7</td>\n",
       "      <td>ICE BREAKERS</td>\n",
       "    </tr>\n",
       "    <tr>\n",
       "      <th>539824</th>\n",
       "      <td>Snacks</td>\n",
       "      <td>Candy</td>\n",
       "      <td>Gum</td>\n",
       "      <td>NaN</td>\n",
       "      <td>THE HERSHEY COMPANY</td>\n",
       "      <td>BUBBLE YUM</td>\n",
       "      <td>3473009</td>\n",
       "      <td>7</td>\n",
       "      <td>REESE'S</td>\n",
       "    </tr>\n",
       "    <tr>\n",
       "      <th>594577</th>\n",
       "      <td>Snacks</td>\n",
       "      <td>Candy</td>\n",
       "      <td>Gum</td>\n",
       "      <td>NaN</td>\n",
       "      <td>THE HERSHEY COMPANY</td>\n",
       "      <td>ICE BREAKERS</td>\n",
       "      <td>3484708</td>\n",
       "      <td>7</td>\n",
       "      <td>DISNEY</td>\n",
       "    </tr>\n",
       "    <tr>\n",
       "      <th>610568</th>\n",
       "      <td>Snacks</td>\n",
       "      <td>Nuts &amp; Seeds</td>\n",
       "      <td>Snack Seeds</td>\n",
       "      <td>NaN</td>\n",
       "      <td>SUNRIDGE FARMS</td>\n",
       "      <td>SUNRIDGE FARMS</td>\n",
       "      <td>701983</td>\n",
       "      <td>6</td>\n",
       "      <td>TRADER JOE'S</td>\n",
       "    </tr>\n",
       "  </tbody>\n",
       "</table>\n",
       "</div>"
      ],
      "text/plain": [
       "               CATEGORY_1    CATEGORY_2              CATEGORY_3  \\\n",
       "28421   Health & Wellness     Hair Care              Hair Color   \n",
       "96435              Snacks      Crackers          Other Crackers   \n",
       "123189  Health & Wellness     Skin Care  Lip Balms & Treatments   \n",
       "132540             Snacks       Cookies                     NaN   \n",
       "139113             Snacks         Candy         Chocolate Candy   \n",
       "184561             Snacks         Candy         Chocolate Candy   \n",
       "206159             Snacks      Crackers         Graham Crackers   \n",
       "213326  Health & Wellness     Hair Care              Hair Color   \n",
       "216300             Snacks         Candy         Chocolate Candy   \n",
       "274674             Snacks         Candy         Chocolate Candy   \n",
       "333739  Health & Wellness     Skin Care              Eye Creams   \n",
       "379700             Snacks         Candy                     Gum   \n",
       "468650             Snacks         Candy                     Gum   \n",
       "539824             Snacks         Candy                     Gum   \n",
       "594577             Snacks         Candy                     Gum   \n",
       "610568             Snacks  Nuts & Seeds             Snack Seeds   \n",
       "\n",
       "                      CATEGORY_4                      MANUFACTURER  \\\n",
       "28421                        NaN                            HENKEL   \n",
       "96435                        NaN              UNKNOWN MANUFACTURER   \n",
       "123189  Medicated Lip Treatments        E.T. BROWNE DRUG CO., INC.   \n",
       "132540                       NaN              UNKNOWN MANUFACTURER   \n",
       "139113                       NaN          PLACEHOLDER MANUFACTURER   \n",
       "184561                       NaN              UNKNOWN MANUFACTURER   \n",
       "206159                       NaN                      LIDL US, LLC   \n",
       "213326                       NaN                            HENKEL   \n",
       "216300                       NaN                     FERRERO GROUP   \n",
       "274674                       NaN                  PROCTER & GAMBLE   \n",
       "333739                       NaN              UNKNOWN MANUFACTURER   \n",
       "379700                       NaN              UNKNOWN MANUFACTURER   \n",
       "468650                       NaN  GENERAL LICENSED IP MANUFACTURER   \n",
       "539824                       NaN               THE HERSHEY COMPANY   \n",
       "594577                       NaN               THE HERSHEY COMPANY   \n",
       "610568                       NaN                    SUNRIDGE FARMS   \n",
       "\n",
       "                            BRAND      BARCODE  BARCODE_LENGTH    OTHER_BRAND  \n",
       "28421                 SCHWARZKOPF  52336919068              11          GÖT2B  \n",
       "96435               UNKNOWN BRAND     20733254               8  PRIVATE LABEL  \n",
       "123189  PALMER'S SKIN & HAIR CARE      1018158               7         PALMER  \n",
       "132540              UNKNOWN BRAND     20031077               8  PRIVATE LABEL  \n",
       "139113              UNKNOWN BRAND       404310               6          M&M'S  \n",
       "184561              UNKNOWN BRAND     50426171               8         NESTLE  \n",
       "206159                       LIDL     20733056               8  PRIVATE LABEL  \n",
       "213326                SCHWARZKOPF  17000329260              11          GÖT2B  \n",
       "216300                     KINDER     80310167               8       KINDER'S  \n",
       "274674                     BOUNTY     40111216               8           MARS  \n",
       "333739              UNKNOWN BRAND     42208488               8    DR HAUSCHKA  \n",
       "379700              UNKNOWN BRAND    360054002               9       ECO-DENT  \n",
       "468650                     DISNEY      3454503               7   ICE BREAKERS  \n",
       "539824                 BUBBLE YUM      3473009               7        REESE'S  \n",
       "594577               ICE BREAKERS      3484708               7         DISNEY  \n",
       "610568             SUNRIDGE FARMS       701983               6   TRADER JOE'S  "
      ]
     },
     "execution_count": 369,
     "metadata": {},
     "output_type": "execute_result"
    }
   ],
   "source": [
    "deduplicated_df.query('BRAND != OTHER_BRAND')"
   ]
  },
  {
   "cell_type": "code",
   "execution_count": 370,
   "metadata": {},
   "outputs": [
    {
     "data": {
      "text/html": [
       "<div>\n",
       "<style scoped>\n",
       "    .dataframe tbody tr th:only-of-type {\n",
       "        vertical-align: middle;\n",
       "    }\n",
       "\n",
       "    .dataframe tbody tr th {\n",
       "        vertical-align: top;\n",
       "    }\n",
       "\n",
       "    .dataframe thead th {\n",
       "        text-align: right;\n",
       "    }\n",
       "</style>\n",
       "<table border=\"1\" class=\"dataframe\">\n",
       "  <thead>\n",
       "    <tr style=\"text-align: right;\">\n",
       "      <th></th>\n",
       "      <th>CATEGORY_1</th>\n",
       "      <th>CATEGORY_2</th>\n",
       "      <th>CATEGORY_3</th>\n",
       "      <th>CATEGORY_4</th>\n",
       "      <th>MANUFACTURER</th>\n",
       "      <th>BRAND</th>\n",
       "      <th>BARCODE</th>\n",
       "      <th>BARCODE_LENGTH</th>\n",
       "    </tr>\n",
       "  </thead>\n",
       "  <tbody>\n",
       "    <tr>\n",
       "      <th>0</th>\n",
       "      <td>Health &amp; Wellness</td>\n",
       "      <td>Sexual Health</td>\n",
       "      <td>Conductivity Gels &amp; Lotions</td>\n",
       "      <td>NaN</td>\n",
       "      <td>UNKNOWN MANUFACTURER</td>\n",
       "      <td>UNKNOWN BRAND</td>\n",
       "      <td>796494407820</td>\n",
       "      <td>12</td>\n",
       "    </tr>\n",
       "    <tr>\n",
       "      <th>1</th>\n",
       "      <td>Snacks</td>\n",
       "      <td>Puffed Snacks</td>\n",
       "      <td>Cheese Curls &amp; Puffs</td>\n",
       "      <td>NaN</td>\n",
       "      <td>UNKNOWN MANUFACTURER</td>\n",
       "      <td>UNKNOWN BRAND</td>\n",
       "      <td>23278011028</td>\n",
       "      <td>11</td>\n",
       "    </tr>\n",
       "    <tr>\n",
       "      <th>2</th>\n",
       "      <td>Health &amp; Wellness</td>\n",
       "      <td>Hair Care</td>\n",
       "      <td>Hair Care Accessories</td>\n",
       "      <td>NaN</td>\n",
       "      <td>PLACEHOLDER MANUFACTURER</td>\n",
       "      <td>ELECSOP</td>\n",
       "      <td>461817824225</td>\n",
       "      <td>12</td>\n",
       "    </tr>\n",
       "    <tr>\n",
       "      <th>3</th>\n",
       "      <td>Health &amp; Wellness</td>\n",
       "      <td>Oral Care</td>\n",
       "      <td>Toothpaste</td>\n",
       "      <td>NaN</td>\n",
       "      <td>COLGATE-PALMOLIVE</td>\n",
       "      <td>COLGATE</td>\n",
       "      <td>35000466815</td>\n",
       "      <td>11</td>\n",
       "    </tr>\n",
       "    <tr>\n",
       "      <th>4</th>\n",
       "      <td>Health &amp; Wellness</td>\n",
       "      <td>Medicines &amp; Treatments</td>\n",
       "      <td>Essential Oils</td>\n",
       "      <td>NaN</td>\n",
       "      <td>MAPLE HOLISTICS AND HONEYDEW PRODUCTS INTERCHA...</td>\n",
       "      <td>MAPLE HOLISTICS</td>\n",
       "      <td>806810850459</td>\n",
       "      <td>12</td>\n",
       "    </tr>\n",
       "    <tr>\n",
       "      <th>...</th>\n",
       "      <td>...</td>\n",
       "      <td>...</td>\n",
       "      <td>...</td>\n",
       "      <td>...</td>\n",
       "      <td>...</td>\n",
       "      <td>...</td>\n",
       "      <td>...</td>\n",
       "      <td>...</td>\n",
       "    </tr>\n",
       "    <tr>\n",
       "      <th>845332</th>\n",
       "      <td>Health &amp; Wellness</td>\n",
       "      <td>Topical Muscle &amp; Joint Relief Treatments</td>\n",
       "      <td>Braces &amp; Wraps</td>\n",
       "      <td>NaN</td>\n",
       "      <td>UNKNOWN MANUFACTURER</td>\n",
       "      <td>UNKNOWN BRAND</td>\n",
       "      <td>722301569399</td>\n",
       "      <td>12</td>\n",
       "    </tr>\n",
       "    <tr>\n",
       "      <th>845333</th>\n",
       "      <td>Snacks</td>\n",
       "      <td>Cookies</td>\n",
       "      <td>NaN</td>\n",
       "      <td>NaN</td>\n",
       "      <td>TREEHOUSE FOODS, INC.</td>\n",
       "      <td>LOFTHOUSE</td>\n",
       "      <td>41820818468</td>\n",
       "      <td>11</td>\n",
       "    </tr>\n",
       "    <tr>\n",
       "      <th>845334</th>\n",
       "      <td>Snacks</td>\n",
       "      <td>Candy</td>\n",
       "      <td>Confection Candy</td>\n",
       "      <td>NaN</td>\n",
       "      <td>HARIBO GMBH &amp; CO KG</td>\n",
       "      <td>HARIBO</td>\n",
       "      <td>100167154940</td>\n",
       "      <td>12</td>\n",
       "    </tr>\n",
       "    <tr>\n",
       "      <th>845335</th>\n",
       "      <td>Snacks</td>\n",
       "      <td>Nuts &amp; Seeds</td>\n",
       "      <td>Hazelnuts</td>\n",
       "      <td>NaN</td>\n",
       "      <td>DOUBLE-COLA CO</td>\n",
       "      <td>JUMBO</td>\n",
       "      <td>75390755960</td>\n",
       "      <td>11</td>\n",
       "    </tr>\n",
       "    <tr>\n",
       "      <th>845336</th>\n",
       "      <td>Health &amp; Wellness</td>\n",
       "      <td>First Aid</td>\n",
       "      <td>First Aid Kits</td>\n",
       "      <td>NaN</td>\n",
       "      <td>3M</td>\n",
       "      <td>NEXCARE</td>\n",
       "      <td>796793337781</td>\n",
       "      <td>12</td>\n",
       "    </tr>\n",
       "  </tbody>\n",
       "</table>\n",
       "<p>841358 rows × 8 columns</p>\n",
       "</div>"
      ],
      "text/plain": [
       "               CATEGORY_1                                CATEGORY_2  \\\n",
       "0       Health & Wellness                             Sexual Health   \n",
       "1                  Snacks                             Puffed Snacks   \n",
       "2       Health & Wellness                                 Hair Care   \n",
       "3       Health & Wellness                                 Oral Care   \n",
       "4       Health & Wellness                    Medicines & Treatments   \n",
       "...                   ...                                       ...   \n",
       "845332  Health & Wellness  Topical Muscle & Joint Relief Treatments   \n",
       "845333             Snacks                                   Cookies   \n",
       "845334             Snacks                                     Candy   \n",
       "845335             Snacks                              Nuts & Seeds   \n",
       "845336  Health & Wellness                                 First Aid   \n",
       "\n",
       "                         CATEGORY_3 CATEGORY_4  \\\n",
       "0       Conductivity Gels & Lotions        NaN   \n",
       "1              Cheese Curls & Puffs        NaN   \n",
       "2             Hair Care Accessories        NaN   \n",
       "3                        Toothpaste        NaN   \n",
       "4                    Essential Oils        NaN   \n",
       "...                             ...        ...   \n",
       "845332               Braces & Wraps        NaN   \n",
       "845333                          NaN        NaN   \n",
       "845334             Confection Candy        NaN   \n",
       "845335                    Hazelnuts        NaN   \n",
       "845336               First Aid Kits        NaN   \n",
       "\n",
       "                                             MANUFACTURER            BRAND  \\\n",
       "0                                    UNKNOWN MANUFACTURER    UNKNOWN BRAND   \n",
       "1                                    UNKNOWN MANUFACTURER    UNKNOWN BRAND   \n",
       "2                                PLACEHOLDER MANUFACTURER          ELECSOP   \n",
       "3                                       COLGATE-PALMOLIVE          COLGATE   \n",
       "4       MAPLE HOLISTICS AND HONEYDEW PRODUCTS INTERCHA...  MAPLE HOLISTICS   \n",
       "...                                                   ...              ...   \n",
       "845332                               UNKNOWN MANUFACTURER    UNKNOWN BRAND   \n",
       "845333                              TREEHOUSE FOODS, INC.        LOFTHOUSE   \n",
       "845334                                HARIBO GMBH & CO KG           HARIBO   \n",
       "845335                                     DOUBLE-COLA CO            JUMBO   \n",
       "845336                                                 3M          NEXCARE   \n",
       "\n",
       "             BARCODE  BARCODE_LENGTH  \n",
       "0       796494407820              12  \n",
       "1        23278011028              11  \n",
       "2       461817824225              12  \n",
       "3        35000466815              11  \n",
       "4       806810850459              12  \n",
       "...              ...             ...  \n",
       "845332  722301569399              12  \n",
       "845333   41820818468              11  \n",
       "845334  100167154940              12  \n",
       "845335   75390755960              11  \n",
       "845336  796793337781              12  \n",
       "\n",
       "[841358 rows x 8 columns]"
      ]
     },
     "execution_count": 370,
     "metadata": {},
     "output_type": "execute_result"
    }
   ],
   "source": [
    "known_products_df"
   ]
  },
  {
   "cell_type": "code",
   "execution_count": 371,
   "metadata": {},
   "outputs": [],
   "source": [
    "known_products_df = pd.concat([known_products_df.drop_duplicates(subset='BARCODE', keep=False), deduplicated_df], ignore_index=True)"
   ]
  },
  {
   "cell_type": "code",
   "execution_count": 372,
   "metadata": {},
   "outputs": [
    {
     "data": {
      "text/html": [
       "<div>\n",
       "<style scoped>\n",
       "    .dataframe tbody tr th:only-of-type {\n",
       "        vertical-align: middle;\n",
       "    }\n",
       "\n",
       "    .dataframe tbody tr th {\n",
       "        vertical-align: top;\n",
       "    }\n",
       "\n",
       "    .dataframe thead th {\n",
       "        text-align: right;\n",
       "    }\n",
       "</style>\n",
       "<table border=\"1\" class=\"dataframe\">\n",
       "  <thead>\n",
       "    <tr style=\"text-align: right;\">\n",
       "      <th></th>\n",
       "      <th>CATEGORY_1</th>\n",
       "      <th>CATEGORY_2</th>\n",
       "      <th>CATEGORY_3</th>\n",
       "      <th>CATEGORY_4</th>\n",
       "      <th>MANUFACTURER</th>\n",
       "      <th>BRAND</th>\n",
       "      <th>BARCODE</th>\n",
       "      <th>BARCODE_LENGTH</th>\n",
       "      <th>OTHER_BRAND</th>\n",
       "    </tr>\n",
       "  </thead>\n",
       "  <tbody>\n",
       "    <tr>\n",
       "      <th>0</th>\n",
       "      <td>Health &amp; Wellness</td>\n",
       "      <td>Sexual Health</td>\n",
       "      <td>Conductivity Gels &amp; Lotions</td>\n",
       "      <td>NaN</td>\n",
       "      <td>UNKNOWN MANUFACTURER</td>\n",
       "      <td>UNKNOWN BRAND</td>\n",
       "      <td>796494407820</td>\n",
       "      <td>12</td>\n",
       "      <td>NaN</td>\n",
       "    </tr>\n",
       "    <tr>\n",
       "      <th>1</th>\n",
       "      <td>Snacks</td>\n",
       "      <td>Puffed Snacks</td>\n",
       "      <td>Cheese Curls &amp; Puffs</td>\n",
       "      <td>NaN</td>\n",
       "      <td>UNKNOWN MANUFACTURER</td>\n",
       "      <td>UNKNOWN BRAND</td>\n",
       "      <td>23278011028</td>\n",
       "      <td>11</td>\n",
       "      <td>NaN</td>\n",
       "    </tr>\n",
       "    <tr>\n",
       "      <th>2</th>\n",
       "      <td>Health &amp; Wellness</td>\n",
       "      <td>Hair Care</td>\n",
       "      <td>Hair Care Accessories</td>\n",
       "      <td>NaN</td>\n",
       "      <td>PLACEHOLDER MANUFACTURER</td>\n",
       "      <td>ELECSOP</td>\n",
       "      <td>461817824225</td>\n",
       "      <td>12</td>\n",
       "      <td>NaN</td>\n",
       "    </tr>\n",
       "    <tr>\n",
       "      <th>3</th>\n",
       "      <td>Health &amp; Wellness</td>\n",
       "      <td>Oral Care</td>\n",
       "      <td>Toothpaste</td>\n",
       "      <td>NaN</td>\n",
       "      <td>COLGATE-PALMOLIVE</td>\n",
       "      <td>COLGATE</td>\n",
       "      <td>35000466815</td>\n",
       "      <td>11</td>\n",
       "      <td>NaN</td>\n",
       "    </tr>\n",
       "    <tr>\n",
       "      <th>4</th>\n",
       "      <td>Health &amp; Wellness</td>\n",
       "      <td>Medicines &amp; Treatments</td>\n",
       "      <td>Essential Oils</td>\n",
       "      <td>NaN</td>\n",
       "      <td>MAPLE HOLISTICS AND HONEYDEW PRODUCTS INTERCHA...</td>\n",
       "      <td>MAPLE HOLISTICS</td>\n",
       "      <td>806810850459</td>\n",
       "      <td>12</td>\n",
       "      <td>NaN</td>\n",
       "    </tr>\n",
       "    <tr>\n",
       "      <th>...</th>\n",
       "      <td>...</td>\n",
       "      <td>...</td>\n",
       "      <td>...</td>\n",
       "      <td>...</td>\n",
       "      <td>...</td>\n",
       "      <td>...</td>\n",
       "      <td>...</td>\n",
       "      <td>...</td>\n",
       "      <td>...</td>\n",
       "    </tr>\n",
       "    <tr>\n",
       "      <th>841337</th>\n",
       "      <td>Snacks</td>\n",
       "      <td>Candy</td>\n",
       "      <td>Gum</td>\n",
       "      <td>NaN</td>\n",
       "      <td>UNKNOWN MANUFACTURER</td>\n",
       "      <td>UNKNOWN BRAND</td>\n",
       "      <td>360054002</td>\n",
       "      <td>9</td>\n",
       "      <td>ECO-DENT</td>\n",
       "    </tr>\n",
       "    <tr>\n",
       "      <th>841338</th>\n",
       "      <td>Snacks</td>\n",
       "      <td>Candy</td>\n",
       "      <td>Gum</td>\n",
       "      <td>NaN</td>\n",
       "      <td>GENERAL LICENSED IP MANUFACTURER</td>\n",
       "      <td>DISNEY</td>\n",
       "      <td>3454503</td>\n",
       "      <td>7</td>\n",
       "      <td>ICE BREAKERS</td>\n",
       "    </tr>\n",
       "    <tr>\n",
       "      <th>841339</th>\n",
       "      <td>Snacks</td>\n",
       "      <td>Candy</td>\n",
       "      <td>Gum</td>\n",
       "      <td>NaN</td>\n",
       "      <td>THE HERSHEY COMPANY</td>\n",
       "      <td>BUBBLE YUM</td>\n",
       "      <td>3473009</td>\n",
       "      <td>7</td>\n",
       "      <td>REESE'S</td>\n",
       "    </tr>\n",
       "    <tr>\n",
       "      <th>841340</th>\n",
       "      <td>Snacks</td>\n",
       "      <td>Candy</td>\n",
       "      <td>Gum</td>\n",
       "      <td>NaN</td>\n",
       "      <td>THE HERSHEY COMPANY</td>\n",
       "      <td>ICE BREAKERS</td>\n",
       "      <td>3484708</td>\n",
       "      <td>7</td>\n",
       "      <td>DISNEY</td>\n",
       "    </tr>\n",
       "    <tr>\n",
       "      <th>841341</th>\n",
       "      <td>Snacks</td>\n",
       "      <td>Nuts &amp; Seeds</td>\n",
       "      <td>Snack Seeds</td>\n",
       "      <td>NaN</td>\n",
       "      <td>SUNRIDGE FARMS</td>\n",
       "      <td>SUNRIDGE FARMS</td>\n",
       "      <td>701983</td>\n",
       "      <td>6</td>\n",
       "      <td>TRADER JOE'S</td>\n",
       "    </tr>\n",
       "  </tbody>\n",
       "</table>\n",
       "<p>841342 rows × 9 columns</p>\n",
       "</div>"
      ],
      "text/plain": [
       "               CATEGORY_1              CATEGORY_2  \\\n",
       "0       Health & Wellness           Sexual Health   \n",
       "1                  Snacks           Puffed Snacks   \n",
       "2       Health & Wellness               Hair Care   \n",
       "3       Health & Wellness               Oral Care   \n",
       "4       Health & Wellness  Medicines & Treatments   \n",
       "...                   ...                     ...   \n",
       "841337             Snacks                   Candy   \n",
       "841338             Snacks                   Candy   \n",
       "841339             Snacks                   Candy   \n",
       "841340             Snacks                   Candy   \n",
       "841341             Snacks            Nuts & Seeds   \n",
       "\n",
       "                         CATEGORY_3 CATEGORY_4  \\\n",
       "0       Conductivity Gels & Lotions        NaN   \n",
       "1              Cheese Curls & Puffs        NaN   \n",
       "2             Hair Care Accessories        NaN   \n",
       "3                        Toothpaste        NaN   \n",
       "4                    Essential Oils        NaN   \n",
       "...                             ...        ...   \n",
       "841337                          Gum        NaN   \n",
       "841338                          Gum        NaN   \n",
       "841339                          Gum        NaN   \n",
       "841340                          Gum        NaN   \n",
       "841341                  Snack Seeds        NaN   \n",
       "\n",
       "                                             MANUFACTURER            BRAND  \\\n",
       "0                                    UNKNOWN MANUFACTURER    UNKNOWN BRAND   \n",
       "1                                    UNKNOWN MANUFACTURER    UNKNOWN BRAND   \n",
       "2                                PLACEHOLDER MANUFACTURER          ELECSOP   \n",
       "3                                       COLGATE-PALMOLIVE          COLGATE   \n",
       "4       MAPLE HOLISTICS AND HONEYDEW PRODUCTS INTERCHA...  MAPLE HOLISTICS   \n",
       "...                                                   ...              ...   \n",
       "841337                               UNKNOWN MANUFACTURER    UNKNOWN BRAND   \n",
       "841338                   GENERAL LICENSED IP MANUFACTURER           DISNEY   \n",
       "841339                                THE HERSHEY COMPANY       BUBBLE YUM   \n",
       "841340                                THE HERSHEY COMPANY     ICE BREAKERS   \n",
       "841341                                     SUNRIDGE FARMS   SUNRIDGE FARMS   \n",
       "\n",
       "             BARCODE  BARCODE_LENGTH   OTHER_BRAND  \n",
       "0       796494407820              12           NaN  \n",
       "1        23278011028              11           NaN  \n",
       "2       461817824225              12           NaN  \n",
       "3        35000466815              11           NaN  \n",
       "4       806810850459              12           NaN  \n",
       "...              ...             ...           ...  \n",
       "841337     360054002               9      ECO-DENT  \n",
       "841338       3454503               7  ICE BREAKERS  \n",
       "841339       3473009               7       REESE'S  \n",
       "841340       3484708               7        DISNEY  \n",
       "841341        701983               6  TRADER JOE'S  \n",
       "\n",
       "[841342 rows x 9 columns]"
      ]
     },
     "execution_count": 372,
     "metadata": {},
     "output_type": "execute_result"
    }
   ],
   "source": [
    "known_products_df"
   ]
  },
  {
   "cell_type": "markdown",
   "metadata": {},
   "source": [
    "We did the followings:\n",
    "\n",
    "1. Changed the data type of categorical columns for improved efficiency for analysis. Again, we could consider changing the data type of certain columns as ENUM when importing to a data warehouse.\n",
    "2. Handled missing values and invalid values such as 'DOES NOT APPLY', 'UNKNOWN', 'NONE', 'BRAND NOT KNOWN' in MANUFACTURER and BRAND columns, and grouped them as 'UNKNOWN MANUFACTURER' and 'UNKNOWN BRAND'. This would require team effort to refine the data.\n",
    "3. Changed the data type of BARCODE, and added a BARCODE_LENGTH column to better understand the BARCODE column.\n",
    "4. Analyzed the reasons why there are duplicated barcodes, which includes the followings:\n",
    "- same product but appear in multiple categories / sub-categories\n",
    "- same product but sold by different brands, including known and placeholder manufacturers, and known brands and private labels\n",
    "5. Created known_products_df so we could use it to join / merge with other datasets for further analysis."
   ]
  },
  {
   "cell_type": "markdown",
   "metadata": {},
   "source": [
    "#### Transactions table"
   ]
  },
  {
   "cell_type": "markdown",
   "metadata": {},
   "source": [
    "##### Overall"
   ]
  },
  {
   "cell_type": "code",
   "execution_count": 68,
   "metadata": {},
   "outputs": [
    {
     "data": {
      "text/html": [
       "<div>\n",
       "<style scoped>\n",
       "    .dataframe tbody tr th:only-of-type {\n",
       "        vertical-align: middle;\n",
       "    }\n",
       "\n",
       "    .dataframe tbody tr th {\n",
       "        vertical-align: top;\n",
       "    }\n",
       "\n",
       "    .dataframe thead th {\n",
       "        text-align: right;\n",
       "    }\n",
       "</style>\n",
       "<table border=\"1\" class=\"dataframe\">\n",
       "  <thead>\n",
       "    <tr style=\"text-align: right;\">\n",
       "      <th></th>\n",
       "      <th>RECEIPT_ID</th>\n",
       "      <th>PURCHASE_DATE</th>\n",
       "      <th>SCAN_DATE</th>\n",
       "      <th>STORE_NAME</th>\n",
       "      <th>USER_ID</th>\n",
       "      <th>BARCODE</th>\n",
       "      <th>FINAL_QUANTITY</th>\n",
       "      <th>FINAL_SALE</th>\n",
       "    </tr>\n",
       "  </thead>\n",
       "  <tbody>\n",
       "    <tr>\n",
       "      <th>0</th>\n",
       "      <td>0000d256-4041-4a3e-adc4-5623fb6e0c99</td>\n",
       "      <td>2024-08-21</td>\n",
       "      <td>2024-08-21 14:19:06.539 Z</td>\n",
       "      <td>WALMART</td>\n",
       "      <td>63b73a7f3d310dceeabd4758</td>\n",
       "      <td>1.530001e+10</td>\n",
       "      <td>1.00</td>\n",
       "      <td></td>\n",
       "    </tr>\n",
       "    <tr>\n",
       "      <th>1</th>\n",
       "      <td>0001455d-7a92-4a7b-a1d2-c747af1c8fd3</td>\n",
       "      <td>2024-07-20</td>\n",
       "      <td>2024-07-20 09:50:24.206 Z</td>\n",
       "      <td>ALDI</td>\n",
       "      <td>62c08877baa38d1a1f6c211a</td>\n",
       "      <td>NaN</td>\n",
       "      <td>zero</td>\n",
       "      <td>1.49</td>\n",
       "    </tr>\n",
       "    <tr>\n",
       "      <th>2</th>\n",
       "      <td>00017e0a-7851-42fb-bfab-0baa96e23586</td>\n",
       "      <td>2024-08-18</td>\n",
       "      <td>2024-08-19 15:38:56.813 Z</td>\n",
       "      <td>WALMART</td>\n",
       "      <td>60842f207ac8b7729e472020</td>\n",
       "      <td>7.874223e+10</td>\n",
       "      <td>1.00</td>\n",
       "      <td></td>\n",
       "    </tr>\n",
       "    <tr>\n",
       "      <th>3</th>\n",
       "      <td>000239aa-3478-453d-801e-66a82e39c8af</td>\n",
       "      <td>2024-06-18</td>\n",
       "      <td>2024-06-19 11:03:37.468 Z</td>\n",
       "      <td>FOOD LION</td>\n",
       "      <td>63fcd7cea4f8442c3386b589</td>\n",
       "      <td>7.833997e+11</td>\n",
       "      <td>zero</td>\n",
       "      <td>3.49</td>\n",
       "    </tr>\n",
       "    <tr>\n",
       "      <th>4</th>\n",
       "      <td>00026b4c-dfe8-49dd-b026-4c2f0fd5c6a1</td>\n",
       "      <td>2024-07-04</td>\n",
       "      <td>2024-07-05 15:56:43.549 Z</td>\n",
       "      <td>RANDALLS</td>\n",
       "      <td>6193231ae9b3d75037b0f928</td>\n",
       "      <td>4.790050e+10</td>\n",
       "      <td>1.00</td>\n",
       "      <td></td>\n",
       "    </tr>\n",
       "  </tbody>\n",
       "</table>\n",
       "</div>"
      ],
      "text/plain": [
       "                             RECEIPT_ID PURCHASE_DATE  \\\n",
       "0  0000d256-4041-4a3e-adc4-5623fb6e0c99    2024-08-21   \n",
       "1  0001455d-7a92-4a7b-a1d2-c747af1c8fd3    2024-07-20   \n",
       "2  00017e0a-7851-42fb-bfab-0baa96e23586    2024-08-18   \n",
       "3  000239aa-3478-453d-801e-66a82e39c8af    2024-06-18   \n",
       "4  00026b4c-dfe8-49dd-b026-4c2f0fd5c6a1    2024-07-04   \n",
       "\n",
       "                   SCAN_DATE STORE_NAME                   USER_ID  \\\n",
       "0  2024-08-21 14:19:06.539 Z    WALMART  63b73a7f3d310dceeabd4758   \n",
       "1  2024-07-20 09:50:24.206 Z       ALDI  62c08877baa38d1a1f6c211a   \n",
       "2  2024-08-19 15:38:56.813 Z    WALMART  60842f207ac8b7729e472020   \n",
       "3  2024-06-19 11:03:37.468 Z  FOOD LION  63fcd7cea4f8442c3386b589   \n",
       "4  2024-07-05 15:56:43.549 Z   RANDALLS  6193231ae9b3d75037b0f928   \n",
       "\n",
       "        BARCODE FINAL_QUANTITY FINAL_SALE  \n",
       "0  1.530001e+10           1.00             \n",
       "1           NaN           zero       1.49  \n",
       "2  7.874223e+10           1.00             \n",
       "3  7.833997e+11           zero       3.49  \n",
       "4  4.790050e+10           1.00             "
      ]
     },
     "execution_count": 68,
     "metadata": {},
     "output_type": "execute_result"
    }
   ],
   "source": [
    "transactions_df.head()"
   ]
  },
  {
   "cell_type": "code",
   "execution_count": 69,
   "metadata": {},
   "outputs": [
    {
     "name": "stdout",
     "output_type": "stream",
     "text": [
      "<class 'pandas.core.frame.DataFrame'>\n",
      "RangeIndex: 50000 entries, 0 to 49999\n",
      "Data columns (total 8 columns):\n",
      " #   Column          Non-Null Count  Dtype  \n",
      "---  ------          --------------  -----  \n",
      " 0   RECEIPT_ID      50000 non-null  object \n",
      " 1   PURCHASE_DATE   50000 non-null  object \n",
      " 2   SCAN_DATE       50000 non-null  object \n",
      " 3   STORE_NAME      50000 non-null  object \n",
      " 4   USER_ID         50000 non-null  object \n",
      " 5   BARCODE         44238 non-null  float64\n",
      " 6   FINAL_QUANTITY  50000 non-null  object \n",
      " 7   FINAL_SALE      50000 non-null  object \n",
      "dtypes: float64(1), object(7)\n",
      "memory usage: 3.1+ MB\n"
     ]
    }
   ],
   "source": [
    "transactions_df.info()"
   ]
  },
  {
   "cell_type": "code",
   "execution_count": 70,
   "metadata": {},
   "outputs": [],
   "source": [
    "# Create a copy to clean the users dataframe\n",
    "clean_transactions_df = transactions_df.copy()"
   ]
  },
  {
   "cell_type": "code",
   "execution_count": 71,
   "metadata": {},
   "outputs": [
    {
     "data": {
      "text/plain": [
       "RECEIPT_ID           0\n",
       "PURCHASE_DATE        0\n",
       "SCAN_DATE            0\n",
       "STORE_NAME           0\n",
       "USER_ID              0\n",
       "BARCODE           5762\n",
       "FINAL_QUANTITY       0\n",
       "FINAL_SALE           0\n",
       "dtype: int64"
      ]
     },
     "execution_count": 71,
     "metadata": {},
     "output_type": "execute_result"
    }
   ],
   "source": [
    "# check for missing value\n",
    "clean_transactions_df.isnull().sum()"
   ]
  },
  {
   "cell_type": "markdown",
   "metadata": {},
   "source": [
    "The only missing values come from BARCODE, which we couldn't do anything about it. So we can leave it as it is"
   ]
  },
  {
   "cell_type": "code",
   "execution_count": 72,
   "metadata": {},
   "outputs": [
    {
     "data": {
      "text/plain": [
       "171"
      ]
     },
     "execution_count": 72,
     "metadata": {},
     "output_type": "execute_result"
    }
   ],
   "source": [
    "# check for duplicates\n",
    "clean_transactions_df.duplicated().sum()"
   ]
  },
  {
   "cell_type": "markdown",
   "metadata": {},
   "source": [
    "**Data quality issue #10**: Duplicated records in transactions"
   ]
  },
  {
   "cell_type": "markdown",
   "metadata": {},
   "source": [
    "There should be no duplicates in terms of transactions, so it is safe to remove duplicates of entire rows."
   ]
  },
  {
   "cell_type": "code",
   "execution_count": 73,
   "metadata": {},
   "outputs": [],
   "source": [
    "# drop duplicated records of entire rows\n",
    "clean_transactions_df = clean_transactions_df.drop_duplicates()"
   ]
  },
  {
   "cell_type": "markdown",
   "metadata": {},
   "source": [
    "##### RECEIPT_ID"
   ]
  },
  {
   "cell_type": "code",
   "execution_count": 74,
   "metadata": {},
   "outputs": [
    {
     "data": {
      "text/plain": [
       "25389"
      ]
     },
     "execution_count": 74,
     "metadata": {},
     "output_type": "execute_result"
    }
   ],
   "source": [
    "clean_transactions_df['RECEIPT_ID'].duplicated().sum()"
   ]
  },
  {
   "cell_type": "markdown",
   "metadata": {},
   "source": [
    "There are many duplicated RECEIPT_ID, I will query some of the rows with duplicated RECEIPT_ID to see the reasons behind."
   ]
  },
  {
   "cell_type": "code",
   "execution_count": 75,
   "metadata": {},
   "outputs": [
    {
     "data": {
      "text/html": [
       "<div>\n",
       "<style scoped>\n",
       "    .dataframe tbody tr th:only-of-type {\n",
       "        vertical-align: middle;\n",
       "    }\n",
       "\n",
       "    .dataframe tbody tr th {\n",
       "        vertical-align: top;\n",
       "    }\n",
       "\n",
       "    .dataframe thead th {\n",
       "        text-align: right;\n",
       "    }\n",
       "</style>\n",
       "<table border=\"1\" class=\"dataframe\">\n",
       "  <thead>\n",
       "    <tr style=\"text-align: right;\">\n",
       "      <th></th>\n",
       "      <th>RECEIPT_ID</th>\n",
       "      <th>PURCHASE_DATE</th>\n",
       "      <th>SCAN_DATE</th>\n",
       "      <th>STORE_NAME</th>\n",
       "      <th>USER_ID</th>\n",
       "      <th>BARCODE</th>\n",
       "      <th>FINAL_QUANTITY</th>\n",
       "      <th>FINAL_SALE</th>\n",
       "    </tr>\n",
       "  </thead>\n",
       "  <tbody>\n",
       "    <tr>\n",
       "      <th>42</th>\n",
       "      <td>007d3232-3990-497f-a081-549e9e7a478b</td>\n",
       "      <td>2024-06-25</td>\n",
       "      <td>2024-06-27 21:21:53.442 Z</td>\n",
       "      <td>DOLLAR TREE STORES INC</td>\n",
       "      <td>63a8dbf101cb7c888c6ad87d</td>\n",
       "      <td>7.920006e+10</td>\n",
       "      <td>1.00</td>\n",
       "      <td></td>\n",
       "    </tr>\n",
       "    <tr>\n",
       "      <th>70</th>\n",
       "      <td>00bf741b-24d6-4064-a267-f87748bb5aa9</td>\n",
       "      <td>2024-07-09</td>\n",
       "      <td>2024-07-09 17:37:14.702 Z</td>\n",
       "      <td>ALDI</td>\n",
       "      <td>62676081ed0f8765fb700454</td>\n",
       "      <td>NaN</td>\n",
       "      <td>1.00</td>\n",
       "      <td></td>\n",
       "    </tr>\n",
       "    <tr>\n",
       "      <th>152</th>\n",
       "      <td>019520fd-f28b-42ff-a29e-d6bf4f5c4b7c</td>\n",
       "      <td>2024-08-19</td>\n",
       "      <td>2024-08-19 11:19:59.681 Z</td>\n",
       "      <td>MEIJER</td>\n",
       "      <td>646bdaa67a342372c857b958</td>\n",
       "      <td>4.125022e+10</td>\n",
       "      <td>1.00</td>\n",
       "      <td></td>\n",
       "    </tr>\n",
       "    <tr>\n",
       "      <th>163</th>\n",
       "      <td>01a70fe0-026f-4bea-9da4-7d13bbf21e9a</td>\n",
       "      <td>2024-09-02</td>\n",
       "      <td>2024-09-07 16:02:39.835 Z</td>\n",
       "      <td>WALMART</td>\n",
       "      <td>614e733372ba844aa8dc345e</td>\n",
       "      <td>4.178900e+10</td>\n",
       "      <td>zero</td>\n",
       "      <td>0.52</td>\n",
       "    </tr>\n",
       "    <tr>\n",
       "      <th>174</th>\n",
       "      <td>01d0e64c-0b62-405f-a7bf-2dc04c36a53d</td>\n",
       "      <td>2024-08-23</td>\n",
       "      <td>2024-08-26 10:05:19.028 Z</td>\n",
       "      <td>WINCO FOODS</td>\n",
       "      <td>6079c0e9116de356d8ad6485</td>\n",
       "      <td>5.150004e+10</td>\n",
       "      <td>1.00</td>\n",
       "      <td></td>\n",
       "    </tr>\n",
       "    <tr>\n",
       "      <th>...</th>\n",
       "      <td>...</td>\n",
       "      <td>...</td>\n",
       "      <td>...</td>\n",
       "      <td>...</td>\n",
       "      <td>...</td>\n",
       "      <td>...</td>\n",
       "      <td>...</td>\n",
       "      <td>...</td>\n",
       "    </tr>\n",
       "    <tr>\n",
       "      <th>49995</th>\n",
       "      <td>b5cd61a9-8033-4913-a5c4-fb3f65e3a321</td>\n",
       "      <td>2024-08-21</td>\n",
       "      <td>2024-08-31 14:13:08.634 Z</td>\n",
       "      <td>TARGET</td>\n",
       "      <td>6154bcf098f885648de2f299</td>\n",
       "      <td>8.523911e+10</td>\n",
       "      <td>2.00</td>\n",
       "      <td>1.18</td>\n",
       "    </tr>\n",
       "    <tr>\n",
       "      <th>49996</th>\n",
       "      <td>e1b2f634-c9ad-4152-b662-4b22efc25862</td>\n",
       "      <td>2024-08-11</td>\n",
       "      <td>2024-08-11 18:15:56.736 Z</td>\n",
       "      <td>STOP &amp; SHOP</td>\n",
       "      <td>60aa809f188b926b2244c974</td>\n",
       "      <td>4.610040e+10</td>\n",
       "      <td>1.00</td>\n",
       "      <td>2.00</td>\n",
       "    </tr>\n",
       "    <tr>\n",
       "      <th>49997</th>\n",
       "      <td>b07ef8dd-e444-40a2-819b-f74a3e5f1ae7</td>\n",
       "      <td>2024-07-11</td>\n",
       "      <td>2024-07-11 08:03:25.816 Z</td>\n",
       "      <td>WALMART</td>\n",
       "      <td>60bd26e83dc3b13a15c5f4e7</td>\n",
       "      <td>6.466300e+11</td>\n",
       "      <td>1.00</td>\n",
       "      <td>20.96</td>\n",
       "    </tr>\n",
       "    <tr>\n",
       "      <th>49998</th>\n",
       "      <td>42475141-bef4-4df2-aa37-72577e2512bb</td>\n",
       "      <td>2024-06-18</td>\n",
       "      <td>2024-06-18 19:57:32.211 Z</td>\n",
       "      <td>MARKET BASKET</td>\n",
       "      <td>6169912fac47744405af62b7</td>\n",
       "      <td>4.180050e+10</td>\n",
       "      <td>1.00</td>\n",
       "      <td>3.00</td>\n",
       "    </tr>\n",
       "    <tr>\n",
       "      <th>49999</th>\n",
       "      <td>3a179c4e-46f2-4126-b3d2-3514afc23a3e</td>\n",
       "      <td>2024-08-07</td>\n",
       "      <td>2024-08-07 15:30:07.911 Z</td>\n",
       "      <td>WALMART</td>\n",
       "      <td>64e94d64ca929250373ef6e1</td>\n",
       "      <td>3.076607e+11</td>\n",
       "      <td>1.00</td>\n",
       "      <td>5.48</td>\n",
       "    </tr>\n",
       "  </tbody>\n",
       "</table>\n",
       "<p>25389 rows × 8 columns</p>\n",
       "</div>"
      ],
      "text/plain": [
       "                                 RECEIPT_ID PURCHASE_DATE  \\\n",
       "42     007d3232-3990-497f-a081-549e9e7a478b    2024-06-25   \n",
       "70     00bf741b-24d6-4064-a267-f87748bb5aa9    2024-07-09   \n",
       "152    019520fd-f28b-42ff-a29e-d6bf4f5c4b7c    2024-08-19   \n",
       "163    01a70fe0-026f-4bea-9da4-7d13bbf21e9a    2024-09-02   \n",
       "174    01d0e64c-0b62-405f-a7bf-2dc04c36a53d    2024-08-23   \n",
       "...                                     ...           ...   \n",
       "49995  b5cd61a9-8033-4913-a5c4-fb3f65e3a321    2024-08-21   \n",
       "49996  e1b2f634-c9ad-4152-b662-4b22efc25862    2024-08-11   \n",
       "49997  b07ef8dd-e444-40a2-819b-f74a3e5f1ae7    2024-07-11   \n",
       "49998  42475141-bef4-4df2-aa37-72577e2512bb    2024-06-18   \n",
       "49999  3a179c4e-46f2-4126-b3d2-3514afc23a3e    2024-08-07   \n",
       "\n",
       "                       SCAN_DATE              STORE_NAME  \\\n",
       "42     2024-06-27 21:21:53.442 Z  DOLLAR TREE STORES INC   \n",
       "70     2024-07-09 17:37:14.702 Z                    ALDI   \n",
       "152    2024-08-19 11:19:59.681 Z                  MEIJER   \n",
       "163    2024-09-07 16:02:39.835 Z                 WALMART   \n",
       "174    2024-08-26 10:05:19.028 Z             WINCO FOODS   \n",
       "...                          ...                     ...   \n",
       "49995  2024-08-31 14:13:08.634 Z                  TARGET   \n",
       "49996  2024-08-11 18:15:56.736 Z             STOP & SHOP   \n",
       "49997  2024-07-11 08:03:25.816 Z                 WALMART   \n",
       "49998  2024-06-18 19:57:32.211 Z           MARKET BASKET   \n",
       "49999  2024-08-07 15:30:07.911 Z                 WALMART   \n",
       "\n",
       "                        USER_ID       BARCODE FINAL_QUANTITY FINAL_SALE  \n",
       "42     63a8dbf101cb7c888c6ad87d  7.920006e+10           1.00             \n",
       "70     62676081ed0f8765fb700454           NaN           1.00             \n",
       "152    646bdaa67a342372c857b958  4.125022e+10           1.00             \n",
       "163    614e733372ba844aa8dc345e  4.178900e+10           zero       0.52  \n",
       "174    6079c0e9116de356d8ad6485  5.150004e+10           1.00             \n",
       "...                         ...           ...            ...        ...  \n",
       "49995  6154bcf098f885648de2f299  8.523911e+10           2.00       1.18  \n",
       "49996  60aa809f188b926b2244c974  4.610040e+10           1.00       2.00  \n",
       "49997  60bd26e83dc3b13a15c5f4e7  6.466300e+11           1.00      20.96  \n",
       "49998  6169912fac47744405af62b7  4.180050e+10           1.00       3.00  \n",
       "49999  64e94d64ca929250373ef6e1  3.076607e+11           1.00       5.48  \n",
       "\n",
       "[25389 rows x 8 columns]"
      ]
     },
     "execution_count": 75,
     "metadata": {},
     "output_type": "execute_result"
    }
   ],
   "source": [
    "# Rows with duplicated RECEIPT_ID\n",
    "clean_transactions_df[clean_transactions_df['RECEIPT_ID'].duplicated()]"
   ]
  },
  {
   "cell_type": "code",
   "execution_count": 76,
   "metadata": {},
   "outputs": [
    {
     "data": {
      "text/html": [
       "<div>\n",
       "<style scoped>\n",
       "    .dataframe tbody tr th:only-of-type {\n",
       "        vertical-align: middle;\n",
       "    }\n",
       "\n",
       "    .dataframe tbody tr th {\n",
       "        vertical-align: top;\n",
       "    }\n",
       "\n",
       "    .dataframe thead th {\n",
       "        text-align: right;\n",
       "    }\n",
       "</style>\n",
       "<table border=\"1\" class=\"dataframe\">\n",
       "  <thead>\n",
       "    <tr style=\"text-align: right;\">\n",
       "      <th></th>\n",
       "      <th>RECEIPT_ID</th>\n",
       "      <th>PURCHASE_DATE</th>\n",
       "      <th>SCAN_DATE</th>\n",
       "      <th>STORE_NAME</th>\n",
       "      <th>USER_ID</th>\n",
       "      <th>BARCODE</th>\n",
       "      <th>FINAL_QUANTITY</th>\n",
       "      <th>FINAL_SALE</th>\n",
       "    </tr>\n",
       "  </thead>\n",
       "  <tbody>\n",
       "    <tr>\n",
       "      <th>42</th>\n",
       "      <td>007d3232-3990-497f-a081-549e9e7a478b</td>\n",
       "      <td>2024-06-25</td>\n",
       "      <td>2024-06-27 21:21:53.442 Z</td>\n",
       "      <td>DOLLAR TREE STORES INC</td>\n",
       "      <td>63a8dbf101cb7c888c6ad87d</td>\n",
       "      <td>7.920006e+10</td>\n",
       "      <td>1.00</td>\n",
       "      <td></td>\n",
       "    </tr>\n",
       "    <tr>\n",
       "      <th>70</th>\n",
       "      <td>00bf741b-24d6-4064-a267-f87748bb5aa9</td>\n",
       "      <td>2024-07-09</td>\n",
       "      <td>2024-07-09 17:37:14.702 Z</td>\n",
       "      <td>ALDI</td>\n",
       "      <td>62676081ed0f8765fb700454</td>\n",
       "      <td>NaN</td>\n",
       "      <td>1.00</td>\n",
       "      <td></td>\n",
       "    </tr>\n",
       "    <tr>\n",
       "      <th>152</th>\n",
       "      <td>019520fd-f28b-42ff-a29e-d6bf4f5c4b7c</td>\n",
       "      <td>2024-08-19</td>\n",
       "      <td>2024-08-19 11:19:59.681 Z</td>\n",
       "      <td>MEIJER</td>\n",
       "      <td>646bdaa67a342372c857b958</td>\n",
       "      <td>4.125022e+10</td>\n",
       "      <td>1.00</td>\n",
       "      <td></td>\n",
       "    </tr>\n",
       "    <tr>\n",
       "      <th>163</th>\n",
       "      <td>01a70fe0-026f-4bea-9da4-7d13bbf21e9a</td>\n",
       "      <td>2024-09-02</td>\n",
       "      <td>2024-09-07 16:02:39.835 Z</td>\n",
       "      <td>WALMART</td>\n",
       "      <td>614e733372ba844aa8dc345e</td>\n",
       "      <td>4.178900e+10</td>\n",
       "      <td>zero</td>\n",
       "      <td>0.52</td>\n",
       "    </tr>\n",
       "    <tr>\n",
       "      <th>174</th>\n",
       "      <td>01d0e64c-0b62-405f-a7bf-2dc04c36a53d</td>\n",
       "      <td>2024-08-23</td>\n",
       "      <td>2024-08-26 10:05:19.028 Z</td>\n",
       "      <td>WINCO FOODS</td>\n",
       "      <td>6079c0e9116de356d8ad6485</td>\n",
       "      <td>5.150004e+10</td>\n",
       "      <td>1.00</td>\n",
       "      <td></td>\n",
       "    </tr>\n",
       "    <tr>\n",
       "      <th>...</th>\n",
       "      <td>...</td>\n",
       "      <td>...</td>\n",
       "      <td>...</td>\n",
       "      <td>...</td>\n",
       "      <td>...</td>\n",
       "      <td>...</td>\n",
       "      <td>...</td>\n",
       "      <td>...</td>\n",
       "    </tr>\n",
       "    <tr>\n",
       "      <th>49995</th>\n",
       "      <td>b5cd61a9-8033-4913-a5c4-fb3f65e3a321</td>\n",
       "      <td>2024-08-21</td>\n",
       "      <td>2024-08-31 14:13:08.634 Z</td>\n",
       "      <td>TARGET</td>\n",
       "      <td>6154bcf098f885648de2f299</td>\n",
       "      <td>8.523911e+10</td>\n",
       "      <td>2.00</td>\n",
       "      <td>1.18</td>\n",
       "    </tr>\n",
       "    <tr>\n",
       "      <th>49996</th>\n",
       "      <td>e1b2f634-c9ad-4152-b662-4b22efc25862</td>\n",
       "      <td>2024-08-11</td>\n",
       "      <td>2024-08-11 18:15:56.736 Z</td>\n",
       "      <td>STOP &amp; SHOP</td>\n",
       "      <td>60aa809f188b926b2244c974</td>\n",
       "      <td>4.610040e+10</td>\n",
       "      <td>1.00</td>\n",
       "      <td>2.00</td>\n",
       "    </tr>\n",
       "    <tr>\n",
       "      <th>49997</th>\n",
       "      <td>b07ef8dd-e444-40a2-819b-f74a3e5f1ae7</td>\n",
       "      <td>2024-07-11</td>\n",
       "      <td>2024-07-11 08:03:25.816 Z</td>\n",
       "      <td>WALMART</td>\n",
       "      <td>60bd26e83dc3b13a15c5f4e7</td>\n",
       "      <td>6.466300e+11</td>\n",
       "      <td>1.00</td>\n",
       "      <td>20.96</td>\n",
       "    </tr>\n",
       "    <tr>\n",
       "      <th>49998</th>\n",
       "      <td>42475141-bef4-4df2-aa37-72577e2512bb</td>\n",
       "      <td>2024-06-18</td>\n",
       "      <td>2024-06-18 19:57:32.211 Z</td>\n",
       "      <td>MARKET BASKET</td>\n",
       "      <td>6169912fac47744405af62b7</td>\n",
       "      <td>4.180050e+10</td>\n",
       "      <td>1.00</td>\n",
       "      <td>3.00</td>\n",
       "    </tr>\n",
       "    <tr>\n",
       "      <th>49999</th>\n",
       "      <td>3a179c4e-46f2-4126-b3d2-3514afc23a3e</td>\n",
       "      <td>2024-08-07</td>\n",
       "      <td>2024-08-07 15:30:07.911 Z</td>\n",
       "      <td>WALMART</td>\n",
       "      <td>64e94d64ca929250373ef6e1</td>\n",
       "      <td>3.076607e+11</td>\n",
       "      <td>1.00</td>\n",
       "      <td>5.48</td>\n",
       "    </tr>\n",
       "  </tbody>\n",
       "</table>\n",
       "<p>25389 rows × 8 columns</p>\n",
       "</div>"
      ],
      "text/plain": [
       "                                 RECEIPT_ID PURCHASE_DATE  \\\n",
       "42     007d3232-3990-497f-a081-549e9e7a478b    2024-06-25   \n",
       "70     00bf741b-24d6-4064-a267-f87748bb5aa9    2024-07-09   \n",
       "152    019520fd-f28b-42ff-a29e-d6bf4f5c4b7c    2024-08-19   \n",
       "163    01a70fe0-026f-4bea-9da4-7d13bbf21e9a    2024-09-02   \n",
       "174    01d0e64c-0b62-405f-a7bf-2dc04c36a53d    2024-08-23   \n",
       "...                                     ...           ...   \n",
       "49995  b5cd61a9-8033-4913-a5c4-fb3f65e3a321    2024-08-21   \n",
       "49996  e1b2f634-c9ad-4152-b662-4b22efc25862    2024-08-11   \n",
       "49997  b07ef8dd-e444-40a2-819b-f74a3e5f1ae7    2024-07-11   \n",
       "49998  42475141-bef4-4df2-aa37-72577e2512bb    2024-06-18   \n",
       "49999  3a179c4e-46f2-4126-b3d2-3514afc23a3e    2024-08-07   \n",
       "\n",
       "                       SCAN_DATE              STORE_NAME  \\\n",
       "42     2024-06-27 21:21:53.442 Z  DOLLAR TREE STORES INC   \n",
       "70     2024-07-09 17:37:14.702 Z                    ALDI   \n",
       "152    2024-08-19 11:19:59.681 Z                  MEIJER   \n",
       "163    2024-09-07 16:02:39.835 Z                 WALMART   \n",
       "174    2024-08-26 10:05:19.028 Z             WINCO FOODS   \n",
       "...                          ...                     ...   \n",
       "49995  2024-08-31 14:13:08.634 Z                  TARGET   \n",
       "49996  2024-08-11 18:15:56.736 Z             STOP & SHOP   \n",
       "49997  2024-07-11 08:03:25.816 Z                 WALMART   \n",
       "49998  2024-06-18 19:57:32.211 Z           MARKET BASKET   \n",
       "49999  2024-08-07 15:30:07.911 Z                 WALMART   \n",
       "\n",
       "                        USER_ID       BARCODE FINAL_QUANTITY FINAL_SALE  \n",
       "42     63a8dbf101cb7c888c6ad87d  7.920006e+10           1.00             \n",
       "70     62676081ed0f8765fb700454           NaN           1.00             \n",
       "152    646bdaa67a342372c857b958  4.125022e+10           1.00             \n",
       "163    614e733372ba844aa8dc345e  4.178900e+10           zero       0.52  \n",
       "174    6079c0e9116de356d8ad6485  5.150004e+10           1.00             \n",
       "...                         ...           ...            ...        ...  \n",
       "49995  6154bcf098f885648de2f299  8.523911e+10           2.00       1.18  \n",
       "49996  60aa809f188b926b2244c974  4.610040e+10           1.00       2.00  \n",
       "49997  60bd26e83dc3b13a15c5f4e7  6.466300e+11           1.00      20.96  \n",
       "49998  6169912fac47744405af62b7  4.180050e+10           1.00       3.00  \n",
       "49999  64e94d64ca929250373ef6e1  3.076607e+11           1.00       5.48  \n",
       "\n",
       "[25389 rows x 8 columns]"
      ]
     },
     "execution_count": 76,
     "metadata": {},
     "output_type": "execute_result"
    }
   ],
   "source": [
    "# Rows with duplicated RECEIPT_ID, PURCHASE_DATE, SCAN_DATE, STORE_NAME and USER_ID\n",
    "clean_transactions_df[clean_transactions_df.duplicated(['RECEIPT_ID', 'PURCHASE_DATE', 'SCAN_DATE', 'STORE_NAME', 'USER_ID'])]"
   ]
  },
  {
   "cell_type": "markdown",
   "metadata": {},
   "source": [
    "It shows from the above that the rows with duplicated RECEIPT_ID also have the same values in PURCHASE_DATE, SCAN_DATE, STORE_NAME and USER_ID. This is normal as a RECEIPT_ID (ie transaction) could have multiple items purchased by the same user on the same day."
   ]
  },
  {
   "cell_type": "markdown",
   "metadata": {},
   "source": [
    "##### PURCHASE_DATE and SCAN_DATE"
   ]
  },
  {
   "cell_type": "markdown",
   "metadata": {},
   "source": [
    "**Data quality issue #10**: PURCHASE_DATE and SCAN_DATE should be in `datetime` type instead of `string`. "
   ]
  },
  {
   "cell_type": "markdown",
   "metadata": {},
   "source": [
    "We need to change the data type of PURCHASE_DATE and SCAN_DATE to datetime for improved efficiency during analysis."
   ]
  },
  {
   "cell_type": "code",
   "execution_count": 77,
   "metadata": {},
   "outputs": [],
   "source": [
    "# convert data type of PURCHASE_DATE into datetime\n",
    "clean_transactions_df['PURCHASE_DATE'] = pd.to_datetime(clean_transactions_df.PURCHASE_DATE, errors='coerce') \n"
   ]
  },
  {
   "cell_type": "code",
   "execution_count": 78,
   "metadata": {},
   "outputs": [],
   "source": [
    "# convert data type of SCAN_DATE into date time, and format datetime to not show up to ns.\n",
    "clean_transactions_df['SCAN_DATE'] = pd.to_datetime(clean_transactions_df['SCAN_DATE'], errors='coerce').dt.strftime('%Y-%m-%d %H:%M:%S')\n",
    "# above operation converts the data type as object (string), so convert back to date time.\n",
    "clean_transactions_df['SCAN_DATE'] = pd.to_datetime(clean_transactions_df['SCAN_DATE'], errors='coerce')"
   ]
  },
  {
   "cell_type": "code",
   "execution_count": 79,
   "metadata": {},
   "outputs": [
    {
     "name": "stdout",
     "output_type": "stream",
     "text": [
      "<class 'pandas.core.frame.DataFrame'>\n",
      "Index: 49829 entries, 0 to 49999\n",
      "Data columns (total 8 columns):\n",
      " #   Column          Non-Null Count  Dtype         \n",
      "---  ------          --------------  -----         \n",
      " 0   RECEIPT_ID      49829 non-null  object        \n",
      " 1   PURCHASE_DATE   49829 non-null  datetime64[ns]\n",
      " 2   SCAN_DATE       49829 non-null  datetime64[ns]\n",
      " 3   STORE_NAME      49829 non-null  object        \n",
      " 4   USER_ID         49829 non-null  object        \n",
      " 5   BARCODE         44094 non-null  float64       \n",
      " 6   FINAL_QUANTITY  49829 non-null  object        \n",
      " 7   FINAL_SALE      49829 non-null  object        \n",
      "dtypes: datetime64[ns](2), float64(1), object(5)\n",
      "memory usage: 3.4+ MB\n"
     ]
    }
   ],
   "source": [
    "# verify results\n",
    "clean_transactions_df.info()"
   ]
  },
  {
   "cell_type": "markdown",
   "metadata": {},
   "source": [
    "##### STORE_NAME"
   ]
  },
  {
   "cell_type": "code",
   "execution_count": 80,
   "metadata": {},
   "outputs": [
    {
     "data": {
      "text/plain": [
       "STORE_NAME\n",
       "WALMART                          21249\n",
       "DOLLAR GENERAL STORE              2744\n",
       "ALDI                              2632\n",
       "TARGET                            1484\n",
       "KROGER                            1475\n",
       "                                 ...  \n",
       "FSCARFALLOTO' HOMETOWN MARKET        2\n",
       "DRIVE YHRU                           2\n",
       "CANNON AEB COMMISSARY                2\n",
       "FINE WINE & SPIRITS STORES           2\n",
       "DOUG'S SUPERMARKET                   2\n",
       "Name: count, Length: 954, dtype: int64"
      ]
     },
     "execution_count": 80,
     "metadata": {},
     "output_type": "execute_result"
    }
   ],
   "source": [
    "clean_transactions_df.STORE_NAME.value_counts()"
   ]
  },
  {
   "cell_type": "markdown",
   "metadata": {},
   "source": [
    "It seems that there is no obvious problem with STORE_NAME"
   ]
  },
  {
   "cell_type": "markdown",
   "metadata": {},
   "source": [
    "##### USER_ID"
   ]
  },
  {
   "cell_type": "code",
   "execution_count": 81,
   "metadata": {},
   "outputs": [
    {
     "data": {
      "text/plain": [
       "count                        49829\n",
       "unique                       17694\n",
       "top       64e62de5ca929250373e6cf5\n",
       "freq                            22\n",
       "Name: USER_ID, dtype: object"
      ]
     },
     "execution_count": 81,
     "metadata": {},
     "output_type": "execute_result"
    }
   ],
   "source": [
    "clean_transactions_df.USER_ID.describe()"
   ]
  },
  {
   "cell_type": "markdown",
   "metadata": {},
   "source": [
    "It seems that there is no problem with USER_ID as well."
   ]
  },
  {
   "cell_type": "markdown",
   "metadata": {},
   "source": [
    "##### BARCODE"
   ]
  },
  {
   "cell_type": "markdown",
   "metadata": {},
   "source": [
    "**Data quality issue #8 (repeat)**: Incorrect data type of BARCODE"
   ]
  },
  {
   "cell_type": "markdown",
   "metadata": {},
   "source": [
    "Again we use the same approach to process BARCODE as we dealt with it in the product dataset."
   ]
  },
  {
   "cell_type": "code",
   "execution_count": 82,
   "metadata": {},
   "outputs": [],
   "source": [
    "# Convert data type of BARCODE as string\n",
    "clean_transactions_df['BARCODE'] = clean_transactions_df['BARCODE'].apply(lambda x: str(x).split('.')[0] if not pd.isnull(x) else x)"
   ]
  },
  {
   "cell_type": "code",
   "execution_count": 83,
   "metadata": {},
   "outputs": [
    {
     "name": "stdout",
     "output_type": "stream",
     "text": [
      "<class 'pandas.core.frame.DataFrame'>\n",
      "Index: 49829 entries, 0 to 49999\n",
      "Data columns (total 8 columns):\n",
      " #   Column          Non-Null Count  Dtype         \n",
      "---  ------          --------------  -----         \n",
      " 0   RECEIPT_ID      49829 non-null  object        \n",
      " 1   PURCHASE_DATE   49829 non-null  datetime64[ns]\n",
      " 2   SCAN_DATE       49829 non-null  datetime64[ns]\n",
      " 3   STORE_NAME      49829 non-null  object        \n",
      " 4   USER_ID         49829 non-null  object        \n",
      " 5   BARCODE         44094 non-null  object        \n",
      " 6   FINAL_QUANTITY  49829 non-null  object        \n",
      " 7   FINAL_SALE      49829 non-null  object        \n",
      "dtypes: datetime64[ns](2), object(6)\n",
      "memory usage: 3.4+ MB\n"
     ]
    }
   ],
   "source": [
    "# verify the results\n",
    "clean_transactions_df.info()"
   ]
  },
  {
   "cell_type": "markdown",
   "metadata": {},
   "source": [
    "##### FINAL_QUANTITY and FINAL_SALE"
   ]
  },
  {
   "cell_type": "markdown",
   "metadata": {},
   "source": [
    "**Data quality issue #11**: Invalid values in FINAL_QUANTITY and FINAL_SALE\n",
    "\n",
    "**Challenging fields to understand #2**: Relationship between 'zero' in FINAL_QUANTITY and ' ' (empty) in FINAL_SALE"
   ]
  },
  {
   "cell_type": "markdown",
   "metadata": {},
   "source": [
    "I'll start examining the data by querying some of the examples from the same transaction."
   ]
  },
  {
   "cell_type": "code",
   "execution_count": 84,
   "metadata": {},
   "outputs": [
    {
     "data": {
      "text/html": [
       "<div>\n",
       "<style scoped>\n",
       "    .dataframe tbody tr th:only-of-type {\n",
       "        vertical-align: middle;\n",
       "    }\n",
       "\n",
       "    .dataframe tbody tr th {\n",
       "        vertical-align: top;\n",
       "    }\n",
       "\n",
       "    .dataframe thead th {\n",
       "        text-align: right;\n",
       "    }\n",
       "</style>\n",
       "<table border=\"1\" class=\"dataframe\">\n",
       "  <thead>\n",
       "    <tr style=\"text-align: right;\">\n",
       "      <th></th>\n",
       "      <th>RECEIPT_ID</th>\n",
       "      <th>PURCHASE_DATE</th>\n",
       "      <th>SCAN_DATE</th>\n",
       "      <th>STORE_NAME</th>\n",
       "      <th>USER_ID</th>\n",
       "      <th>BARCODE</th>\n",
       "      <th>FINAL_QUANTITY</th>\n",
       "      <th>FINAL_SALE</th>\n",
       "    </tr>\n",
       "  </thead>\n",
       "  <tbody>\n",
       "    <tr>\n",
       "      <th>42</th>\n",
       "      <td>007d3232-3990-497f-a081-549e9e7a478b</td>\n",
       "      <td>2024-06-25</td>\n",
       "      <td>2024-06-27 21:21:53</td>\n",
       "      <td>DOLLAR TREE STORES INC</td>\n",
       "      <td>63a8dbf101cb7c888c6ad87d</td>\n",
       "      <td>79200060688</td>\n",
       "      <td>1.00</td>\n",
       "      <td></td>\n",
       "    </tr>\n",
       "    <tr>\n",
       "      <th>70</th>\n",
       "      <td>00bf741b-24d6-4064-a267-f87748bb5aa9</td>\n",
       "      <td>2024-07-09</td>\n",
       "      <td>2024-07-09 17:37:14</td>\n",
       "      <td>ALDI</td>\n",
       "      <td>62676081ed0f8765fb700454</td>\n",
       "      <td>NaN</td>\n",
       "      <td>1.00</td>\n",
       "      <td></td>\n",
       "    </tr>\n",
       "    <tr>\n",
       "      <th>152</th>\n",
       "      <td>019520fd-f28b-42ff-a29e-d6bf4f5c4b7c</td>\n",
       "      <td>2024-08-19</td>\n",
       "      <td>2024-08-19 11:19:59</td>\n",
       "      <td>MEIJER</td>\n",
       "      <td>646bdaa67a342372c857b958</td>\n",
       "      <td>41250216056</td>\n",
       "      <td>1.00</td>\n",
       "      <td></td>\n",
       "    </tr>\n",
       "    <tr>\n",
       "      <th>163</th>\n",
       "      <td>01a70fe0-026f-4bea-9da4-7d13bbf21e9a</td>\n",
       "      <td>2024-09-02</td>\n",
       "      <td>2024-09-07 16:02:39</td>\n",
       "      <td>WALMART</td>\n",
       "      <td>614e733372ba844aa8dc345e</td>\n",
       "      <td>41789001215</td>\n",
       "      <td>zero</td>\n",
       "      <td>0.52</td>\n",
       "    </tr>\n",
       "    <tr>\n",
       "      <th>174</th>\n",
       "      <td>01d0e64c-0b62-405f-a7bf-2dc04c36a53d</td>\n",
       "      <td>2024-08-23</td>\n",
       "      <td>2024-08-26 10:05:19</td>\n",
       "      <td>WINCO FOODS</td>\n",
       "      <td>6079c0e9116de356d8ad6485</td>\n",
       "      <td>51500040027</td>\n",
       "      <td>1.00</td>\n",
       "      <td></td>\n",
       "    </tr>\n",
       "    <tr>\n",
       "      <th>...</th>\n",
       "      <td>...</td>\n",
       "      <td>...</td>\n",
       "      <td>...</td>\n",
       "      <td>...</td>\n",
       "      <td>...</td>\n",
       "      <td>...</td>\n",
       "      <td>...</td>\n",
       "      <td>...</td>\n",
       "    </tr>\n",
       "    <tr>\n",
       "      <th>49995</th>\n",
       "      <td>b5cd61a9-8033-4913-a5c4-fb3f65e3a321</td>\n",
       "      <td>2024-08-21</td>\n",
       "      <td>2024-08-31 14:13:08</td>\n",
       "      <td>TARGET</td>\n",
       "      <td>6154bcf098f885648de2f299</td>\n",
       "      <td>85239110669</td>\n",
       "      <td>2.00</td>\n",
       "      <td>1.18</td>\n",
       "    </tr>\n",
       "    <tr>\n",
       "      <th>49996</th>\n",
       "      <td>e1b2f634-c9ad-4152-b662-4b22efc25862</td>\n",
       "      <td>2024-08-11</td>\n",
       "      <td>2024-08-11 18:15:56</td>\n",
       "      <td>STOP &amp; SHOP</td>\n",
       "      <td>60aa809f188b926b2244c974</td>\n",
       "      <td>46100400555</td>\n",
       "      <td>1.00</td>\n",
       "      <td>2.00</td>\n",
       "    </tr>\n",
       "    <tr>\n",
       "      <th>49997</th>\n",
       "      <td>b07ef8dd-e444-40a2-819b-f74a3e5f1ae7</td>\n",
       "      <td>2024-07-11</td>\n",
       "      <td>2024-07-11 08:03:25</td>\n",
       "      <td>WALMART</td>\n",
       "      <td>60bd26e83dc3b13a15c5f4e7</td>\n",
       "      <td>646630019670</td>\n",
       "      <td>1.00</td>\n",
       "      <td>20.96</td>\n",
       "    </tr>\n",
       "    <tr>\n",
       "      <th>49998</th>\n",
       "      <td>42475141-bef4-4df2-aa37-72577e2512bb</td>\n",
       "      <td>2024-06-18</td>\n",
       "      <td>2024-06-18 19:57:32</td>\n",
       "      <td>MARKET BASKET</td>\n",
       "      <td>6169912fac47744405af62b7</td>\n",
       "      <td>41800501519</td>\n",
       "      <td>1.00</td>\n",
       "      <td>3.00</td>\n",
       "    </tr>\n",
       "    <tr>\n",
       "      <th>49999</th>\n",
       "      <td>3a179c4e-46f2-4126-b3d2-3514afc23a3e</td>\n",
       "      <td>2024-08-07</td>\n",
       "      <td>2024-08-07 15:30:07</td>\n",
       "      <td>WALMART</td>\n",
       "      <td>64e94d64ca929250373ef6e1</td>\n",
       "      <td>307660745853</td>\n",
       "      <td>1.00</td>\n",
       "      <td>5.48</td>\n",
       "    </tr>\n",
       "  </tbody>\n",
       "</table>\n",
       "<p>25389 rows × 8 columns</p>\n",
       "</div>"
      ],
      "text/plain": [
       "                                 RECEIPT_ID PURCHASE_DATE           SCAN_DATE  \\\n",
       "42     007d3232-3990-497f-a081-549e9e7a478b    2024-06-25 2024-06-27 21:21:53   \n",
       "70     00bf741b-24d6-4064-a267-f87748bb5aa9    2024-07-09 2024-07-09 17:37:14   \n",
       "152    019520fd-f28b-42ff-a29e-d6bf4f5c4b7c    2024-08-19 2024-08-19 11:19:59   \n",
       "163    01a70fe0-026f-4bea-9da4-7d13bbf21e9a    2024-09-02 2024-09-07 16:02:39   \n",
       "174    01d0e64c-0b62-405f-a7bf-2dc04c36a53d    2024-08-23 2024-08-26 10:05:19   \n",
       "...                                     ...           ...                 ...   \n",
       "49995  b5cd61a9-8033-4913-a5c4-fb3f65e3a321    2024-08-21 2024-08-31 14:13:08   \n",
       "49996  e1b2f634-c9ad-4152-b662-4b22efc25862    2024-08-11 2024-08-11 18:15:56   \n",
       "49997  b07ef8dd-e444-40a2-819b-f74a3e5f1ae7    2024-07-11 2024-07-11 08:03:25   \n",
       "49998  42475141-bef4-4df2-aa37-72577e2512bb    2024-06-18 2024-06-18 19:57:32   \n",
       "49999  3a179c4e-46f2-4126-b3d2-3514afc23a3e    2024-08-07 2024-08-07 15:30:07   \n",
       "\n",
       "                   STORE_NAME                   USER_ID       BARCODE  \\\n",
       "42     DOLLAR TREE STORES INC  63a8dbf101cb7c888c6ad87d   79200060688   \n",
       "70                       ALDI  62676081ed0f8765fb700454           NaN   \n",
       "152                    MEIJER  646bdaa67a342372c857b958   41250216056   \n",
       "163                   WALMART  614e733372ba844aa8dc345e   41789001215   \n",
       "174               WINCO FOODS  6079c0e9116de356d8ad6485   51500040027   \n",
       "...                       ...                       ...           ...   \n",
       "49995                  TARGET  6154bcf098f885648de2f299   85239110669   \n",
       "49996             STOP & SHOP  60aa809f188b926b2244c974   46100400555   \n",
       "49997                 WALMART  60bd26e83dc3b13a15c5f4e7  646630019670   \n",
       "49998           MARKET BASKET  6169912fac47744405af62b7   41800501519   \n",
       "49999                 WALMART  64e94d64ca929250373ef6e1  307660745853   \n",
       "\n",
       "      FINAL_QUANTITY FINAL_SALE  \n",
       "42              1.00             \n",
       "70              1.00             \n",
       "152             1.00             \n",
       "163             zero       0.52  \n",
       "174             1.00             \n",
       "...              ...        ...  \n",
       "49995           2.00       1.18  \n",
       "49996           1.00       2.00  \n",
       "49997           1.00      20.96  \n",
       "49998           1.00       3.00  \n",
       "49999           1.00       5.48  \n",
       "\n",
       "[25389 rows x 8 columns]"
      ]
     },
     "execution_count": 84,
     "metadata": {},
     "output_type": "execute_result"
    }
   ],
   "source": [
    "clean_transactions_df[clean_transactions_df.RECEIPT_ID.duplicated()]"
   ]
  },
  {
   "cell_type": "code",
   "execution_count": 85,
   "metadata": {},
   "outputs": [
    {
     "data": {
      "text/html": [
       "<div>\n",
       "<style scoped>\n",
       "    .dataframe tbody tr th:only-of-type {\n",
       "        vertical-align: middle;\n",
       "    }\n",
       "\n",
       "    .dataframe tbody tr th {\n",
       "        vertical-align: top;\n",
       "    }\n",
       "\n",
       "    .dataframe thead th {\n",
       "        text-align: right;\n",
       "    }\n",
       "</style>\n",
       "<table border=\"1\" class=\"dataframe\">\n",
       "  <thead>\n",
       "    <tr style=\"text-align: right;\">\n",
       "      <th></th>\n",
       "      <th>RECEIPT_ID</th>\n",
       "      <th>PURCHASE_DATE</th>\n",
       "      <th>SCAN_DATE</th>\n",
       "      <th>STORE_NAME</th>\n",
       "      <th>USER_ID</th>\n",
       "      <th>BARCODE</th>\n",
       "      <th>FINAL_QUANTITY</th>\n",
       "      <th>FINAL_SALE</th>\n",
       "    </tr>\n",
       "  </thead>\n",
       "  <tbody>\n",
       "    <tr>\n",
       "      <th>41</th>\n",
       "      <td>007d3232-3990-497f-a081-549e9e7a478b</td>\n",
       "      <td>2024-06-25</td>\n",
       "      <td>2024-06-27 21:21:53</td>\n",
       "      <td>DOLLAR TREE STORES INC</td>\n",
       "      <td>63a8dbf101cb7c888c6ad87d</td>\n",
       "      <td>79200060688</td>\n",
       "      <td>zero</td>\n",
       "      <td>1.25</td>\n",
       "    </tr>\n",
       "    <tr>\n",
       "      <th>42</th>\n",
       "      <td>007d3232-3990-497f-a081-549e9e7a478b</td>\n",
       "      <td>2024-06-25</td>\n",
       "      <td>2024-06-27 21:21:53</td>\n",
       "      <td>DOLLAR TREE STORES INC</td>\n",
       "      <td>63a8dbf101cb7c888c6ad87d</td>\n",
       "      <td>79200060688</td>\n",
       "      <td>1.00</td>\n",
       "      <td></td>\n",
       "    </tr>\n",
       "    <tr>\n",
       "      <th>40498</th>\n",
       "      <td>007d3232-3990-497f-a081-549e9e7a478b</td>\n",
       "      <td>2024-06-25</td>\n",
       "      <td>2024-06-27 21:21:53</td>\n",
       "      <td>DOLLAR TREE STORES INC</td>\n",
       "      <td>63a8dbf101cb7c888c6ad87d</td>\n",
       "      <td>79200060688</td>\n",
       "      <td>1.00</td>\n",
       "      <td>1.25</td>\n",
       "    </tr>\n",
       "  </tbody>\n",
       "</table>\n",
       "</div>"
      ],
      "text/plain": [
       "                                 RECEIPT_ID PURCHASE_DATE           SCAN_DATE  \\\n",
       "41     007d3232-3990-497f-a081-549e9e7a478b    2024-06-25 2024-06-27 21:21:53   \n",
       "42     007d3232-3990-497f-a081-549e9e7a478b    2024-06-25 2024-06-27 21:21:53   \n",
       "40498  007d3232-3990-497f-a081-549e9e7a478b    2024-06-25 2024-06-27 21:21:53   \n",
       "\n",
       "                   STORE_NAME                   USER_ID      BARCODE  \\\n",
       "41     DOLLAR TREE STORES INC  63a8dbf101cb7c888c6ad87d  79200060688   \n",
       "42     DOLLAR TREE STORES INC  63a8dbf101cb7c888c6ad87d  79200060688   \n",
       "40498  DOLLAR TREE STORES INC  63a8dbf101cb7c888c6ad87d  79200060688   \n",
       "\n",
       "      FINAL_QUANTITY FINAL_SALE  \n",
       "41              zero       1.25  \n",
       "42              1.00             \n",
       "40498           1.00       1.25  "
      ]
     },
     "execution_count": 85,
     "metadata": {},
     "output_type": "execute_result"
    }
   ],
   "source": [
    "# example 1 of duplicated RECEIPT_ID\n",
    "clean_transactions_df.query('RECEIPT_ID == \"007d3232-3990-497f-a081-549e9e7a478b\"')"
   ]
  },
  {
   "cell_type": "code",
   "execution_count": 86,
   "metadata": {},
   "outputs": [
    {
     "data": {
      "text/html": [
       "<div>\n",
       "<style scoped>\n",
       "    .dataframe tbody tr th:only-of-type {\n",
       "        vertical-align: middle;\n",
       "    }\n",
       "\n",
       "    .dataframe tbody tr th {\n",
       "        vertical-align: top;\n",
       "    }\n",
       "\n",
       "    .dataframe thead th {\n",
       "        text-align: right;\n",
       "    }\n",
       "</style>\n",
       "<table border=\"1\" class=\"dataframe\">\n",
       "  <thead>\n",
       "    <tr style=\"text-align: right;\">\n",
       "      <th></th>\n",
       "      <th>RECEIPT_ID</th>\n",
       "      <th>PURCHASE_DATE</th>\n",
       "      <th>SCAN_DATE</th>\n",
       "      <th>STORE_NAME</th>\n",
       "      <th>USER_ID</th>\n",
       "      <th>BARCODE</th>\n",
       "      <th>FINAL_QUANTITY</th>\n",
       "      <th>FINAL_SALE</th>\n",
       "    </tr>\n",
       "  </thead>\n",
       "  <tbody>\n",
       "    <tr>\n",
       "      <th>162</th>\n",
       "      <td>01a70fe0-026f-4bea-9da4-7d13bbf21e9a</td>\n",
       "      <td>2024-09-02</td>\n",
       "      <td>2024-09-07 16:02:39</td>\n",
       "      <td>WALMART</td>\n",
       "      <td>614e733372ba844aa8dc345e</td>\n",
       "      <td>41789001215</td>\n",
       "      <td>1.00</td>\n",
       "      <td></td>\n",
       "    </tr>\n",
       "    <tr>\n",
       "      <th>163</th>\n",
       "      <td>01a70fe0-026f-4bea-9da4-7d13bbf21e9a</td>\n",
       "      <td>2024-09-02</td>\n",
       "      <td>2024-09-07 16:02:39</td>\n",
       "      <td>WALMART</td>\n",
       "      <td>614e733372ba844aa8dc345e</td>\n",
       "      <td>41789001215</td>\n",
       "      <td>zero</td>\n",
       "      <td>0.52</td>\n",
       "    </tr>\n",
       "    <tr>\n",
       "      <th>49758</th>\n",
       "      <td>01a70fe0-026f-4bea-9da4-7d13bbf21e9a</td>\n",
       "      <td>2024-09-02</td>\n",
       "      <td>2024-09-07 16:02:39</td>\n",
       "      <td>WALMART</td>\n",
       "      <td>614e733372ba844aa8dc345e</td>\n",
       "      <td>41789001215</td>\n",
       "      <td>1.00</td>\n",
       "      <td>0.52</td>\n",
       "    </tr>\n",
       "  </tbody>\n",
       "</table>\n",
       "</div>"
      ],
      "text/plain": [
       "                                 RECEIPT_ID PURCHASE_DATE           SCAN_DATE  \\\n",
       "162    01a70fe0-026f-4bea-9da4-7d13bbf21e9a    2024-09-02 2024-09-07 16:02:39   \n",
       "163    01a70fe0-026f-4bea-9da4-7d13bbf21e9a    2024-09-02 2024-09-07 16:02:39   \n",
       "49758  01a70fe0-026f-4bea-9da4-7d13bbf21e9a    2024-09-02 2024-09-07 16:02:39   \n",
       "\n",
       "      STORE_NAME                   USER_ID      BARCODE FINAL_QUANTITY  \\\n",
       "162      WALMART  614e733372ba844aa8dc345e  41789001215           1.00   \n",
       "163      WALMART  614e733372ba844aa8dc345e  41789001215           zero   \n",
       "49758    WALMART  614e733372ba844aa8dc345e  41789001215           1.00   \n",
       "\n",
       "      FINAL_SALE  \n",
       "162               \n",
       "163         0.52  \n",
       "49758       0.52  "
      ]
     },
     "execution_count": 86,
     "metadata": {},
     "output_type": "execute_result"
    }
   ],
   "source": [
    "# example 2 of duplicated RECEIPT_ID\n",
    "clean_transactions_df.query('RECEIPT_ID == \"01a70fe0-026f-4bea-9da4-7d13bbf21e9a\"')"
   ]
  },
  {
   "cell_type": "code",
   "execution_count": 87,
   "metadata": {},
   "outputs": [
    {
     "data": {
      "text/html": [
       "<div>\n",
       "<style scoped>\n",
       "    .dataframe tbody tr th:only-of-type {\n",
       "        vertical-align: middle;\n",
       "    }\n",
       "\n",
       "    .dataframe tbody tr th {\n",
       "        vertical-align: top;\n",
       "    }\n",
       "\n",
       "    .dataframe thead th {\n",
       "        text-align: right;\n",
       "    }\n",
       "</style>\n",
       "<table border=\"1\" class=\"dataframe\">\n",
       "  <thead>\n",
       "    <tr style=\"text-align: right;\">\n",
       "      <th></th>\n",
       "      <th>RECEIPT_ID</th>\n",
       "      <th>PURCHASE_DATE</th>\n",
       "      <th>SCAN_DATE</th>\n",
       "      <th>STORE_NAME</th>\n",
       "      <th>USER_ID</th>\n",
       "      <th>BARCODE</th>\n",
       "      <th>FINAL_QUANTITY</th>\n",
       "      <th>FINAL_SALE</th>\n",
       "    </tr>\n",
       "  </thead>\n",
       "  <tbody>\n",
       "    <tr>\n",
       "      <th>173</th>\n",
       "      <td>01d0e64c-0b62-405f-a7bf-2dc04c36a53d</td>\n",
       "      <td>2024-08-23</td>\n",
       "      <td>2024-08-26 10:05:19</td>\n",
       "      <td>WINCO FOODS</td>\n",
       "      <td>6079c0e9116de356d8ad6485</td>\n",
       "      <td>16000207684</td>\n",
       "      <td>zero</td>\n",
       "      <td>2.62</td>\n",
       "    </tr>\n",
       "    <tr>\n",
       "      <th>174</th>\n",
       "      <td>01d0e64c-0b62-405f-a7bf-2dc04c36a53d</td>\n",
       "      <td>2024-08-23</td>\n",
       "      <td>2024-08-26 10:05:19</td>\n",
       "      <td>WINCO FOODS</td>\n",
       "      <td>6079c0e9116de356d8ad6485</td>\n",
       "      <td>51500040027</td>\n",
       "      <td>1.00</td>\n",
       "      <td></td>\n",
       "    </tr>\n",
       "    <tr>\n",
       "      <th>34963</th>\n",
       "      <td>01d0e64c-0b62-405f-a7bf-2dc04c36a53d</td>\n",
       "      <td>2024-08-23</td>\n",
       "      <td>2024-08-26 10:05:19</td>\n",
       "      <td>WINCO FOODS</td>\n",
       "      <td>6079c0e9116de356d8ad6485</td>\n",
       "      <td>16000207684</td>\n",
       "      <td>1.00</td>\n",
       "      <td>2.62</td>\n",
       "    </tr>\n",
       "    <tr>\n",
       "      <th>35488</th>\n",
       "      <td>01d0e64c-0b62-405f-a7bf-2dc04c36a53d</td>\n",
       "      <td>2024-08-23</td>\n",
       "      <td>2024-08-26 10:05:19</td>\n",
       "      <td>WINCO FOODS</td>\n",
       "      <td>6079c0e9116de356d8ad6485</td>\n",
       "      <td>51500040027</td>\n",
       "      <td>1.00</td>\n",
       "      <td>3.83</td>\n",
       "    </tr>\n",
       "  </tbody>\n",
       "</table>\n",
       "</div>"
      ],
      "text/plain": [
       "                                 RECEIPT_ID PURCHASE_DATE           SCAN_DATE  \\\n",
       "173    01d0e64c-0b62-405f-a7bf-2dc04c36a53d    2024-08-23 2024-08-26 10:05:19   \n",
       "174    01d0e64c-0b62-405f-a7bf-2dc04c36a53d    2024-08-23 2024-08-26 10:05:19   \n",
       "34963  01d0e64c-0b62-405f-a7bf-2dc04c36a53d    2024-08-23 2024-08-26 10:05:19   \n",
       "35488  01d0e64c-0b62-405f-a7bf-2dc04c36a53d    2024-08-23 2024-08-26 10:05:19   \n",
       "\n",
       "        STORE_NAME                   USER_ID      BARCODE FINAL_QUANTITY  \\\n",
       "173    WINCO FOODS  6079c0e9116de356d8ad6485  16000207684           zero   \n",
       "174    WINCO FOODS  6079c0e9116de356d8ad6485  51500040027           1.00   \n",
       "34963  WINCO FOODS  6079c0e9116de356d8ad6485  16000207684           1.00   \n",
       "35488  WINCO FOODS  6079c0e9116de356d8ad6485  51500040027           1.00   \n",
       "\n",
       "      FINAL_SALE  \n",
       "173         2.62  \n",
       "174               \n",
       "34963       2.62  \n",
       "35488       3.83  "
      ]
     },
     "execution_count": 87,
     "metadata": {},
     "output_type": "execute_result"
    }
   ],
   "source": [
    "# example 3 of duplicated RECEIPT_ID\n",
    "clean_transactions_df.query('RECEIPT_ID == \"01d0e64c-0b62-405f-a7bf-2dc04c36a53d\"')"
   ]
  },
  {
   "cell_type": "markdown",
   "metadata": {},
   "source": [
    "We can see there are two problems with the data:\n",
    "1. why are there blank values (ie. ' ') in FINAL_SALE?\n",
    "2. why are there 'zero' FINAL_QUANTITY?\n",
    "\n",
    "To address the first problem, my assumption would be: They are bundled sales. The rows with valid values in FINAL_SALE are the amount paid by users, while the rows with empty FINAL_SALE are the items sold with the bundle, so it is 'free of charge'.\n",
    "\n",
    "Let's verify my assumption by checking if transaction records (RECEIPT_ID + BARCODE) of valid FINAL_SALE can form pairs with records of empty FINAL_SALE."
   ]
  },
  {
   "cell_type": "code",
   "execution_count": 88,
   "metadata": {},
   "outputs": [
    {
     "name": "stderr",
     "output_type": "stream",
     "text": [
      "/var/folders/d8/pj899s_x1_lbj5g5h4ldf5k80000gn/T/ipykernel_48974/751552367.py:8: SettingWithCopyWarning: \n",
      "A value is trying to be set on a copy of a slice from a DataFrame.\n",
      "Try using .loc[row_indexer,col_indexer] = value instead\n",
      "\n",
      "See the caveats in the documentation: https://pandas.pydata.org/pandas-docs/stable/user_guide/indexing.html#returning-a-view-versus-a-copy\n",
      "  blank_sales['rec_bar'] = blank_sales.apply(lambda x:x['RECEIPT_ID']+x['BARCODE'] if not pd.isnull(x['BARCODE']) else x['RECEIPT_ID']+'-1', axis=1)\n",
      "/var/folders/d8/pj899s_x1_lbj5g5h4ldf5k80000gn/T/ipykernel_48974/751552367.py:11: SettingWithCopyWarning: \n",
      "A value is trying to be set on a copy of a slice from a DataFrame.\n",
      "Try using .loc[row_indexer,col_indexer] = value instead\n",
      "\n",
      "See the caveats in the documentation: https://pandas.pydata.org/pandas-docs/stable/user_guide/indexing.html#returning-a-view-versus-a-copy\n",
      "  non_blank_sales['rec_bar'] = non_blank_sales.apply(lambda x:x['RECEIPT_ID']+x['BARCODE'] if not pd.isnull(x['BARCODE']) else x['RECEIPT_ID']+'-1', axis=1)\n"
     ]
    }
   ],
   "source": [
    "# identify rows where FINAL_SALE is blank\n",
    "blank_sales = clean_transactions_df.query(\"FINAL_SALE == ' '\")\n",
    "\n",
    "# identify rows where FINAL_SALE is not blank\n",
    "non_blank_sales = clean_transactions_df.query(\"FINAL_SALE != ' '\")\n",
    "\n",
    "# add a column with RECEIPT_ID concatenated with BARCODE, so it could be used to identify the unique BARCODE (ie product) in a RECEIPT_ID (ie transaction)\n",
    "blank_sales['rec_bar'] = blank_sales.apply(lambda x:x['RECEIPT_ID']+x['BARCODE'] if not pd.isnull(x['BARCODE']) else x['RECEIPT_ID']+'-1', axis=1)\n",
    "\n",
    "# same for non_blank_sales\n",
    "non_blank_sales['rec_bar'] = non_blank_sales.apply(lambda x:x['RECEIPT_ID']+x['BARCODE'] if not pd.isnull(x['BARCODE']) else x['RECEIPT_ID']+'-1', axis=1)"
   ]
  },
  {
   "cell_type": "code",
   "execution_count": 89,
   "metadata": {},
   "outputs": [
    {
     "data": {
      "text/plain": [
       "((12486, 9), 12486)"
      ]
     },
     "execution_count": 89,
     "metadata": {},
     "output_type": "execute_result"
    }
   ],
   "source": [
    "# shape, no of unique rec_bar in blank_sales\n",
    "blank_sales.shape, blank_sales['rec_bar'].nunique()"
   ]
  },
  {
   "cell_type": "code",
   "execution_count": 90,
   "metadata": {},
   "outputs": [
    {
     "data": {
      "text/plain": [
       "12486"
      ]
     },
     "execution_count": 90,
     "metadata": {},
     "output_type": "execute_result"
    }
   ],
   "source": [
    "# no of unique rec_bar in blank_sales that intersect with rec_bar in non_blank_sales\n",
    "len(set(blank_sales['rec_bar'].unique()).intersection(non_blank_sales['rec_bar'].unique()))"
   ]
  },
  {
   "cell_type": "markdown",
   "metadata": {},
   "source": [
    "From the above, we can see that all rows with blank \" \" FINAL_SALE have their corresponding rows with valid values in FINAL_SALE. They have the same RECEIPT_IDs and BARCODEs, and other column information. This confirmed my hypothesis that they are records of bundle sales. The rows with valid values in FINAL_SALE is the money paid, while the rows with blank FINAL_SALE is the free item sold by the bundle.\n",
    "\n",
    "Therefore it is safe to fill the blank values in FINAL_SALE with 0."
   ]
  },
  {
   "cell_type": "code",
   "execution_count": 91,
   "metadata": {},
   "outputs": [],
   "source": [
    "clean_transactions_df['FINAL_SALE'] = clean_transactions_df['FINAL_SALE'].apply(lambda x: float(x) if x != ' ' else 0)"
   ]
  },
  {
   "cell_type": "code",
   "execution_count": 92,
   "metadata": {},
   "outputs": [
    {
     "name": "stdout",
     "output_type": "stream",
     "text": [
      "<class 'pandas.core.frame.DataFrame'>\n",
      "Index: 49829 entries, 0 to 49999\n",
      "Data columns (total 8 columns):\n",
      " #   Column          Non-Null Count  Dtype         \n",
      "---  ------          --------------  -----         \n",
      " 0   RECEIPT_ID      49829 non-null  object        \n",
      " 1   PURCHASE_DATE   49829 non-null  datetime64[ns]\n",
      " 2   SCAN_DATE       49829 non-null  datetime64[ns]\n",
      " 3   STORE_NAME      49829 non-null  object        \n",
      " 4   USER_ID         49829 non-null  object        \n",
      " 5   BARCODE         44094 non-null  object        \n",
      " 6   FINAL_QUANTITY  49829 non-null  object        \n",
      " 7   FINAL_SALE      49829 non-null  float64       \n",
      "dtypes: datetime64[ns](2), float64(1), object(5)\n",
      "memory usage: 3.4+ MB\n"
     ]
    }
   ],
   "source": [
    "clean_transactions_df.info()"
   ]
  },
  {
   "cell_type": "markdown",
   "metadata": {},
   "source": [
    "Regarding the second problem: why are there 'zero' FINAL_QUANTITY?\n",
    "\n",
    "I can think of a few reasons:\n",
    "1. they are returned or cancellation transactions\n",
    "2. they are inventory adjustments\n",
    "\n",
    "However there is not sufficient data that supports my hypothesis. I try to look at the difference between records with zero FINAL_QUANTITY and non-zero FINAL_QUANTITY, yet there is no meaningful conclusion could be drawn."
   ]
  },
  {
   "cell_type": "code",
   "execution_count": 93,
   "metadata": {},
   "outputs": [
    {
     "data": {
      "text/plain": [
       "Timestamp('2024-06-12 00:00:00')"
      ]
     },
     "execution_count": 93,
     "metadata": {},
     "output_type": "execute_result"
    }
   ],
   "source": [
    "min(clean_transactions_df[clean_transactions_df.FINAL_QUANTITY == 'zero'].PURCHASE_DATE)"
   ]
  },
  {
   "cell_type": "code",
   "execution_count": 94,
   "metadata": {},
   "outputs": [
    {
     "name": "stdout",
     "output_type": "stream",
     "text": [
      "First day of transaction with zero FINAL_QUANTITY: 2024-06-12 00:00:00\n",
      "Last day of transaction with zero FINAL_QUANTITY: 2024-09-08 00:00:00\n",
      "First day of transaction with non-zero FINAL_QUANTITY: 2024-06-12 00:00:00\n",
      "Last day of transaction with non-zero FINAL_QUANTITY: 2024-09-08 00:00:00\n"
     ]
    }
   ],
   "source": [
    "# find first day and last day of zero and non-zero FINAL_QUANTITY transactions\n",
    "print(f\"First day of transaction with zero FINAL_QUANTITY: {min(clean_transactions_df[clean_transactions_df.FINAL_QUANTITY == 'zero'].PURCHASE_DATE)}\")\n",
    "print(f\"Last day of transaction with zero FINAL_QUANTITY: {max(clean_transactions_df[clean_transactions_df.FINAL_QUANTITY == 'zero'].PURCHASE_DATE)}\")\n",
    "print(f\"First day of transaction with non-zero FINAL_QUANTITY: {min(clean_transactions_df[clean_transactions_df.FINAL_QUANTITY != 'zero'].PURCHASE_DATE)}\")\n",
    "print(f\"Last day of transaction with non-zero FINAL_QUANTITY: {max(clean_transactions_df[clean_transactions_df.FINAL_QUANTITY != 'zero'].PURCHASE_DATE)}\")"
   ]
  },
  {
   "cell_type": "code",
   "execution_count": 95,
   "metadata": {},
   "outputs": [
    {
     "data": {
      "text/plain": [
       "BARCODE\n",
       "78742223759     57\n",
       "511111503972    47\n",
       "78742012285     38\n",
       "49000000443     38\n",
       "311111224057    36\n",
       "78742285443     35\n",
       "511111001768    35\n",
       "511111703983    34\n",
       "78742097282     29\n",
       "49000050103     24\n",
       "78742036397     23\n",
       "21000658831     19\n",
       "311111460905    19\n",
       "33383666020     19\n",
       "49000028904     18\n",
       "64144043224     17\n",
       "311111206268    17\n",
       "311111556943    15\n",
       "28400199148     15\n",
       "78742082752     15\n",
       "Name: count, dtype: int64"
      ]
     },
     "execution_count": 95,
     "metadata": {},
     "output_type": "execute_result"
    }
   ],
   "source": [
    "# find pattern in BARCODE of zero FINAL_QUANTITY transaction\n",
    "clean_transactions_df.query('FINAL_QUANTITY == \"zero\"').BARCODE.value_counts()[:20]"
   ]
  },
  {
   "cell_type": "code",
   "execution_count": 96,
   "metadata": {},
   "outputs": [
    {
     "data": {
      "text/plain": [
       "STORE_NAME\n",
       "WALMART                   5306\n",
       "DOLLAR GENERAL STORE       678\n",
       "ALDI                       668\n",
       "TARGET                     375\n",
       "KROGER                     349\n",
       "WALGREENS                  310\n",
       "MEIJER                     295\n",
       "DOLLAR TREE STORES INC     294\n",
       "CVS                        281\n",
       "PUBLIX                     272\n",
       "SAM'S CLUB                 271\n",
       "COSTCO                     270\n",
       "FOOD LION                  155\n",
       "SHOP RITE                  136\n",
       "H-E-B                      133\n",
       "FAMILY DOLLAR              130\n",
       "SAFEWAY                    115\n",
       "AMAZON                      85\n",
       "BJ'S WHOLESALE CLUB         79\n",
       "MARKET BASKET               69\n",
       "Name: count, dtype: int64"
      ]
     },
     "execution_count": 96,
     "metadata": {},
     "output_type": "execute_result"
    }
   ],
   "source": [
    "# find pattern in STORE_NAME of zero FINAL_QUANTITY transaction\n",
    "clean_transactions_df.query('FINAL_QUANTITY == \"zero\"').STORE_NAME.value_counts()[:20]"
   ]
  },
  {
   "cell_type": "markdown",
   "metadata": {},
   "source": [
    "From the above queries, we cannot make any meaningful assumptions about the appearance of 'zero' in FINAL_QUANTITY. I think this is the one of the only two fields that are challenging to understand across three datasets. This would require further information or discussion with the team to understand why reason behind this data quality issue."
   ]
  },
  {
   "cell_type": "markdown",
   "metadata": {},
   "source": [
    "Moving forward, I would clean the FINAL_QUANTITY values, as there are some unusual value in FINAL QUANTITY"
   ]
  },
  {
   "cell_type": "code",
   "execution_count": 97,
   "metadata": {},
   "outputs": [
    {
     "data": {
      "text/plain": [
       "Index(['1.00', 'zero', '2.00', '3.00', '4.00', '6.00', '5.00', '8.00', '7.00',\n",
       "       '12.00', '10.00', '0.23', '1.35', '1.40', '0.86', '9.00', '1.47',\n",
       "       '1.28', '0.46', '0.09', '2.17', '18.00', '0.51', '0.53', '0.62',\n",
       "       '16.00', '2.58', '1.88', '1.54', '2.39', '2.60', '1.69', '1.24', '0.65',\n",
       "       '2.93', '276.00', '1.81', '2.75', '1.44', '2.89', '4.55', '2.83',\n",
       "       '2.34', '1.99', '0.04', '2.25', '1.37', '3.02', '0.35', '0.99', '1.80',\n",
       "       '1.34', '1.13', '2.19', '0.83', '2.61', '0.28', '1.50', '0.97', '0.24',\n",
       "       '1.18', '6.22', '1.22', '1.23', '2.57', '1.07', '2.11', '0.87', '2.10',\n",
       "       '3.33', '2.54', '2.20', '1.93', '0.48', '3.11', '1.08', '5.53', '1.89',\n",
       "       '0.01', '2.18', '3.24', '0.94', '2.04', '3.69', '0.70', '2.52', '2.27'],\n",
       "      dtype='object', name='FINAL_QUANTITY')"
      ]
     },
     "execution_count": 97,
     "metadata": {},
     "output_type": "execute_result"
    }
   ],
   "source": [
    "# check if there are unusual value in FINAL_QUANTITY\n",
    "clean_transactions_df['FINAL_QUANTITY'].value_counts().index"
   ]
  },
  {
   "cell_type": "markdown",
   "metadata": {},
   "source": [
    "As seen above, there are some float value in FINAL_QUANTITY. One of the reasons could be the quantity is quantified by weight. I will merge the product table and see if the product category "
   ]
  },
  {
   "cell_type": "code",
   "execution_count": 98,
   "metadata": {},
   "outputs": [
    {
     "data": {
      "text/html": [
       "<div>\n",
       "<style scoped>\n",
       "    .dataframe tbody tr th:only-of-type {\n",
       "        vertical-align: middle;\n",
       "    }\n",
       "\n",
       "    .dataframe tbody tr th {\n",
       "        vertical-align: top;\n",
       "    }\n",
       "\n",
       "    .dataframe thead th {\n",
       "        text-align: right;\n",
       "    }\n",
       "</style>\n",
       "<table border=\"1\" class=\"dataframe\">\n",
       "  <thead>\n",
       "    <tr style=\"text-align: right;\">\n",
       "      <th></th>\n",
       "      <th>RECEIPT_ID</th>\n",
       "      <th>PURCHASE_DATE</th>\n",
       "      <th>SCAN_DATE</th>\n",
       "      <th>STORE_NAME</th>\n",
       "      <th>USER_ID</th>\n",
       "      <th>BARCODE</th>\n",
       "      <th>FINAL_QUANTITY</th>\n",
       "      <th>FINAL_SALE</th>\n",
       "      <th>CATEGORY_1</th>\n",
       "      <th>CATEGORY_2</th>\n",
       "      <th>CATEGORY_3</th>\n",
       "      <th>CATEGORY_4</th>\n",
       "      <th>MANUFACTURER</th>\n",
       "      <th>BRAND</th>\n",
       "      <th>BARCODE_LENGTH</th>\n",
       "    </tr>\n",
       "  </thead>\n",
       "  <tbody>\n",
       "    <tr>\n",
       "      <th>49587</th>\n",
       "      <td>01a7d329-b995-4c76-8d74-41643000942b</td>\n",
       "      <td>2024-07-05</td>\n",
       "      <td>2024-07-05 10:04:43</td>\n",
       "      <td>WALMART</td>\n",
       "      <td>624aff6199e5162ba91c0f5b</td>\n",
       "      <td>895321002006</td>\n",
       "      <td>2.52</td>\n",
       "      <td>5.01</td>\n",
       "      <td>Health &amp; Wellness</td>\n",
       "      <td>Medicines &amp; Treatments</td>\n",
       "      <td>Vitamins &amp; Herbal Supplements</td>\n",
       "      <td>NaN</td>\n",
       "      <td>UNKNOWN MANUFACTURER</td>\n",
       "      <td>UNKNOWN BRAND</td>\n",
       "      <td>12.0</td>\n",
       "    </tr>\n",
       "  </tbody>\n",
       "</table>\n",
       "</div>"
      ],
      "text/plain": [
       "                                 RECEIPT_ID PURCHASE_DATE           SCAN_DATE  \\\n",
       "49587  01a7d329-b995-4c76-8d74-41643000942b    2024-07-05 2024-07-05 10:04:43   \n",
       "\n",
       "      STORE_NAME                   USER_ID       BARCODE FINAL_QUANTITY  \\\n",
       "49587    WALMART  624aff6199e5162ba91c0f5b  895321002006           2.52   \n",
       "\n",
       "       FINAL_SALE         CATEGORY_1              CATEGORY_2  \\\n",
       "49587        5.01  Health & Wellness  Medicines & Treatments   \n",
       "\n",
       "                          CATEGORY_3 CATEGORY_4          MANUFACTURER  \\\n",
       "49587  Vitamins & Herbal Supplements        NaN  UNKNOWN MANUFACTURER   \n",
       "\n",
       "               BRAND  BARCODE_LENGTH  \n",
       "49587  UNKNOWN BRAND            12.0  "
      ]
     },
     "execution_count": 98,
     "metadata": {},
     "output_type": "execute_result"
    }
   ],
   "source": [
    "# example 1 of irregular FINAL_QUANTITY\n",
    "clean_transactions_df.merge(known_products_df, how=\"left\", left_on='BARCODE', right_on='BARCODE').query('FINAL_QUANTITY == \"2.52\"')"
   ]
  },
  {
   "cell_type": "code",
   "execution_count": 99,
   "metadata": {},
   "outputs": [
    {
     "data": {
      "text/html": [
       "<div>\n",
       "<style scoped>\n",
       "    .dataframe tbody tr th:only-of-type {\n",
       "        vertical-align: middle;\n",
       "    }\n",
       "\n",
       "    .dataframe tbody tr th {\n",
       "        vertical-align: top;\n",
       "    }\n",
       "\n",
       "    .dataframe thead th {\n",
       "        text-align: right;\n",
       "    }\n",
       "</style>\n",
       "<table border=\"1\" class=\"dataframe\">\n",
       "  <thead>\n",
       "    <tr style=\"text-align: right;\">\n",
       "      <th></th>\n",
       "      <th>RECEIPT_ID</th>\n",
       "      <th>PURCHASE_DATE</th>\n",
       "      <th>SCAN_DATE</th>\n",
       "      <th>STORE_NAME</th>\n",
       "      <th>USER_ID</th>\n",
       "      <th>BARCODE</th>\n",
       "      <th>FINAL_QUANTITY</th>\n",
       "      <th>FINAL_SALE</th>\n",
       "      <th>CATEGORY_1</th>\n",
       "      <th>CATEGORY_2</th>\n",
       "      <th>CATEGORY_3</th>\n",
       "      <th>CATEGORY_4</th>\n",
       "      <th>MANUFACTURER</th>\n",
       "      <th>BRAND</th>\n",
       "      <th>BARCODE_LENGTH</th>\n",
       "    </tr>\n",
       "  </thead>\n",
       "  <tbody>\n",
       "    <tr>\n",
       "      <th>41145</th>\n",
       "      <td>4bbb191f-5291-48b5-b6df-7f702ba57a09</td>\n",
       "      <td>2024-06-30</td>\n",
       "      <td>2024-07-01 06:33:42</td>\n",
       "      <td>KROGER</td>\n",
       "      <td>5d72f33f1ddc403b7631e977</td>\n",
       "      <td>28400518000</td>\n",
       "      <td>2.18</td>\n",
       "      <td>5.49</td>\n",
       "      <td>Snacks</td>\n",
       "      <td>Chips</td>\n",
       "      <td>Tortilla Chips</td>\n",
       "      <td>NaN</td>\n",
       "      <td>PEPSICO</td>\n",
       "      <td>TOSTITOS</td>\n",
       "      <td>11.0</td>\n",
       "    </tr>\n",
       "  </tbody>\n",
       "</table>\n",
       "</div>"
      ],
      "text/plain": [
       "                                 RECEIPT_ID PURCHASE_DATE           SCAN_DATE  \\\n",
       "41145  4bbb191f-5291-48b5-b6df-7f702ba57a09    2024-06-30 2024-07-01 06:33:42   \n",
       "\n",
       "      STORE_NAME                   USER_ID      BARCODE FINAL_QUANTITY  \\\n",
       "41145     KROGER  5d72f33f1ddc403b7631e977  28400518000           2.18   \n",
       "\n",
       "       FINAL_SALE CATEGORY_1 CATEGORY_2      CATEGORY_3 CATEGORY_4  \\\n",
       "41145        5.49     Snacks      Chips  Tortilla Chips        NaN   \n",
       "\n",
       "      MANUFACTURER     BRAND  BARCODE_LENGTH  \n",
       "41145      PEPSICO  TOSTITOS            11.0  "
      ]
     },
     "execution_count": 99,
     "metadata": {},
     "output_type": "execute_result"
    }
   ],
   "source": [
    "# example 2 of irregular FINAL_QUANTITY\n",
    "clean_transactions_df.merge(known_products_df, how=\"left\", left_on='BARCODE', right_on='BARCODE').query('FINAL_QUANTITY == \"2.18\"')"
   ]
  },
  {
   "cell_type": "markdown",
   "metadata": {},
   "source": [
    "From the above, we can see that it is not reasonable to have FINAL_QUANTITY in float when the item sold is packaged item like health supplement and tortilla chips. Therefore i would impute the FINAL_QUANTITY by rounding them off, and replace 'zero' with 0. "
   ]
  },
  {
   "cell_type": "code",
   "execution_count": 100,
   "metadata": {},
   "outputs": [],
   "source": [
    "# convert the FINAL_QUANTITY from string to float, and round them off, and convert to integer\n",
    "clean_transactions_df['FINAL_QUANTITY'] = clean_transactions_df['FINAL_QUANTITY'].apply(lambda x: int(round(float(x))) if x != 'zero' else 0)"
   ]
  },
  {
   "cell_type": "code",
   "execution_count": 101,
   "metadata": {},
   "outputs": [
    {
     "data": {
      "text/plain": [
       "FINAL_QUANTITY\n",
       "1      35579\n",
       "0      12506\n",
       "2       1312\n",
       "3        204\n",
       "4        140\n",
       "6         28\n",
       "5         24\n",
       "8          8\n",
       "7          7\n",
       "12         7\n",
       "10         5\n",
       "9          3\n",
       "18         2\n",
       "16         2\n",
       "276        2\n",
       "Name: count, dtype: int64"
      ]
     },
     "execution_count": 101,
     "metadata": {},
     "output_type": "execute_result"
    }
   ],
   "source": [
    "# verify the results\n",
    "clean_transactions_df.FINAL_QUANTITY.value_counts()"
   ]
  },
  {
   "cell_type": "code",
   "execution_count": 139,
   "metadata": {},
   "outputs": [],
   "source": [
    "clean_transactions_df.reset_index(drop=True, inplace=True)"
   ]
  },
  {
   "cell_type": "code",
   "execution_count": 378,
   "metadata": {},
   "outputs": [],
   "source": [
    "import uuid\n",
    "\n",
    "# Add a unique ID for each row\n",
    "clean_transactions_df['transaction_id'] = [str(uuid.uuid4()) for _ in range(len(clean_transactions_df))]"
   ]
  },
  {
   "cell_type": "code",
   "execution_count": 379,
   "metadata": {},
   "outputs": [
    {
     "name": "stdout",
     "output_type": "stream",
     "text": [
      "<class 'pandas.core.frame.DataFrame'>\n",
      "RangeIndex: 49829 entries, 0 to 49828\n",
      "Data columns (total 9 columns):\n",
      " #   Column          Non-Null Count  Dtype         \n",
      "---  ------          --------------  -----         \n",
      " 0   RECEIPT_ID      49829 non-null  object        \n",
      " 1   PURCHASE_DATE   49829 non-null  datetime64[ns]\n",
      " 2   SCAN_DATE       49829 non-null  datetime64[ns]\n",
      " 3   STORE_NAME      49829 non-null  object        \n",
      " 4   USER_ID         49829 non-null  object        \n",
      " 5   BARCODE         44094 non-null  object        \n",
      " 6   FINAL_QUANTITY  49829 non-null  int64         \n",
      " 7   FINAL_SALE      49829 non-null  float64       \n",
      " 8   transaction_id  49829 non-null  object        \n",
      "dtypes: datetime64[ns](2), float64(1), int64(1), object(5)\n",
      "memory usage: 3.4+ MB\n"
     ]
    }
   ],
   "source": [
    "clean_transactions_df.info()"
   ]
  },
  {
   "cell_type": "markdown",
   "metadata": {},
   "source": [
    "After cleaning the transactions dataset, we can plot the sales and quantity sold over time to see the trend."
   ]
  },
  {
   "cell_type": "code",
   "execution_count": 380,
   "metadata": {},
   "outputs": [
    {
     "data": {
      "image/png": "[encoded data removed]",
      "text/plain": [
       "<Figure size 1080x360 with 2 Axes>"
      ]
     },
     "metadata": {
      "needs_background": "light"
     },
     "output_type": "display_data"
    }
   ],
   "source": [
    "# aggregate data by purchase date for both FINAL_SALE and FINAL_QUANTITY\n",
    "sales_over_time = clean_transactions_df.groupby('PURCHASE_DATE')['FINAL_SALE'].sum()\n",
    "quantity_over_time = clean_transactions_df.groupby('PURCHASE_DATE')['FINAL_QUANTITY'].sum()\n",
    "\n",
    "# create subplots for FINAL_SALE and FINAL_QUANTITY\n",
    "fig, axes = plt.subplots(1, 2, figsize=(15, 5), sharex=True)\n",
    "\n",
    "# plot FINAL_SALE over time\n",
    "sales_over_time.plot(kind='line', ax=axes[0], color='blue', title='Sales Over Time')\n",
    "axes[0].set_xlabel('Date')\n",
    "axes[0].set_ylabel('Total Sales')\n",
    "\n",
    "# plot FINAL_QUANTITY over time\n",
    "quantity_over_time.plot(kind='line', ax=axes[1], color='green', title='Quantity Over Time')\n",
    "axes[1].set_xlabel('Date')\n",
    "axes[1].set_ylabel('Total Quantity')\n",
    "\n",
    "plt.suptitle('Trends of Sales and Quantity Over Time', fontsize=16)\n",
    "plt.tight_layout(rect=[0, 0, 1, 0.95])\n",
    "plt.show()\n"
   ]
  },
  {
   "cell_type": "markdown",
   "metadata": {},
   "source": [
    "We did the followings:\n",
    "\n",
    "1. Removed duplicated records of transactions.\n",
    "2. Changed data type of PURCHASE_DATE and SCAN_DATE to datetime.\n",
    "3. Changed data type of BARCODE to string.\n",
    "4. Verified the assumption of bundled item where rows with ' ' (empty) FINAL_SALE would be the item that gifted to the users. Then fill the empty values with 0."
   ]
  },
  {
   "cell_type": "code",
   "execution_count": 381,
   "metadata": {},
   "outputs": [],
   "source": [
    "# export 4 data frames including known_products_df to csv that could be imported to data warehouse.\n",
    "\n",
    "clean_users_df.to_csv('./data/clean/clean_users.csv', index=False)\n",
    "clean_products_df.to_csv('./data/clean/clean_products.csv', index=False)\n",
    "known_products_df.to_csv('./data/clean/known_products.csv', index=False)\n",
    "clean_transactions_df.to_csv('./data/clean/clean_transactions.csv', index=False)"
   ]
  },
  {
   "cell_type": "code",
   "execution_count": 383,
   "metadata": {},
   "outputs": [
    {
     "name": "stdout",
     "output_type": "stream",
     "text": [
      "<class 'pandas.core.frame.DataFrame'>\n",
      "RangeIndex: 100000 entries, 0 to 99999\n",
      "Data columns (total 8 columns):\n",
      " #   Column        Non-Null Count   Dtype              \n",
      "---  ------        --------------   -----              \n",
      " 0   ID            100000 non-null  object             \n",
      " 1   CREATED_DATE  100000 non-null  datetime64[ns, UTC]\n",
      " 2   BIRTH_DATE    96325 non-null   datetime64[ns, UTC]\n",
      " 3   STATE         100000 non-null  category           \n",
      " 4   LANGUAGE      100000 non-null  category           \n",
      " 5   GENDER        100000 non-null  category           \n",
      " 6   AGE           96325 non-null   Int64              \n",
      " 7   AGE_GROUP     100000 non-null  object             \n",
      "dtypes: Int64(1), category(3), datetime64[ns, UTC](2), object(2)\n",
      "memory usage: 4.2+ MB\n"
     ]
    }
   ],
   "source": [
    "clean_users_df.info()"
   ]
  },
  {
   "cell_type": "code",
   "execution_count": 130,
   "metadata": {},
   "outputs": [
    {
     "name": "stdout",
     "output_type": "stream",
     "text": [
      "<class 'pandas.core.frame.DataFrame'>\n",
      "RangeIndex: 845337 entries, 0 to 845336\n",
      "Data columns (total 8 columns):\n",
      " #   Column          Non-Null Count   Dtype   \n",
      "---  ------          --------------   -----   \n",
      " 0   CATEGORY_1      845226 non-null  category\n",
      " 1   CATEGORY_2      843915 non-null  category\n",
      " 2   CATEGORY_3      784774 non-null  category\n",
      " 3   CATEGORY_4      67453 non-null   category\n",
      " 4   MANUFACTURER    845337 non-null  object  \n",
      " 5   BRAND           845337 non-null  object  \n",
      " 6   BARCODE         841369 non-null  object  \n",
      " 7   BARCODE_LENGTH  845337 non-null  int64   \n",
      "dtypes: category(4), int64(1), object(3)\n",
      "memory usage: 30.7+ MB\n"
     ]
    }
   ],
   "source": [
    "clean_products_df.info()"
   ]
  },
  {
   "cell_type": "code",
   "execution_count": 374,
   "metadata": {},
   "outputs": [
    {
     "name": "stdout",
     "output_type": "stream",
     "text": [
      "<class 'pandas.core.frame.DataFrame'>\n",
      "RangeIndex: 841342 entries, 0 to 841341\n",
      "Data columns (total 9 columns):\n",
      " #   Column          Non-Null Count   Dtype   \n",
      "---  ------          --------------   -----   \n",
      " 0   CATEGORY_1      841231 non-null  category\n",
      " 1   CATEGORY_2      840681 non-null  category\n",
      " 2   CATEGORY_3      782629 non-null  category\n",
      " 3   CATEGORY_4      67232 non-null   category\n",
      " 4   MANUFACTURER    841342 non-null  object  \n",
      " 5   BRAND           841342 non-null  object  \n",
      " 6   BARCODE         841342 non-null  object  \n",
      " 7   BARCODE_LENGTH  841342 non-null  int64   \n",
      " 8   OTHER_BRAND     16 non-null      object  \n",
      "dtypes: category(4), int64(1), object(4)\n",
      "memory usage: 36.9+ MB\n"
     ]
    }
   ],
   "source": [
    "known_products_df.info()"
   ]
  },
  {
   "cell_type": "code",
   "execution_count": 384,
   "metadata": {},
   "outputs": [
    {
     "name": "stdout",
     "output_type": "stream",
     "text": [
      "<class 'pandas.core.frame.DataFrame'>\n",
      "RangeIndex: 49829 entries, 0 to 49828\n",
      "Data columns (total 9 columns):\n",
      " #   Column          Non-Null Count  Dtype         \n",
      "---  ------          --------------  -----         \n",
      " 0   RECEIPT_ID      49829 non-null  object        \n",
      " 1   PURCHASE_DATE   49829 non-null  datetime64[ns]\n",
      " 2   SCAN_DATE       49829 non-null  datetime64[ns]\n",
      " 3   STORE_NAME      49829 non-null  object        \n",
      " 4   USER_ID         49829 non-null  object        \n",
      " 5   BARCODE         44094 non-null  object        \n",
      " 6   FINAL_QUANTITY  49829 non-null  int64         \n",
      " 7   FINAL_SALE      49829 non-null  float64       \n",
      " 8   transaction_id  49829 non-null  object        \n",
      "dtypes: datetime64[ns](2), float64(1), int64(1), object(5)\n",
      "memory usage: 3.4+ MB\n"
     ]
    }
   ],
   "source": [
    "clean_transactions_df.info()"
   ]
  },
  {
   "cell_type": "code",
   "execution_count": 416,
   "metadata": {},
   "outputs": [
    {
     "data": {
      "text/plain": [
       "Timestamp('2024-09-08 00:00:00')"
      ]
     },
     "execution_count": 416,
     "metadata": {},
     "output_type": "execute_result"
    }
   ],
   "source": [
    "clean_transactions_df.PURCHASE_DATE.max()"
   ]
  },
  {
   "cell_type": "markdown",
   "metadata": {},
   "source": [
    "**Data quality issue #12**: User ID and BARCODE mismatch\n",
    "\n",
    "As shown below, there are many USER_ID mismatch between user dataset and transactions dataset, and BARCODE mismatch between product dataset and transactions dataset. That would lead to many foreign keys (ie USER_ID and BARCODE) in transactions dataset cannot reference valid primary keys in user dataset and product dataset. Therefore when I import the data into PostgreSQL server, I had to remove the foreign key constraints temporarily, which prevents us from establishing relational integrity in the database."
   ]
  },
  {
   "cell_type": "code",
   "execution_count": 409,
   "metadata": {},
   "outputs": [
    {
     "data": {
      "text/plain": [
       "100000"
      ]
     },
     "execution_count": 409,
     "metadata": {},
     "output_type": "execute_result"
    }
   ],
   "source": [
    "# no of unique ID in user dataset\n",
    "len(set(clean_users_df.ID))"
   ]
  },
  {
   "cell_type": "code",
   "execution_count": 410,
   "metadata": {},
   "outputs": [
    {
     "data": {
      "text/plain": [
       "17694"
      ]
     },
     "execution_count": 410,
     "metadata": {},
     "output_type": "execute_result"
    }
   ],
   "source": [
    "# no of unique ID in transactions dataset\n",
    "len(set(clean_transactions_df.USER_ID))"
   ]
  },
  {
   "cell_type": "code",
   "execution_count": 411,
   "metadata": {},
   "outputs": [
    {
     "data": {
      "text/plain": [
       "91"
      ]
     },
     "execution_count": 411,
     "metadata": {},
     "output_type": "execute_result"
    }
   ],
   "source": [
    "# no of unique ID intersection between user dataset and transaction dataset\n",
    "len(set(clean_users_df.ID).intersection(set(transactions_df.USER_ID)))"
   ]
  },
  {
   "cell_type": "code",
   "execution_count": 412,
   "metadata": {},
   "outputs": [
    {
     "data": {
      "text/plain": [
       "841342"
      ]
     },
     "execution_count": 412,
     "metadata": {},
     "output_type": "execute_result"
    }
   ],
   "source": [
    "# no of unique BARCODE in product dataset\n",
    "len(set(known_products_df.BARCODE))"
   ]
  },
  {
   "cell_type": "code",
   "execution_count": 413,
   "metadata": {},
   "outputs": [
    {
     "data": {
      "text/plain": [
       "16762"
      ]
     },
     "execution_count": 413,
     "metadata": {},
     "output_type": "execute_result"
    }
   ],
   "source": [
    "# no of unique BARCODE in transaction dataset\n",
    "len(set(clean_transactions_df.BARCODE))"
   ]
  },
  {
   "cell_type": "code",
   "execution_count": 414,
   "metadata": {},
   "outputs": [
    {
     "data": {
      "text/plain": [
       "6562"
      ]
     },
     "execution_count": 414,
     "metadata": {},
     "output_type": "execute_result"
    }
   ],
   "source": [
    "# no of unique BARCODE intersection between product dataset and transaction dataset\n",
    "len(set(known_products_df.BARCODE).intersection(set(clean_transactions_df.BARCODE)))"
   ]
  },
  {
   "cell_type": "code",
   "execution_count": 419,
   "metadata": {},
   "outputs": [
    {
     "data": {
      "text/html": [
       "<div>\n",
       "<style scoped>\n",
       "    .dataframe tbody tr th:only-of-type {\n",
       "        vertical-align: middle;\n",
       "    }\n",
       "\n",
       "    .dataframe tbody tr th {\n",
       "        vertical-align: top;\n",
       "    }\n",
       "\n",
       "    .dataframe thead th {\n",
       "        text-align: right;\n",
       "    }\n",
       "</style>\n",
       "<table border=\"1\" class=\"dataframe\">\n",
       "  <thead>\n",
       "    <tr style=\"text-align: right;\">\n",
       "      <th></th>\n",
       "      <th>CATEGORY_1</th>\n",
       "      <th>CATEGORY_2</th>\n",
       "      <th>CATEGORY_3</th>\n",
       "      <th>CATEGORY_4</th>\n",
       "      <th>MANUFACTURER</th>\n",
       "      <th>BRAND</th>\n",
       "      <th>BARCODE</th>\n",
       "      <th>BARCODE_LENGTH</th>\n",
       "    </tr>\n",
       "  </thead>\n",
       "  <tbody>\n",
       "    <tr>\n",
       "      <th>9</th>\n",
       "      <td>Health &amp; Wellness</td>\n",
       "      <td>NaN</td>\n",
       "      <td>NaN</td>\n",
       "      <td>NaN</td>\n",
       "      <td>CHURCH &amp; DWIGHT</td>\n",
       "      <td>REPHRESH</td>\n",
       "      <td>NaN</td>\n",
       "      <td>-1</td>\n",
       "    </tr>\n",
       "    <tr>\n",
       "      <th>124</th>\n",
       "      <td>Snacks</td>\n",
       "      <td>Jerky &amp; Dried Meat</td>\n",
       "      <td>NaN</td>\n",
       "      <td>NaN</td>\n",
       "      <td>CONAGRA</td>\n",
       "      <td>SLIM JIM</td>\n",
       "      <td>NaN</td>\n",
       "      <td>-1</td>\n",
       "    </tr>\n",
       "    <tr>\n",
       "      <th>147</th>\n",
       "      <td>Snacks</td>\n",
       "      <td>Crackers</td>\n",
       "      <td>Wheat Crackers</td>\n",
       "      <td>NaN</td>\n",
       "      <td>KELLANOVA</td>\n",
       "      <td>CARR'S</td>\n",
       "      <td>NaN</td>\n",
       "      <td>-1</td>\n",
       "    </tr>\n",
       "    <tr>\n",
       "      <th>365</th>\n",
       "      <td>Health &amp; Wellness</td>\n",
       "      <td>Hair Care</td>\n",
       "      <td>Shampoo</td>\n",
       "      <td>NaN</td>\n",
       "      <td>UNILEVER</td>\n",
       "      <td>APOTHECARE ESSENTIALS</td>\n",
       "      <td>NaN</td>\n",
       "      <td>-1</td>\n",
       "    </tr>\n",
       "    <tr>\n",
       "      <th>428</th>\n",
       "      <td>Health &amp; Wellness</td>\n",
       "      <td>Eye Care</td>\n",
       "      <td>Contact Lens Solution</td>\n",
       "      <td>NaN</td>\n",
       "      <td>BAUSCH + LOMB CORPORATION</td>\n",
       "      <td>BAUSCH + LOMB</td>\n",
       "      <td>NaN</td>\n",
       "      <td>-1</td>\n",
       "    </tr>\n",
       "    <tr>\n",
       "      <th>...</th>\n",
       "      <td>...</td>\n",
       "      <td>...</td>\n",
       "      <td>...</td>\n",
       "      <td>...</td>\n",
       "      <td>...</td>\n",
       "      <td>...</td>\n",
       "      <td>...</td>\n",
       "      <td>...</td>\n",
       "    </tr>\n",
       "    <tr>\n",
       "      <th>844855</th>\n",
       "      <td>Health &amp; Wellness</td>\n",
       "      <td>Medicines &amp; Treatments</td>\n",
       "      <td>NaN</td>\n",
       "      <td>NaN</td>\n",
       "      <td>RECKITT BENCKISER</td>\n",
       "      <td>CEPACOL</td>\n",
       "      <td>NaN</td>\n",
       "      <td>-1</td>\n",
       "    </tr>\n",
       "    <tr>\n",
       "      <th>844972</th>\n",
       "      <td>Health &amp; Wellness</td>\n",
       "      <td>Bath &amp; Body</td>\n",
       "      <td>NaN</td>\n",
       "      <td>NaN</td>\n",
       "      <td>RECKITT BENCKISER</td>\n",
       "      <td>QUEEN V</td>\n",
       "      <td>NaN</td>\n",
       "      <td>-1</td>\n",
       "    </tr>\n",
       "    <tr>\n",
       "      <th>845000</th>\n",
       "      <td>Snacks</td>\n",
       "      <td>NaN</td>\n",
       "      <td>NaN</td>\n",
       "      <td>NaN</td>\n",
       "      <td>PEPSICO</td>\n",
       "      <td>IMAGINE</td>\n",
       "      <td>NaN</td>\n",
       "      <td>-1</td>\n",
       "    </tr>\n",
       "    <tr>\n",
       "      <th>845019</th>\n",
       "      <td>Health &amp; Wellness</td>\n",
       "      <td>Oral Care</td>\n",
       "      <td>NaN</td>\n",
       "      <td>NaN</td>\n",
       "      <td>BOIRON</td>\n",
       "      <td>BOIRON</td>\n",
       "      <td>NaN</td>\n",
       "      <td>-1</td>\n",
       "    </tr>\n",
       "    <tr>\n",
       "      <th>845148</th>\n",
       "      <td>Health &amp; Wellness</td>\n",
       "      <td>Skin Care</td>\n",
       "      <td>Facial Cleansers</td>\n",
       "      <td>NaN</td>\n",
       "      <td>BEIERSDORF, INC.</td>\n",
       "      <td>LA PRAIRIE</td>\n",
       "      <td>NaN</td>\n",
       "      <td>-1</td>\n",
       "    </tr>\n",
       "  </tbody>\n",
       "</table>\n",
       "<p>3968 rows × 8 columns</p>\n",
       "</div>"
      ],
      "text/plain": [
       "               CATEGORY_1              CATEGORY_2             CATEGORY_3  \\\n",
       "9       Health & Wellness                     NaN                    NaN   \n",
       "124                Snacks      Jerky & Dried Meat                    NaN   \n",
       "147                Snacks                Crackers         Wheat Crackers   \n",
       "365     Health & Wellness               Hair Care                Shampoo   \n",
       "428     Health & Wellness                Eye Care  Contact Lens Solution   \n",
       "...                   ...                     ...                    ...   \n",
       "844855  Health & Wellness  Medicines & Treatments                    NaN   \n",
       "844972  Health & Wellness             Bath & Body                    NaN   \n",
       "845000             Snacks                     NaN                    NaN   \n",
       "845019  Health & Wellness               Oral Care                    NaN   \n",
       "845148  Health & Wellness               Skin Care       Facial Cleansers   \n",
       "\n",
       "       CATEGORY_4               MANUFACTURER                  BRAND BARCODE  \\\n",
       "9             NaN            CHURCH & DWIGHT               REPHRESH     NaN   \n",
       "124           NaN                    CONAGRA               SLIM JIM     NaN   \n",
       "147           NaN                  KELLANOVA                 CARR'S     NaN   \n",
       "365           NaN                   UNILEVER  APOTHECARE ESSENTIALS     NaN   \n",
       "428           NaN  BAUSCH + LOMB CORPORATION          BAUSCH + LOMB     NaN   \n",
       "...           ...                        ...                    ...     ...   \n",
       "844855        NaN          RECKITT BENCKISER                CEPACOL     NaN   \n",
       "844972        NaN          RECKITT BENCKISER                QUEEN V     NaN   \n",
       "845000        NaN                    PEPSICO                IMAGINE     NaN   \n",
       "845019        NaN                     BOIRON                 BOIRON     NaN   \n",
       "845148        NaN           BEIERSDORF, INC.             LA PRAIRIE     NaN   \n",
       "\n",
       "        BARCODE_LENGTH  \n",
       "9                   -1  \n",
       "124                 -1  \n",
       "147                 -1  \n",
       "365                 -1  \n",
       "428                 -1  \n",
       "...                ...  \n",
       "844855              -1  \n",
       "844972              -1  \n",
       "845000              -1  \n",
       "845019              -1  \n",
       "845148              -1  \n",
       "\n",
       "[3968 rows x 8 columns]"
      ]
     },
     "execution_count": 419,
     "metadata": {},
     "output_type": "execute_result"
    }
   ],
   "source": [
    "clean_products_df[clean_products_df['BARCODE'].isnull()]"
   ]
  },
  {
   "cell_type": "code",
   "execution_count": null,
   "metadata": {},
   "outputs": [],
   "source": []
  }
 ],
 "metadata": {
  "kernelspec": {
   "display_name": "newproject",
   "language": "python",
   "name": "python3"
  },
  "language_info": {
   "codemirror_mode": {
    "name": "ipython",
    "version": 3
   },
   "file_extension": ".py",
   "mimetype": "text/x-python",
   "name": "python",
   "nbconvert_exporter": "python",
   "pygments_lexer": "ipython3",
   "version": "3.11.4"
  }
 },
 "nbformat": 4,
 "nbformat_minor": 2
}
